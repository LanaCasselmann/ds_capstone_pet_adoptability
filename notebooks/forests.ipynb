{
 "cells": [
  {
   "cell_type": "markdown",
   "metadata": {},
   "source": [
    "# Modeling Pat Adoption with RandomForestClassifier"
   ]
  },
  {
   "cell_type": "markdown",
   "metadata": {},
   "source": [
    "This notebook will use the Random Trees Algorithm for prediction of pet's adoption speed\n",
    "- Metrics: Accuracy and Cohen's Weighted Kappa \n",
    "- Comparing model performance for cats and dogs combined vs. seperately. We will evaluate the overall accuracy for cats and dogs with \n",
    "  acc_combined_model = ((acc_cats * number_cats) + (acc_dogs * number_dogs))/(number_cats + number_dogs)"
   ]
  },
  {
   "cell_type": "code",
   "execution_count": 1,
   "metadata": {},
   "outputs": [],
   "source": [
    "# importing necessary libraries and dependencies\n",
    "\n",
    "import pandas as pd\n",
    "import numpy as np\n",
    "import matplotlib.pyplot as plt\n",
    "import seaborn as sns\n",
    "\n",
    "from sklearn.ensemble import RandomForestClassifier\n",
    "from sklearn.model_selection import GridSearchCV, RandomizedSearchCV\n",
    "from sklearn.metrics import accuracy_score \n",
    "from sklearn.metrics import classification_report, confusion_matrix\n",
    "\n",
    "# import custom functions\n",
    "from custom_functions import our_metrics, get_kappa, model_hyperparams\n",
    "\n",
    "# display options\n",
    "pd.set_option('display.max_rows', None)\n",
    "\n",
    "\n",
    "\n"
   ]
  },
  {
   "cell_type": "markdown",
   "metadata": {},
   "source": [
    "# Import processed data - Cats and Dogs Combined"
   ]
  },
  {
   "cell_type": "code",
   "execution_count": 2,
   "metadata": {},
   "outputs": [],
   "source": [
    "# import features\n",
    "X_train = pd.read_csv('../data/petfinder-adoption-prediction/train/X_train_minmax_scaled_processed.csv')\n",
    "X_test = pd.read_csv('../data/petfinder-adoption-prediction/train/X_test_minmax_scaled_processed.csv')\n",
    "\n",
    "# import target\n",
    "y_train = pd.read_csv('../data/petfinder-adoption-prediction/train/y_train.csv')\n",
    "y_test = pd.read_csv('../data/petfinder-adoption-prediction/train/y_test.csv')\n",
    "\n",
    "# turn target df into 1D-array\n",
    "y_train = y_train.values.ravel()\n",
    "y_test = y_test.values.ravel()                  "
   ]
  },
  {
   "cell_type": "markdown",
   "metadata": {},
   "source": [
    "# "
   ]
  },
  {
   "cell_type": "markdown",
   "metadata": {},
   "source": [
    "# Random Forest Default Model - Entire Data Set"
   ]
  },
  {
   "cell_type": "code",
   "execution_count": 3,
   "metadata": {},
   "outputs": [
    {
     "name": "stdout",
     "output_type": "stream",
     "text": [
      "__________________________________\n",
      "Average number of nodes in the forest: 8115\n",
      "__________________________________\n",
      "Average depth trees in the forest: 27\n",
      " \n",
      " \n"
     ]
    },
    {
     "data": {
      "text/html": [
       "<div>\n",
       "<style scoped>\n",
       "    .dataframe tbody tr th:only-of-type {\n",
       "        vertical-align: middle;\n",
       "    }\n",
       "\n",
       "    .dataframe tbody tr th {\n",
       "        vertical-align: top;\n",
       "    }\n",
       "\n",
       "    .dataframe thead th {\n",
       "        text-align: right;\n",
       "    }\n",
       "</style>\n",
       "<table border=\"1\" class=\"dataframe\">\n",
       "  <thead>\n",
       "    <tr style=\"text-align: right;\">\n",
       "      <th></th>\n",
       "      <th>set hyperparams</th>\n",
       "    </tr>\n",
       "  </thead>\n",
       "  <tbody>\n",
       "    <tr>\n",
       "      <th>bootstrap</th>\n",
       "      <td>True</td>\n",
       "    </tr>\n",
       "    <tr>\n",
       "      <th>ccp_alpha</th>\n",
       "      <td>0.0</td>\n",
       "    </tr>\n",
       "    <tr>\n",
       "      <th>class_weight</th>\n",
       "      <td>None</td>\n",
       "    </tr>\n",
       "    <tr>\n",
       "      <th>criterion</th>\n",
       "      <td>gini</td>\n",
       "    </tr>\n",
       "    <tr>\n",
       "      <th>max_depth</th>\n",
       "      <td>None</td>\n",
       "    </tr>\n",
       "    <tr>\n",
       "      <th>max_features</th>\n",
       "      <td>sqrt</td>\n",
       "    </tr>\n",
       "    <tr>\n",
       "      <th>max_leaf_nodes</th>\n",
       "      <td>None</td>\n",
       "    </tr>\n",
       "    <tr>\n",
       "      <th>max_samples</th>\n",
       "      <td>None</td>\n",
       "    </tr>\n",
       "    <tr>\n",
       "      <th>min_impurity_decrease</th>\n",
       "      <td>0.0</td>\n",
       "    </tr>\n",
       "    <tr>\n",
       "      <th>min_samples_leaf</th>\n",
       "      <td>1</td>\n",
       "    </tr>\n",
       "    <tr>\n",
       "      <th>min_samples_split</th>\n",
       "      <td>2</td>\n",
       "    </tr>\n",
       "    <tr>\n",
       "      <th>min_weight_fraction_leaf</th>\n",
       "      <td>0.0</td>\n",
       "    </tr>\n",
       "    <tr>\n",
       "      <th>n_estimators</th>\n",
       "      <td>100</td>\n",
       "    </tr>\n",
       "    <tr>\n",
       "      <th>n_jobs</th>\n",
       "      <td>None</td>\n",
       "    </tr>\n",
       "    <tr>\n",
       "      <th>oob_score</th>\n",
       "      <td>False</td>\n",
       "    </tr>\n",
       "    <tr>\n",
       "      <th>random_state</th>\n",
       "      <td>None</td>\n",
       "    </tr>\n",
       "    <tr>\n",
       "      <th>verbose</th>\n",
       "      <td>0</td>\n",
       "    </tr>\n",
       "    <tr>\n",
       "      <th>warm_start</th>\n",
       "      <td>False</td>\n",
       "    </tr>\n",
       "  </tbody>\n",
       "</table>\n",
       "</div>"
      ],
      "text/plain": [
       "                         set hyperparams\n",
       "bootstrap                           True\n",
       "ccp_alpha                            0.0\n",
       "class_weight                        None\n",
       "criterion                           gini\n",
       "max_depth                           None\n",
       "max_features                        sqrt\n",
       "max_leaf_nodes                      None\n",
       "max_samples                         None\n",
       "min_impurity_decrease                0.0\n",
       "min_samples_leaf                       1\n",
       "min_samples_split                      2\n",
       "min_weight_fraction_leaf             0.0\n",
       "n_estimators                         100\n",
       "n_jobs                              None\n",
       "oob_score                          False\n",
       "random_state                        None\n",
       "verbose                                0\n",
       "warm_start                         False"
      ]
     },
     "metadata": {},
     "output_type": "display_data"
    }
   ],
   "source": [
    "# instantiate and fit the default RFC on all features\n",
    "rf_def = RandomForestClassifier()\n",
    "rf_def.fit(X_train, y_train)\n",
    "\n",
    "# predict train-target\n",
    "rf_def_y_train_pred = rf_def.predict(X_train)\n",
    "# predict test-target\n",
    "rf_def_y_test_pred = rf_def.predict(X_test)\n",
    "\n",
    "# Average number of nodes and depths of trees in the forest\n",
    "n_nodes = []\n",
    "depths = []\n",
    "\n",
    "for single_tree in rf_def.estimators_:\n",
    "    n_nodes.append(single_tree.tree_.node_count)\n",
    "    depths.append(single_tree.tree_.max_depth)\n",
    "\n",
    "print('__________________________________')\n",
    "print(f'Average number of nodes in the forest: {int(np.mean(n_nodes))}')\n",
    "print('__________________________________')\n",
    "print(f'Average depth trees in the forest: {int(np.mean(depths))}')\n",
    "print(' ')\n",
    "print(' ')\n",
    "\n",
    "model_hyperparams(rf_def)"
   ]
  },
  {
   "cell_type": "code",
   "execution_count": 4,
   "metadata": {},
   "outputs": [
    {
     "name": "stdout",
     "output_type": "stream",
     "text": [
      "*** Model Evaluation: Predicting Train-Labels ***\n",
      "Model Metrics and Normalized Confusion Matrix:\n",
      "_____________________\n",
      "Accuracy: 0.9904\n",
      "_____________________\n",
      "Weighted Quadratic Kappa: 0.9918\n"
     ]
    },
    {
     "data": {
      "image/png": "[encoded data removed]",
      "text/plain": [
       "<Figure size 640x480 with 2 Axes>"
      ]
     },
     "metadata": {},
     "output_type": "display_data"
    }
   ],
   "source": [
    "# Metrics predicting Train-Target\n",
    "print('*** Model Evaluation: Predicting Train-Labels ***')\n",
    "our_metrics(y_train, rf_def_y_train_pred)"
   ]
  },
  {
   "cell_type": "code",
   "execution_count": 5,
   "metadata": {},
   "outputs": [
    {
     "name": "stdout",
     "output_type": "stream",
     "text": [
      "*** Model Evaluation: Predicting Test-Labels ***\n",
      "Model Metrics and Normalized Confusion Matrix:\n",
      "_____________________\n",
      "Accuracy: 0.3714\n",
      "_____________________\n",
      "Weighted Quadratic Kappa: 0.2564\n"
     ]
    },
    {
     "data": {
      "image/png": "[encoded data removed]",
      "text/plain": [
       "<Figure size 640x480 with 2 Axes>"
      ]
     },
     "metadata": {},
     "output_type": "display_data"
    }
   ],
   "source": [
    "# Metrics predicting Test-Target\n",
    "print('*** Model Evaluation: Predicting Test-Labels ***')\n",
    "our_metrics(y_test, rf_def_y_test_pred)"
   ]
  },
  {
   "cell_type": "code",
   "execution_count": 6,
   "metadata": {},
   "outputs": [
    {
     "data": {
      "text/plain": [
       "Index(['type', 'gender', 'sterilized', 'breed_type', 'vaccinated_dewormed',\n",
       "       'fee_bin', 'maturitysize_0', 'maturitysize_1', 'maturitysize_2',\n",
       "       'maturitysize_3', 'furlength_0', 'furlength_1', 'furlength_2',\n",
       "       'health_0', 'health_1', 'health_2', 'color_pattern_0',\n",
       "       'color_pattern_1', 'color_pattern_2', 'photoamt_11', 'age_bin',\n",
       "       'description_char'],\n",
       "      dtype='object')"
      ]
     },
     "execution_count": 6,
     "metadata": {},
     "output_type": "execute_result"
    }
   ],
   "source": [
    "X_test.columns"
   ]
  },
  {
   "cell_type": "markdown",
   "metadata": {},
   "source": [
    "# Random Forest Grid Search Accuracy - Entire Data Set"
   ]
  },
  {
   "cell_type": "code",
   "execution_count": 7,
   "metadata": {},
   "outputs": [],
   "source": [
    "# # Hyperparameter grid based on hyperparameters of the default model for best accuracy:\n",
    "\n",
    "# # setting hyperparameter grid:\n",
    "# param_grid = {\n",
    "#     'n_estimators': [500],\n",
    "#     'max_depth': [None] + list(np.arange(10, 28)),\n",
    "#     'max_features': [None] + list(np.arange(1,5)),\n",
    "#     'min_samples_split': np.linspace(20, 200, 10).astype(int),\n",
    "#     'min_samples_leaf': np.linspace(10, 100, 10).astype(int),\n",
    "#     'bootstrap': [True, False]\n",
    "# }\n",
    "\n",
    "# # Estimator for use in random search\n",
    "# estimator = RandomForestClassifier(random_state = 42)\n",
    "\n",
    "# # Create the random search model for best accuracy_score and 250 fits:\n",
    "# rf_rgs_acc = RandomizedSearchCV(estimator, param_grid, n_jobs = -1, \n",
    "#                         scoring = 'accuracy', cv = 5, \n",
    "#                         n_iter = 50, verbose = 1, random_state=42)\n",
    "\n",
    "# # Fit best model estimated by random search to train data:\n",
    "# rf_rgs_acc.fit(X_train, y_train)"
   ]
  },
  {
   "cell_type": "code",
   "execution_count": 8,
   "metadata": {},
   "outputs": [],
   "source": [
    "# # check hyperparameters of best estimator \n",
    "# rf_rgs_acc.best_params_"
   ]
  },
  {
   "cell_type": "code",
   "execution_count": 9,
   "metadata": {},
   "outputs": [],
   "source": [
    "# # instantiate model with best estimators as found by random grid search accuracy\n",
    "# rf_rgs_acc_model = rf_rgs_acc.best_estimator_\n",
    "\n",
    "# # predict train-target\n",
    "# rf_rgs_y_train_pred = rf_rgs_acc_model.predict(X_train)\n",
    "# # predict test-target\n",
    "# rf_rgs_y_test_pred = rf_rgs_acc_model.predict(X_test)\n",
    "\n",
    "# # Average number of nodes and depths of trees in the forest\n",
    "# n_nodes = []\n",
    "# depths = []\n",
    "\n",
    "# for single_tree in rf_rgs_acc_model.estimators_:\n",
    "#     n_nodes.append(single_tree.tree_.node_count)\n",
    "#     depths.append(single_tree.tree_.max_depth)\n",
    "\n",
    "# print('__________________________________')\n",
    "# print(f'Average number of nodes in the forest: {int(np.mean(n_nodes))}')\n",
    "# print('__________________________________')\n",
    "# print(f'Average depth trees in the forest: {int(np.mean(depths))}')\n",
    "# print(' ')\n",
    "# print(' ')\n",
    "\n",
    "# model_hyperparams(rf_rgs_acc_model)"
   ]
  },
  {
   "cell_type": "code",
   "execution_count": 10,
   "metadata": {},
   "outputs": [],
   "source": [
    "# # Metrics predicting Train-Target\n",
    "# print('*** Model Evaluation: Predicting Train-Labels ***')\n",
    "# our_metrics(y_train, rf_rgs_y_train_pred)"
   ]
  },
  {
   "cell_type": "code",
   "execution_count": 11,
   "metadata": {},
   "outputs": [],
   "source": [
    "# # Metrics predicting Train-Target\n",
    "# print('*** Model Evaluation: Predicting Test-Labels ***')\n",
    "# our_metrics(y_test, rf_rgs_y_test_pred)"
   ]
  },
  {
   "cell_type": "markdown",
   "metadata": {},
   "source": [
    "# Random Forest Grid Search Kappa - Entire Data Set"
   ]
  },
  {
   "cell_type": "code",
   "execution_count": 12,
   "metadata": {},
   "outputs": [],
   "source": [
    "# # Hyperparameter grid based on hyperparameters of the default model for best kappa:\n",
    "\n",
    "# # defining kappa\n",
    "# kappa = get_kappa()\n",
    "\n",
    "# # setting hyperparameter grid:\n",
    "# param_grid = {\n",
    "#     'n_estimators': [500],\n",
    "#     'max_depth': [None] + list(np.arange(10, 28)),\n",
    "#     'max_features': [None] + list(np.arange(1,5)),\n",
    "#     'min_samples_split': np.linspace(20, 200, 10).astype(int),\n",
    "#     'min_samples_leaf': np.linspace(10, 100, 10).astype(int),\n",
    "#     'bootstrap': [True, False]\n",
    "# }\n",
    "\n",
    "# # Estimator for use in random search\n",
    "# estimator = RandomForestClassifier(random_state = 42)\n",
    "\n",
    "# # Create the random search model for best accuracy_score and 250 fits:\n",
    "# rf_rgs_kappa = RandomizedSearchCV(estimator, param_grid, n_jobs = -1, \n",
    "#                         scoring = kappa, cv = 5, \n",
    "#                         n_iter = 50, verbose = 1, random_state=42)\n",
    "\n",
    "# # Fit best model estimated by random search to train data:\n",
    "# rf_rgs_kappa.fit(X_train, y_train)"
   ]
  },
  {
   "cell_type": "code",
   "execution_count": 13,
   "metadata": {},
   "outputs": [],
   "source": [
    "# # check hyperparameters of best estimator:\n",
    "# rf_rgs_kappa.best_params_"
   ]
  },
  {
   "cell_type": "code",
   "execution_count": 14,
   "metadata": {},
   "outputs": [],
   "source": [
    "# # instantiate model with best estimators as found by random grid search accuracy\n",
    "# rf_rgs_kappa_model = rf_rgs_kappa.best_estimator_\n",
    "\n",
    "# # predict train-target\n",
    "# rf_rgs_y_train_pred = rf_rgs_kappa_model.predict(X_train)\n",
    "# # predict test-target\n",
    "# rf_rgs_y_test_pred = rf_rgs_kappa_model.predict(X_test)\n",
    "\n",
    "# # Average number of nodes and depths of trees in the forest\n",
    "# n_nodes = []\n",
    "# depths = []\n",
    "\n",
    "# for single_tree in rf_rgs_kappa_model.estimators_:\n",
    "#     n_nodes.append(single_tree.tree_.node_count)\n",
    "#     depths.append(single_tree.tree_.max_depth)\n",
    "\n",
    "# print('__________________________________')\n",
    "# print(f'Average number of nodes in the forest: {int(np.mean(n_nodes))}')\n",
    "# print('__________________________________')\n",
    "# print(f'Average depth trees in the forest: {int(np.mean(depths))}')\n",
    "# print(' ')\n",
    "# print(' ')\n",
    "\n",
    "# model_hyperparams(rf_rgs_kappa_model)"
   ]
  },
  {
   "cell_type": "code",
   "execution_count": 15,
   "metadata": {},
   "outputs": [],
   "source": [
    "# # Metrics predicting Test-Target\n",
    "# print('*** Model Evaluation: Predicting Test-Labels ***')\n",
    "# our_metrics(y_test, rf_rgs_y_test_pred)"
   ]
  },
  {
   "cell_type": "markdown",
   "metadata": {},
   "source": [
    "# Random Forest Grid Search Accuracy: Entire Data Set"
   ]
  },
  {
   "cell_type": "code",
   "execution_count": 16,
   "metadata": {},
   "outputs": [],
   "source": [
    "# # Hyperparameter grid based on hyperparameters of the default model for best accuracy:\n",
    "\n",
    "# # setting hyperparameter grid:\n",
    "# param_grid = {\n",
    "#     'n_estimators': [500],\n",
    "#     'max_depth': [20, 21, 22],\n",
    "#     'max_features': [4],\n",
    "#     'min_samples_split': [49,50,51],\n",
    "#     'min_samples_leaf': [14, 15, 16],\n",
    "#     'bootstrap': [False]\n",
    "# }\n",
    "\n",
    "# # Estimator for use in random search\n",
    "# estimator = RandomForestClassifier(random_state = 42)\n",
    "\n",
    "# # Create the random search model for best accuracy_score and 250 fits:\n",
    "# rf_gs_acc = GridSearchCV(estimator, param_grid, n_jobs = -1, scoring = 'accuracy', cv = 5, verbose = 1)\n",
    "\n",
    "# # Fit best model estimated by random search to train data:\n",
    "# rf_gs_acc.fit(X_train, y_train)"
   ]
  },
  {
   "cell_type": "code",
   "execution_count": 17,
   "metadata": {},
   "outputs": [],
   "source": [
    "# # check hyperparameters of best estimator:\n",
    "# rf_gs_acc.best_params_"
   ]
  },
  {
   "cell_type": "code",
   "execution_count": 18,
   "metadata": {},
   "outputs": [],
   "source": [
    "# # instantiate model with best estimators as found by grid search accuracy\n",
    "# rf_gs_acc_model = rf_gs_acc.best_estimator_\n",
    "\n",
    "# # predict train-target\n",
    "# rf_gs_y_train_pred = rf_gs_acc_model.predict(X_train)\n",
    "# # predict test-target\n",
    "# rf_gs_y_test_pred = rf_gs_acc_model.predict(X_test)\n",
    "\n",
    "# # Average number of nodes and depths of trees in the forest\n",
    "# n_nodes = []\n",
    "# depths = []\n",
    "\n",
    "# for single_tree in rf_gs_acc_model.estimators_:\n",
    "#     n_nodes.append(single_tree.tree_.node_count)\n",
    "#     depths.append(single_tree.tree_.max_depth)\n",
    "\n",
    "# print('__________________________________')\n",
    "# print(f'Average number of nodes in the forest: {int(np.mean(n_nodes))}')\n",
    "# print('__________________________________')\n",
    "# print(f'Average depth trees in the forest: {int(np.mean(depths))}')\n",
    "# print(' ')\n",
    "# print(' ')\n",
    "\n",
    "# model_hyperparams(rf_gs_acc_model)"
   ]
  },
  {
   "cell_type": "code",
   "execution_count": 19,
   "metadata": {},
   "outputs": [],
   "source": [
    "# # Metrics predicting Train-Target\n",
    "# print('*** Model Evaluation: Predicting Train-Labels ***')\n",
    "# our_metrics(y_train, rf_gs_y_train_pred)"
   ]
  },
  {
   "cell_type": "code",
   "execution_count": 20,
   "metadata": {},
   "outputs": [],
   "source": [
    "# # Metrics predicting Test-Target\n",
    "# print('*** Model Evaluation: Predicting Test-Labels ***')\n",
    "# our_metrics(y_test, rf_gs_y_test_pred)"
   ]
  },
  {
   "cell_type": "markdown",
   "metadata": {},
   "source": [
    "# Combine Target Categories 2+3"
   ]
  },
  {
   "cell_type": "code",
   "execution_count": 21,
   "metadata": {},
   "outputs": [],
   "source": [
    "# combine Target 2 and 3 (3 categories)\n",
    "y_train_3 = [2 if x == 3 else x for x in y_train]\n",
    "y_test_3 = [2 if x == 3 else x for x in y_test]"
   ]
  },
  {
   "cell_type": "code",
   "execution_count": 22,
   "metadata": {},
   "outputs": [
    {
     "name": "stdout",
     "output_type": "stream",
     "text": [
      "[1 2 3 4] [2077 2372 1914 2310]\n"
     ]
    }
   ],
   "source": [
    "# check if that worked\n",
    "unique, counts = np.unique(y_train, return_counts=True)\n",
    "print(unique, counts)"
   ]
  },
  {
   "cell_type": "code",
   "execution_count": 23,
   "metadata": {},
   "outputs": [],
   "source": [
    "# # fit model as found in grid search to new target\n",
    "# rf_gs_model_3 = rf_gs_acc.best_estimator_\n",
    "# rf_gs_model_3.fit(X_train, y_train_3)"
   ]
  },
  {
   "cell_type": "code",
   "execution_count": 24,
   "metadata": {},
   "outputs": [],
   "source": [
    "# # predict train-target\n",
    "# rf_gs_y_train_3_pred = rf_gs_model_3.predict(X_train)\n",
    "\n",
    "# # Metrics predicting Train-Target\n",
    "# print('*** Model Evaluation: Predicting Train-Labels ***')\n",
    "# our_metrics(y_train_3, rf_gs_y_train_3_pred)\n"
   ]
  },
  {
   "cell_type": "code",
   "execution_count": 25,
   "metadata": {},
   "outputs": [],
   "source": [
    "# # predict Test-Target\n",
    "# rf_gs_y_test_3_pred = rf_gs_model_3.predict(X_test)\n",
    "\n",
    "# # Metrics predicting Test-Target\n",
    "# print('*** Model Evaluation: Predicting Test-Labels ***')\n",
    "# our_metrics(y_test_3, rf_gs_y_test_3_pred)"
   ]
  },
  {
   "cell_type": "markdown",
   "metadata": {},
   "source": [
    "# Random Forest Default Model - Dogs"
   ]
  },
  {
   "cell_type": "code",
   "execution_count": 26,
   "metadata": {},
   "outputs": [],
   "source": [
    "# read in dogs features and target (4 categories)\n",
    "X_train_dogs = pd.read_csv('../data/petfinder-adoption-prediction/train/X_train_dogs_all.csv')\n",
    "y_train_dogs_4 = pd.read_csv('../data/petfinder-adoption-prediction/train/y_train_dogs.csv')\n",
    "\n",
    "X_test_dogs = pd.read_csv('../data/petfinder-adoption-prediction/train/X_test_dogs_all.csv')\n",
    "y_test_dogs_4 = pd.read_csv('../data/petfinder-adoption-prediction/train/y_test_dogs.csv')"
   ]
  },
  {
   "cell_type": "code",
   "execution_count": 29,
   "metadata": {},
   "outputs": [
    {
     "data": {
      "text/html": [
       "<div>\n",
       "<style scoped>\n",
       "    .dataframe tbody tr th:only-of-type {\n",
       "        vertical-align: middle;\n",
       "    }\n",
       "\n",
       "    .dataframe tbody tr th {\n",
       "        vertical-align: top;\n",
       "    }\n",
       "\n",
       "    .dataframe thead th {\n",
       "        text-align: right;\n",
       "    }\n",
       "</style>\n",
       "<table border=\"1\" class=\"dataframe\">\n",
       "  <thead>\n",
       "    <tr style=\"text-align: right;\">\n",
       "      <th></th>\n",
       "      <th>type</th>\n",
       "      <th>sterilized</th>\n",
       "      <th>breed_type</th>\n",
       "      <th>vaccinated_dewormed</th>\n",
       "      <th>fee_bin</th>\n",
       "      <th>gender_0</th>\n",
       "      <th>gender_1</th>\n",
       "      <th>maturitysize_0</th>\n",
       "      <th>maturitysize_1</th>\n",
       "      <th>maturitysize_2</th>\n",
       "      <th>...</th>\n",
       "      <th>furlength_2</th>\n",
       "      <th>health_0</th>\n",
       "      <th>health_1</th>\n",
       "      <th>health_2</th>\n",
       "      <th>color_pattern_0</th>\n",
       "      <th>color_pattern_1</th>\n",
       "      <th>color_pattern_2</th>\n",
       "      <th>photoamt_11</th>\n",
       "      <th>age_bin</th>\n",
       "      <th>description_char</th>\n",
       "    </tr>\n",
       "  </thead>\n",
       "  <tbody>\n",
       "    <tr>\n",
       "      <th>0</th>\n",
       "      <td>0</td>\n",
       "      <td>1</td>\n",
       "      <td>1</td>\n",
       "      <td>0</td>\n",
       "      <td>0</td>\n",
       "      <td>1</td>\n",
       "      <td>0</td>\n",
       "      <td>0</td>\n",
       "      <td>1</td>\n",
       "      <td>0</td>\n",
       "      <td>...</td>\n",
       "      <td>0</td>\n",
       "      <td>1</td>\n",
       "      <td>0</td>\n",
       "      <td>0</td>\n",
       "      <td>1</td>\n",
       "      <td>0</td>\n",
       "      <td>0</td>\n",
       "      <td>0.272727</td>\n",
       "      <td>0.000000</td>\n",
       "      <td>0.139556</td>\n",
       "    </tr>\n",
       "    <tr>\n",
       "      <th>1</th>\n",
       "      <td>0</td>\n",
       "      <td>1</td>\n",
       "      <td>1</td>\n",
       "      <td>1</td>\n",
       "      <td>0</td>\n",
       "      <td>0</td>\n",
       "      <td>1</td>\n",
       "      <td>0</td>\n",
       "      <td>1</td>\n",
       "      <td>0</td>\n",
       "      <td>...</td>\n",
       "      <td>0</td>\n",
       "      <td>1</td>\n",
       "      <td>0</td>\n",
       "      <td>0</td>\n",
       "      <td>0</td>\n",
       "      <td>1</td>\n",
       "      <td>0</td>\n",
       "      <td>0.272727</td>\n",
       "      <td>0.333333</td>\n",
       "      <td>0.022659</td>\n",
       "    </tr>\n",
       "    <tr>\n",
       "      <th>2</th>\n",
       "      <td>0</td>\n",
       "      <td>1</td>\n",
       "      <td>1</td>\n",
       "      <td>2</td>\n",
       "      <td>0</td>\n",
       "      <td>1</td>\n",
       "      <td>0</td>\n",
       "      <td>0</td>\n",
       "      <td>1</td>\n",
       "      <td>0</td>\n",
       "      <td>...</td>\n",
       "      <td>0</td>\n",
       "      <td>1</td>\n",
       "      <td>0</td>\n",
       "      <td>0</td>\n",
       "      <td>1</td>\n",
       "      <td>0</td>\n",
       "      <td>0</td>\n",
       "      <td>0.181818</td>\n",
       "      <td>0.333333</td>\n",
       "      <td>0.071579</td>\n",
       "    </tr>\n",
       "    <tr>\n",
       "      <th>3</th>\n",
       "      <td>0</td>\n",
       "      <td>1</td>\n",
       "      <td>1</td>\n",
       "      <td>0</td>\n",
       "      <td>0</td>\n",
       "      <td>1</td>\n",
       "      <td>0</td>\n",
       "      <td>0</td>\n",
       "      <td>1</td>\n",
       "      <td>0</td>\n",
       "      <td>...</td>\n",
       "      <td>0</td>\n",
       "      <td>1</td>\n",
       "      <td>0</td>\n",
       "      <td>0</td>\n",
       "      <td>0</td>\n",
       "      <td>0</td>\n",
       "      <td>1</td>\n",
       "      <td>0.454545</td>\n",
       "      <td>0.000000</td>\n",
       "      <td>0.009454</td>\n",
       "    </tr>\n",
       "    <tr>\n",
       "      <th>4</th>\n",
       "      <td>0</td>\n",
       "      <td>1</td>\n",
       "      <td>1</td>\n",
       "      <td>2</td>\n",
       "      <td>0</td>\n",
       "      <td>0</td>\n",
       "      <td>1</td>\n",
       "      <td>0</td>\n",
       "      <td>1</td>\n",
       "      <td>0</td>\n",
       "      <td>...</td>\n",
       "      <td>0</td>\n",
       "      <td>1</td>\n",
       "      <td>0</td>\n",
       "      <td>0</td>\n",
       "      <td>0</td>\n",
       "      <td>0</td>\n",
       "      <td>1</td>\n",
       "      <td>0.363636</td>\n",
       "      <td>0.666667</td>\n",
       "      <td>0.092437</td>\n",
       "    </tr>\n",
       "  </tbody>\n",
       "</table>\n",
       "<p>5 rows × 23 columns</p>\n",
       "</div>"
      ],
      "text/plain": [
       "   type  sterilized  breed_type  vaccinated_dewormed  fee_bin  gender_0   \n",
       "0     0           1           1                    0        0         1  \\\n",
       "1     0           1           1                    1        0         0   \n",
       "2     0           1           1                    2        0         1   \n",
       "3     0           1           1                    0        0         1   \n",
       "4     0           1           1                    2        0         0   \n",
       "\n",
       "   gender_1  maturitysize_0  maturitysize_1  maturitysize_2  ...  furlength_2   \n",
       "0         0               0               1               0  ...            0  \\\n",
       "1         1               0               1               0  ...            0   \n",
       "2         0               0               1               0  ...            0   \n",
       "3         0               0               1               0  ...            0   \n",
       "4         1               0               1               0  ...            0   \n",
       "\n",
       "   health_0  health_1  health_2  color_pattern_0  color_pattern_1   \n",
       "0         1         0         0                1                0  \\\n",
       "1         1         0         0                0                1   \n",
       "2         1         0         0                1                0   \n",
       "3         1         0         0                0                0   \n",
       "4         1         0         0                0                0   \n",
       "\n",
       "   color_pattern_2  photoamt_11   age_bin  description_char  \n",
       "0                0     0.272727  0.000000          0.139556  \n",
       "1                0     0.272727  0.333333          0.022659  \n",
       "2                0     0.181818  0.333333          0.071579  \n",
       "3                1     0.454545  0.000000          0.009454  \n",
       "4                1     0.363636  0.666667          0.092437  \n",
       "\n",
       "[5 rows x 23 columns]"
      ]
     },
     "execution_count": 29,
     "metadata": {},
     "output_type": "execute_result"
    }
   ],
   "source": [
    "X_train_dogs.head()"
   ]
  },
  {
   "cell_type": "code",
   "execution_count": 28,
   "metadata": {},
   "outputs": [
    {
     "name": "stderr",
     "output_type": "stream",
     "text": [
      "/var/folders/0r/8xzhnvk55wbfn1wf1m61sm5h0000gn/T/ipykernel_5281/4079010252.py:3: DataConversionWarning: A column-vector y was passed when a 1d array was expected. Please change the shape of y to (n_samples,), for example using ravel().\n",
      "  rf_def_dogs.fit(X_train_dogs, y_train_dogs_4)\n"
     ]
    },
    {
     "ename": "ValueError",
     "evalue": "The feature names should match those that were passed during fit.\nFeature names unseen at fit time:\n- gender_0\n- gender_1\nFeature names seen at fit time, yet now missing:\n- gender\n",
     "output_type": "error",
     "traceback": [
      "\u001b[0;31m---------------------------------------------------------------------------\u001b[0m",
      "\u001b[0;31mValueError\u001b[0m                                Traceback (most recent call last)",
      "Cell \u001b[0;32mIn[28], line 6\u001b[0m\n\u001b[1;32m      3\u001b[0m rf_def_dogs\u001b[39m.\u001b[39mfit(X_train_dogs, y_train_dogs_4)\n\u001b[1;32m      5\u001b[0m \u001b[39m# predict train-target\u001b[39;00m\n\u001b[0;32m----> 6\u001b[0m rf_def_dogs_y_train_pred \u001b[39m=\u001b[39m rf_def\u001b[39m.\u001b[39;49mpredict(X_train_dogs)\n\u001b[1;32m      7\u001b[0m \u001b[39m# predict test-target\u001b[39;00m\n\u001b[1;32m      8\u001b[0m rf_def_dogs_y_test_pred \u001b[39m=\u001b[39m rf_def\u001b[39m.\u001b[39mpredict(X_test_dogs)\n",
      "File \u001b[0;32m~/neuefische/ds_capstone_pet_adoptability/.venv/lib/python3.11/site-packages/sklearn/ensemble/_forest.py:820\u001b[0m, in \u001b[0;36mForestClassifier.predict\u001b[0;34m(self, X)\u001b[0m\n\u001b[1;32m    799\u001b[0m \u001b[39mdef\u001b[39;00m \u001b[39mpredict\u001b[39m(\u001b[39mself\u001b[39m, X):\n\u001b[1;32m    800\u001b[0m \u001b[39m    \u001b[39m\u001b[39m\"\"\"\u001b[39;00m\n\u001b[1;32m    801\u001b[0m \u001b[39m    Predict class for X.\u001b[39;00m\n\u001b[1;32m    802\u001b[0m \n\u001b[0;32m   (...)\u001b[0m\n\u001b[1;32m    818\u001b[0m \u001b[39m        The predicted classes.\u001b[39;00m\n\u001b[1;32m    819\u001b[0m \u001b[39m    \"\"\"\u001b[39;00m\n\u001b[0;32m--> 820\u001b[0m     proba \u001b[39m=\u001b[39m \u001b[39mself\u001b[39;49m\u001b[39m.\u001b[39;49mpredict_proba(X)\n\u001b[1;32m    822\u001b[0m     \u001b[39mif\u001b[39;00m \u001b[39mself\u001b[39m\u001b[39m.\u001b[39mn_outputs_ \u001b[39m==\u001b[39m \u001b[39m1\u001b[39m:\n\u001b[1;32m    823\u001b[0m         \u001b[39mreturn\u001b[39;00m \u001b[39mself\u001b[39m\u001b[39m.\u001b[39mclasses_\u001b[39m.\u001b[39mtake(np\u001b[39m.\u001b[39margmax(proba, axis\u001b[39m=\u001b[39m\u001b[39m1\u001b[39m), axis\u001b[39m=\u001b[39m\u001b[39m0\u001b[39m)\n",
      "File \u001b[0;32m~/neuefische/ds_capstone_pet_adoptability/.venv/lib/python3.11/site-packages/sklearn/ensemble/_forest.py:862\u001b[0m, in \u001b[0;36mForestClassifier.predict_proba\u001b[0;34m(self, X)\u001b[0m\n\u001b[1;32m    860\u001b[0m check_is_fitted(\u001b[39mself\u001b[39m)\n\u001b[1;32m    861\u001b[0m \u001b[39m# Check data\u001b[39;00m\n\u001b[0;32m--> 862\u001b[0m X \u001b[39m=\u001b[39m \u001b[39mself\u001b[39;49m\u001b[39m.\u001b[39;49m_validate_X_predict(X)\n\u001b[1;32m    864\u001b[0m \u001b[39m# Assign chunk of trees to jobs\u001b[39;00m\n\u001b[1;32m    865\u001b[0m n_jobs, _, _ \u001b[39m=\u001b[39m _partition_estimators(\u001b[39mself\u001b[39m\u001b[39m.\u001b[39mn_estimators, \u001b[39mself\u001b[39m\u001b[39m.\u001b[39mn_jobs)\n",
      "File \u001b[0;32m~/neuefische/ds_capstone_pet_adoptability/.venv/lib/python3.11/site-packages/sklearn/ensemble/_forest.py:602\u001b[0m, in \u001b[0;36mBaseForest._validate_X_predict\u001b[0;34m(self, X)\u001b[0m\n\u001b[1;32m    599\u001b[0m \u001b[39m\u001b[39m\u001b[39m\"\"\"\u001b[39;00m\n\u001b[1;32m    600\u001b[0m \u001b[39mValidate X whenever one tries to predict, apply, predict_proba.\"\"\"\u001b[39;00m\n\u001b[1;32m    601\u001b[0m check_is_fitted(\u001b[39mself\u001b[39m)\n\u001b[0;32m--> 602\u001b[0m X \u001b[39m=\u001b[39m \u001b[39mself\u001b[39;49m\u001b[39m.\u001b[39;49m_validate_data(X, dtype\u001b[39m=\u001b[39;49mDTYPE, accept_sparse\u001b[39m=\u001b[39;49m\u001b[39m\"\u001b[39;49m\u001b[39mcsr\u001b[39;49m\u001b[39m\"\u001b[39;49m, reset\u001b[39m=\u001b[39;49m\u001b[39mFalse\u001b[39;49;00m)\n\u001b[1;32m    603\u001b[0m \u001b[39mif\u001b[39;00m issparse(X) \u001b[39mand\u001b[39;00m (X\u001b[39m.\u001b[39mindices\u001b[39m.\u001b[39mdtype \u001b[39m!=\u001b[39m np\u001b[39m.\u001b[39mintc \u001b[39mor\u001b[39;00m X\u001b[39m.\u001b[39mindptr\u001b[39m.\u001b[39mdtype \u001b[39m!=\u001b[39m np\u001b[39m.\u001b[39mintc):\n\u001b[1;32m    604\u001b[0m     \u001b[39mraise\u001b[39;00m \u001b[39mValueError\u001b[39;00m(\u001b[39m\"\u001b[39m\u001b[39mNo support for np.int64 index based sparse matrices\u001b[39m\u001b[39m\"\u001b[39m)\n",
      "File \u001b[0;32m~/neuefische/ds_capstone_pet_adoptability/.venv/lib/python3.11/site-packages/sklearn/base.py:548\u001b[0m, in \u001b[0;36mBaseEstimator._validate_data\u001b[0;34m(self, X, y, reset, validate_separately, **check_params)\u001b[0m\n\u001b[1;32m    483\u001b[0m \u001b[39mdef\u001b[39;00m \u001b[39m_validate_data\u001b[39m(\n\u001b[1;32m    484\u001b[0m     \u001b[39mself\u001b[39m,\n\u001b[1;32m    485\u001b[0m     X\u001b[39m=\u001b[39m\u001b[39m\"\u001b[39m\u001b[39mno_validation\u001b[39m\u001b[39m\"\u001b[39m,\n\u001b[0;32m   (...)\u001b[0m\n\u001b[1;32m    489\u001b[0m     \u001b[39m*\u001b[39m\u001b[39m*\u001b[39mcheck_params,\n\u001b[1;32m    490\u001b[0m ):\n\u001b[1;32m    491\u001b[0m \u001b[39m    \u001b[39m\u001b[39m\"\"\"Validate input data and set or check the `n_features_in_` attribute.\u001b[39;00m\n\u001b[1;32m    492\u001b[0m \n\u001b[1;32m    493\u001b[0m \u001b[39m    Parameters\u001b[39;00m\n\u001b[0;32m   (...)\u001b[0m\n\u001b[1;32m    546\u001b[0m \u001b[39m        validated.\u001b[39;00m\n\u001b[1;32m    547\u001b[0m \u001b[39m    \"\"\"\u001b[39;00m\n\u001b[0;32m--> 548\u001b[0m     \u001b[39mself\u001b[39;49m\u001b[39m.\u001b[39;49m_check_feature_names(X, reset\u001b[39m=\u001b[39;49mreset)\n\u001b[1;32m    550\u001b[0m     \u001b[39mif\u001b[39;00m y \u001b[39mis\u001b[39;00m \u001b[39mNone\u001b[39;00m \u001b[39mand\u001b[39;00m \u001b[39mself\u001b[39m\u001b[39m.\u001b[39m_get_tags()[\u001b[39m\"\u001b[39m\u001b[39mrequires_y\u001b[39m\u001b[39m\"\u001b[39m]:\n\u001b[1;32m    551\u001b[0m         \u001b[39mraise\u001b[39;00m \u001b[39mValueError\u001b[39;00m(\n\u001b[1;32m    552\u001b[0m             \u001b[39mf\u001b[39m\u001b[39m\"\u001b[39m\u001b[39mThis \u001b[39m\u001b[39m{\u001b[39;00m\u001b[39mself\u001b[39m\u001b[39m.\u001b[39m\u001b[39m__class__\u001b[39m\u001b[39m.\u001b[39m\u001b[39m__name__\u001b[39m\u001b[39m}\u001b[39;00m\u001b[39m estimator \u001b[39m\u001b[39m\"\u001b[39m\n\u001b[1;32m    553\u001b[0m             \u001b[39m\"\u001b[39m\u001b[39mrequires y to be passed, but the target y is None.\u001b[39m\u001b[39m\"\u001b[39m\n\u001b[1;32m    554\u001b[0m         )\n",
      "File \u001b[0;32m~/neuefische/ds_capstone_pet_adoptability/.venv/lib/python3.11/site-packages/sklearn/base.py:481\u001b[0m, in \u001b[0;36mBaseEstimator._check_feature_names\u001b[0;34m(self, X, reset)\u001b[0m\n\u001b[1;32m    476\u001b[0m \u001b[39mif\u001b[39;00m \u001b[39mnot\u001b[39;00m missing_names \u001b[39mand\u001b[39;00m \u001b[39mnot\u001b[39;00m unexpected_names:\n\u001b[1;32m    477\u001b[0m     message \u001b[39m+\u001b[39m\u001b[39m=\u001b[39m (\n\u001b[1;32m    478\u001b[0m         \u001b[39m\"\u001b[39m\u001b[39mFeature names must be in the same order as they were in fit.\u001b[39m\u001b[39m\\n\u001b[39;00m\u001b[39m\"\u001b[39m\n\u001b[1;32m    479\u001b[0m     )\n\u001b[0;32m--> 481\u001b[0m \u001b[39mraise\u001b[39;00m \u001b[39mValueError\u001b[39;00m(message)\n",
      "\u001b[0;31mValueError\u001b[0m: The feature names should match those that were passed during fit.\nFeature names unseen at fit time:\n- gender_0\n- gender_1\nFeature names seen at fit time, yet now missing:\n- gender\n"
     ]
    }
   ],
   "source": [
    "# instantiate and fit the default RFC on dogs\n",
    "rf_def_dogs = RandomForestClassifier()\n",
    "rf_def_dogs.fit(X_train_dogs, y_train_dogs_4)\n",
    "\n",
    "# predict train-target\n",
    "rf_def_dogs_y_train_pred = rf_def.predict(X_train_dogs)\n",
    "# predict test-target\n",
    "rf_def_dogs_y_test_pred = rf_def.predict(X_test_dogs)\n",
    "\n",
    "# Average number of nodes and depths of trees in the forest\n",
    "n_nodes = []\n",
    "depths = []\n",
    "\n",
    "for single_tree in rf_def_dogs.estimators_:\n",
    "    n_nodes.append(single_tree.tree_.node_count)\n",
    "    depths.append(single_tree.tree_.max_depth)\n",
    "\n",
    "print('__________________________________')\n",
    "print(f'Average number of nodes in the forest: {int(np.mean(n_nodes))}')\n",
    "print('__________________________________')\n",
    "print(f'Average depth trees in the forest: {int(np.mean(depths))}')\n",
    "print(' ')\n",
    "print(' ')\n",
    "\n",
    "model_hyperparams(rf_def_dogs)"
   ]
  },
  {
   "cell_type": "markdown",
   "metadata": {},
   "source": [
    "# Random Forest Default Model - Cats"
   ]
  },
  {
   "cell_type": "markdown",
   "metadata": {},
   "source": [
    "# Feature Importance"
   ]
  },
  {
   "cell_type": "code",
   "execution_count": null,
   "metadata": {},
   "outputs": [
    {
     "ename": "NameError",
     "evalue": "name 'best_rs_model' is not defined",
     "output_type": "error",
     "traceback": [
      "\u001b[0;31m---------------------------------------------------------------------------\u001b[0m",
      "\u001b[0;31mNameError\u001b[0m                                 Traceback (most recent call last)",
      "Cell \u001b[0;32mIn[10], line 5\u001b[0m\n\u001b[1;32m      1\u001b[0m features \u001b[39m=\u001b[39m X_train\u001b[39m.\u001b[39mcolumns\u001b[39m.\u001b[39mtolist()\n\u001b[1;32m      3\u001b[0m \u001b[39m# data frame with feature names and feature importance scores, sorted by importance\u001b[39;00m\n\u001b[1;32m      4\u001b[0m feature_importance \u001b[39m=\u001b[39m pd\u001b[39m.\u001b[39mDataFrame({\u001b[39m'\u001b[39m\u001b[39mfeature\u001b[39m\u001b[39m'\u001b[39m: features,\n\u001b[0;32m----> 5\u001b[0m                    \u001b[39m'\u001b[39m\u001b[39mimportance\u001b[39m\u001b[39m'\u001b[39m: best_rs_model\u001b[39m.\u001b[39mfeature_importances_})\u001b[39m.\u001b[39m\\\n\u001b[1;32m      6\u001b[0m                     sort_values(\u001b[39m'\u001b[39m\u001b[39mimportance\u001b[39m\u001b[39m'\u001b[39m, ascending \u001b[39m=\u001b[39m \u001b[39mFalse\u001b[39;00m)\n\u001b[1;32m      7\u001b[0m \u001b[39m# show 10 most important features\u001b[39;00m\n\u001b[1;32m      8\u001b[0m feature_importance\u001b[39m.\u001b[39mhead(\u001b[39m10\u001b[39m)\n",
      "\u001b[0;31mNameError\u001b[0m: name 'best_rs_model' is not defined"
     ]
    }
   ],
   "source": [
    "features = X_train.columns.tolist()\n",
    "\n",
    "# data frame with feature names and feature importance scores, sorted by importance\n",
    "feature_importance = pd.DataFrame({'feature': features,\n",
    "                   'importance': best_rs_model.feature_importances_}).\\\n",
    "                    sort_values('importance', ascending = False)\n",
    "# show 10 most important features\n",
    "feature_importance.head(10)"
   ]
  }
 ],
 "metadata": {
  "kernelspec": {
   "display_name": ".venv",
   "language": "python",
   "name": "python3"
  },
  "language_info": {
   "codemirror_mode": {
    "name": "ipython",
    "version": 3
   },
   "file_extension": ".py",
   "mimetype": "text/x-python",
   "name": "python",
   "nbconvert_exporter": "python",
   "pygments_lexer": "ipython3",
   "version": "3.11.3"
  },
  "orig_nbformat": 4
 },
 "nbformat": 4,
 "nbformat_minor": 2
}
