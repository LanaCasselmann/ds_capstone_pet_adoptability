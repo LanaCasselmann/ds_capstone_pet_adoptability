{
 "cells": [
  {
   "cell_type": "code",
   "execution_count": 1,
   "metadata": {},
   "outputs": [],
   "source": [
    "import pandas as pd\n",
    "import numpy as np\n",
    "# plotting\n",
    "import seaborn as sns\n",
    "import matplotlib.pyplot as plt\n",
    "import dexplot as dxp\n",
    "\n",
    "# Modelling\n",
    "from sklearn.model_selection import train_test_split\n",
    "from sklearn.ensemble import AdaBoostClassifier, GradientBoostingClassifier\n",
    "from sklearn.tree import DecisionTreeClassifier\n",
    "from sklearn.tree import plot_tree\n",
    "from sklearn.metrics import accuracy_score \n",
    "from sklearn.metrics import classification_report, confusion_matrix\n",
    "from sklearn import tree\n",
    "# import graphviz\n",
    "# Scaling with Minmax-scaler\n",
    "from sklearn.preprocessing import MinMaxScaler\n",
    "\n",
    "# from ydata_profiling import ProfileReport\n",
    "\n",
    "# import custom functions\n",
    "from custom_functions import our_metrics\n",
    "\n",
    "pd.set_option('display.max_rows', 10)"
   ]
  },
  {
   "cell_type": "code",
   "execution_count": 2,
   "metadata": {},
   "outputs": [],
   "source": [
    "# plot settings\n",
    "\n",
    "# custom color palette: \n",
    "#colors = ['#365b6d', '#41c1ba', '#289dd2', '#6c9286', '#f2f1ec', '#fa9939']\n",
    "#365b6d - dark blue\n",
    "#41c1ba - turquoise\n",
    "#289dd2 - medium blue\n",
    "#6c9286 - muddy green\n",
    "#fa9939 - orange \n",
    "#f2f1ec - off-white\n",
    "\n",
    "# Set your custom color palette\n",
    "\n",
    "#sns.set(style=\"white\", rc={\"axes.facecolor\": \"#f2f1ec\", \"figure.facecolor\": \"#f2f1ec\"}) \n",
    "#custom_palette = sns.set_palette(sns.color_palette(colors))\n",
    "#sns.set_palette(sns.color_palette(colors))\n",
    "\n",
    "# for multiple plots\n",
    "# sns.despine(left=True, bottom=True)"
   ]
  },
  {
   "cell_type": "code",
   "execution_count": 3,
   "metadata": {},
   "outputs": [],
   "source": [
    "# set seaborn options globally\n",
    "colors = ['#365b6d', '#41c1ba', '#289dd2', '#6c9286', '#f2f1ec', '#fa9939']\n",
    "custom_palette = sns.set_palette(sns.color_palette(colors))\n",
    "custom_params = {\"axes.facecolor\": \"#f2f1ec\", \n",
    "\"figure.facecolor\": \"#f2f1ec\",\n",
    "'figure.titleweight': 'bold',\n",
    "'figure.titlesize': 28,#'large',\n",
    "'grid.alpha': 1.0,\n",
    "'font.size': 16.0,\n",
    "'font.weight': 'bold',\n",
    "'axes.labelsize': 16,\n",
    "'axes.labelcolor': '#365b6d',\n",
    "'axes.titlepad': 10.0,\n",
    "'axes.titlesize': 'large',\n",
    "'xtick.labelsize': 16,\n",
    "'xtick.color': '#365b6d',\n",
    "'xtick.bottom': True,\n",
    "'ytick.labelsize': 16,\n",
    "'ytick.color': '#365b6d',\n",
    "'ytick.left': True,\n",
    "'text.color' : '#365b6d',\n",
    "#'legend.labelcolor': '#365b6d',\n",
    "'legend.title_fontsize': 12.0,\n",
    "'legend.frameon': False,\n",
    "'axes.linewidth': 3,#0.8,\n",
    "'axes.spines.left': True,\n",
    "'axes.spines.bottom': True,\n",
    "'axes.spines.right': True,\n",
    "'axes.spines.top': True,\n",
    "'axes.edgecolor': '#365b6d',\n",
    "'axes.labelweight': 'bold',\n",
    "'axes.titleweight': 'bold',\n",
    "}\n",
    "sns.set_theme(style=\"white\", palette=colors, rc=custom_params)"
   ]
  },
  {
   "cell_type": "markdown",
   "metadata": {},
   "source": [
    "# Preliminaries from kappa_combined_clean.ipynb"
   ]
  },
  {
   "cell_type": "code",
   "execution_count": 4,
   "metadata": {},
   "outputs": [
    {
     "name": "stderr",
     "output_type": "stream",
     "text": [
      "/Users/lanacasselmann/neuefische/ds_capstone_pet_adoptability/.venv/lib/python3.11/site-packages/sklearn/ensemble/_gb.py:437: DataConversionWarning: A column-vector y was passed when a 1d array was expected. Please change the shape of y to (n_samples, ), for example using ravel().\n",
      "  y = column_or_1d(y, warn=True)\n"
     ]
    }
   ],
   "source": [
    "# import features for tree-based models\n",
    "X_train_comb = pd.read_csv('../data/petfinder-adoption-prediction/train/X_train_minmax_scaled_processed.csv')\n",
    "X_test_comb =pd.read_csv('../data/petfinder-adoption-prediction/train/X_test_minmax_scaled_processed.csv')\n",
    "\n",
    "# import target\n",
    "y_train_comb = pd.read_csv('../data/petfinder-adoption-prediction/train/y_train.csv')\n",
    "y_test_comb = pd.read_csv('../data/petfinder-adoption-prediction/train/y_test.csv')\n",
    "\n",
    "gbc = GradientBoostingClassifier(n_estimators=200,subsample=1, max_leaf_nodes=31, max_features='log2', max_depth=5, loss = 'log_loss', learning_rate=0.025, random_state=42)\n",
    "gbc.fit(X_train_comb,y_train_comb)\n",
    "# Performance on test\n",
    "y_pred = gbc.predict(X_test_comb)\n",
    "#our_metrics(y_test_comb,y_pred)\n",
    "# Performance on train\n",
    "y_pred_tr = gbc.predict(X_train_comb)\n",
    "#our_metrics(y_train_comb,y_pred_tr)"
   ]
  },
  {
   "cell_type": "markdown",
   "metadata": {},
   "source": [
    "# Preliminaries for Baseline Model"
   ]
  },
  {
   "cell_type": "code",
   "execution_count": 5,
   "metadata": {},
   "outputs": [],
   "source": [
    "df_processed = pd.read_csv('../data/petfinder-adoption-prediction/train/df_processed.csv')\n",
    "\n",
    "X_baseline = df_processed[[\"age_bin\", \"photoamt_11\", \"breed_type\", \"type\", \"color_pattern_0\",\"color_pattern_1\",\"color_pattern_2\"]]\n",
    "y = df_processed[\"adoptionspeed\"]\n",
    "X_train_bl, X_test_bl, y_train_bl, y_test_bl = train_test_split(X_baseline, y, random_state=42, stratify=y)\n",
    "baseline = DecisionTreeClassifier(max_depth = 4, min_samples_leaf = 15)\n",
    "baseline.fit(X_train_bl, y_train_bl)\n",
    "\n",
    "y_pred_bl = baseline.predict(X_test_bl)\n",
    "#our_metrics(y_test_bl, y_pred_bl, normalize=True)"
   ]
  },
  {
   "cell_type": "code",
   "execution_count": 6,
   "metadata": {},
   "outputs": [],
   "source": [
    "# confusion matrix of best model\n",
    "cm = confusion_matrix(y_test_comb, y_pred)\n",
    "cm_norm = cm.astype('float') / cm.sum(axis=1)[:, np.newaxis]\n",
    "\n",
    "# confusion model of baseline model\n",
    "cm_bl = confusion_matrix(y_test_bl, y_pred_bl)\n",
    "cm_bl_norm = cm_bl.astype('float') / cm_bl.sum(axis=1)[:, np.newaxis]\n"
   ]
  },
  {
   "cell_type": "code",
   "execution_count": 7,
   "metadata": {},
   "outputs": [],
   "source": [
    "# get diagonal values\n",
    "perc = cm_norm.diagonal()\n",
    "perc_bl = cm_bl_norm.diagonal()"
   ]
  },
  {
   "cell_type": "code",
   "execution_count": 8,
   "metadata": {},
   "outputs": [
    {
     "data": {
      "text/html": [
       "<div>\n",
       "<style scoped>\n",
       "    .dataframe tbody tr th:only-of-type {\n",
       "        vertical-align: middle;\n",
       "    }\n",
       "\n",
       "    .dataframe tbody tr th {\n",
       "        vertical-align: top;\n",
       "    }\n",
       "\n",
       "    .dataframe thead th {\n",
       "        text-align: right;\n",
       "    }\n",
       "</style>\n",
       "<table border=\"1\" class=\"dataframe\">\n",
       "  <thead>\n",
       "    <tr style=\"text-align: right;\">\n",
       "      <th></th>\n",
       "      <th>accuracy</th>\n",
       "      <th>adoptionspeed</th>\n",
       "      <th>model</th>\n",
       "    </tr>\n",
       "  </thead>\n",
       "  <tbody>\n",
       "    <tr>\n",
       "      <th>0</th>\n",
       "      <td>0.393939</td>\n",
       "      <td>1</td>\n",
       "      <td>baseline</td>\n",
       "    </tr>\n",
       "    <tr>\n",
       "      <th>1</th>\n",
       "      <td>0.335019</td>\n",
       "      <td>2</td>\n",
       "      <td>baseline</td>\n",
       "    </tr>\n",
       "    <tr>\n",
       "      <th>2</th>\n",
       "      <td>0.076803</td>\n",
       "      <td>3</td>\n",
       "      <td>baseline</td>\n",
       "    </tr>\n",
       "    <tr>\n",
       "      <th>3</th>\n",
       "      <td>0.679221</td>\n",
       "      <td>4</td>\n",
       "      <td>baseline</td>\n",
       "    </tr>\n",
       "  </tbody>\n",
       "</table>\n",
       "</div>"
      ],
      "text/plain": [
       "   accuracy  adoptionspeed     model\n",
       "0  0.393939              1  baseline\n",
       "1  0.335019              2  baseline\n",
       "2  0.076803              3  baseline\n",
       "3  0.679221              4  baseline"
      ]
     },
     "execution_count": 8,
     "metadata": {},
     "output_type": "execute_result"
    }
   ],
   "source": [
    "df_bl = pd.DataFrame(columns=[ 'accuracy'], data=np.transpose([ perc_bl]))\n",
    "df_bl['adoptionspeed']= [1,2,3,4]\n",
    "df_bl['model'] = 'baseline'\n",
    "df_bl"
   ]
  },
  {
   "cell_type": "code",
   "execution_count": 9,
   "metadata": {},
   "outputs": [
    {
     "data": {
      "text/html": [
       "<div>\n",
       "<style scoped>\n",
       "    .dataframe tbody tr th:only-of-type {\n",
       "        vertical-align: middle;\n",
       "    }\n",
       "\n",
       "    .dataframe tbody tr th {\n",
       "        vertical-align: top;\n",
       "    }\n",
       "\n",
       "    .dataframe thead th {\n",
       "        text-align: right;\n",
       "    }\n",
       "</style>\n",
       "<table border=\"1\" class=\"dataframe\">\n",
       "  <thead>\n",
       "    <tr style=\"text-align: right;\">\n",
       "      <th></th>\n",
       "      <th>accuracy</th>\n",
       "      <th>adoptionspeed</th>\n",
       "      <th>model</th>\n",
       "    </tr>\n",
       "  </thead>\n",
       "  <tbody>\n",
       "    <tr>\n",
       "      <th>0</th>\n",
       "      <td>0.388167</td>\n",
       "      <td>1</td>\n",
       "      <td>best_model</td>\n",
       "    </tr>\n",
       "    <tr>\n",
       "      <th>1</th>\n",
       "      <td>0.391909</td>\n",
       "      <td>2</td>\n",
       "      <td>best_model</td>\n",
       "    </tr>\n",
       "    <tr>\n",
       "      <th>2</th>\n",
       "      <td>0.153605</td>\n",
       "      <td>3</td>\n",
       "      <td>best_model</td>\n",
       "    </tr>\n",
       "    <tr>\n",
       "      <th>3</th>\n",
       "      <td>0.659740</td>\n",
       "      <td>4</td>\n",
       "      <td>best_model</td>\n",
       "    </tr>\n",
       "  </tbody>\n",
       "</table>\n",
       "</div>"
      ],
      "text/plain": [
       "   accuracy  adoptionspeed       model\n",
       "0  0.388167              1  best_model\n",
       "1  0.391909              2  best_model\n",
       "2  0.153605              3  best_model\n",
       "3  0.659740              4  best_model"
      ]
     },
     "execution_count": 9,
     "metadata": {},
     "output_type": "execute_result"
    }
   ],
   "source": [
    "df_best = pd.DataFrame(columns=[ 'accuracy'], data=np.transpose([ perc]))\n",
    "df_best['adoptionspeed']= [1,2,3,4]\n",
    "df_best['model'] = 'best_model'\n",
    "df_best"
   ]
  },
  {
   "cell_type": "code",
   "execution_count": 10,
   "metadata": {},
   "outputs": [
    {
     "data": {
      "text/html": [
       "<div>\n",
       "<style scoped>\n",
       "    .dataframe tbody tr th:only-of-type {\n",
       "        vertical-align: middle;\n",
       "    }\n",
       "\n",
       "    .dataframe tbody tr th {\n",
       "        vertical-align: top;\n",
       "    }\n",
       "\n",
       "    .dataframe thead th {\n",
       "        text-align: right;\n",
       "    }\n",
       "</style>\n",
       "<table border=\"1\" class=\"dataframe\">\n",
       "  <thead>\n",
       "    <tr style=\"text-align: right;\">\n",
       "      <th></th>\n",
       "      <th>accuracy</th>\n",
       "      <th>adoptionspeed</th>\n",
       "      <th>model</th>\n",
       "    </tr>\n",
       "  </thead>\n",
       "  <tbody>\n",
       "    <tr>\n",
       "      <th>0</th>\n",
       "      <td>0.388167</td>\n",
       "      <td>1</td>\n",
       "      <td>best_model</td>\n",
       "    </tr>\n",
       "    <tr>\n",
       "      <th>1</th>\n",
       "      <td>0.391909</td>\n",
       "      <td>2</td>\n",
       "      <td>best_model</td>\n",
       "    </tr>\n",
       "    <tr>\n",
       "      <th>2</th>\n",
       "      <td>0.153605</td>\n",
       "      <td>3</td>\n",
       "      <td>best_model</td>\n",
       "    </tr>\n",
       "    <tr>\n",
       "      <th>3</th>\n",
       "      <td>0.659740</td>\n",
       "      <td>4</td>\n",
       "      <td>best_model</td>\n",
       "    </tr>\n",
       "    <tr>\n",
       "      <th>0</th>\n",
       "      <td>0.393939</td>\n",
       "      <td>1</td>\n",
       "      <td>baseline</td>\n",
       "    </tr>\n",
       "    <tr>\n",
       "      <th>1</th>\n",
       "      <td>0.335019</td>\n",
       "      <td>2</td>\n",
       "      <td>baseline</td>\n",
       "    </tr>\n",
       "    <tr>\n",
       "      <th>2</th>\n",
       "      <td>0.076803</td>\n",
       "      <td>3</td>\n",
       "      <td>baseline</td>\n",
       "    </tr>\n",
       "    <tr>\n",
       "      <th>3</th>\n",
       "      <td>0.679221</td>\n",
       "      <td>4</td>\n",
       "      <td>baseline</td>\n",
       "    </tr>\n",
       "  </tbody>\n",
       "</table>\n",
       "</div>"
      ],
      "text/plain": [
       "   accuracy  adoptionspeed       model\n",
       "0  0.388167              1  best_model\n",
       "1  0.391909              2  best_model\n",
       "2  0.153605              3  best_model\n",
       "3  0.659740              4  best_model\n",
       "0  0.393939              1    baseline\n",
       "1  0.335019              2    baseline\n",
       "2  0.076803              3    baseline\n",
       "3  0.679221              4    baseline"
      ]
     },
     "execution_count": 10,
     "metadata": {},
     "output_type": "execute_result"
    }
   ],
   "source": [
    "df = pd.concat([df_best,df_bl])\n",
    "df"
   ]
  },
  {
   "cell_type": "code",
   "execution_count": 11,
   "metadata": {},
   "outputs": [
    {
     "name": "stdout",
     "output_type": "stream",
     "text": [
      "<class 'pandas.core.frame.DataFrame'>\n",
      "Index: 8 entries, 0 to 3\n",
      "Data columns (total 3 columns):\n",
      " #   Column         Non-Null Count  Dtype  \n",
      "---  ------         --------------  -----  \n",
      " 0   accuracy       8 non-null      float64\n",
      " 1   adoptionspeed  8 non-null      int64  \n",
      " 2   model          8 non-null      object \n",
      "dtypes: float64(1), int64(1), object(1)\n",
      "memory usage: 256.0+ bytes\n"
     ]
    }
   ],
   "source": [
    "df.info()"
   ]
  },
  {
   "cell_type": "code",
   "execution_count": 12,
   "metadata": {},
   "outputs": [
    {
     "data": {
      "text/plain": [
       "0.40975103734439833"
      ]
     },
     "execution_count": 12,
     "metadata": {},
     "output_type": "execute_result"
    }
   ],
   "source": [
    "# get accuracy score of best model for reference line\n",
    "acc = accuracy_score(y_test_comb, y_pred)\n",
    "acc"
   ]
  },
  {
   "cell_type": "code",
   "execution_count": 19,
   "metadata": {},
   "outputs": [
    {
     "data": {
      "image/png": "[encoded data removed]",
      "text/plain": [
       "<Figure size 2000x800 with 1 Axes>"
      ]
     },
     "metadata": {},
     "output_type": "display_data"
    }
   ],
   "source": [
    "bbox = dict(boxstyle=\"round\", fc='#41c1ba')#fc=\"0.8\") box for annotations\n",
    "fig = plt.figure(figsize=(20,8))\n",
    "mod_plot = sns.barplot(\n",
    "    data=df, \n",
    "    x='adoptionspeed', \n",
    "    y = 'accuracy',\n",
    "    hue='model', \n",
    "    # palette=['#365b6d', '#41c1ba', '#289dd2', '#6c9286'], \n",
    "    # multiple='dodge', \n",
    "    # alpha=1,\n",
    "    # shrink=3\n",
    "    )\n",
    "#h,l=mod_plot.get_legend_handles_labels()\n",
    "legend = plt.legend(title='Model')#,labels = ['Best Model','Baseline'])\n",
    "plt.xlabel('Adoptionspeed')\n",
    "plt.ylabel('Model Accuracy')\n",
    "plt.title('Model Comparison', fontsize=24)\n",
    "# plt.xticks(ticks=np.linspace(0,18,10))\n",
    "# # add vertical line\n",
    "mod_plot.axhline(y=acc, linewidth=3.5, linestyle='dashed')\n",
    "# Annotate hline\n",
    "mod_plot.text(-0.45, acc + 0.01, 'overall accuracy')\n",
    "# plt.annotate(\"'Not Adopted' most frequent for up to 3 photos\", xy=(3.7, 950), bbox=bbox, fontsize=20)\n",
    "# plt.annotate(\"'Fast Adoption Speeds' most frequent for more than 3 photos\", xy=(3.7, 800), bbox=bbox, fontsize=20)\n",
    "\n",
    "# #restrict x axis\n",
    "# plt.xlim([-0.5, 16.5])\n",
    "# safe figure as...\n",
    "#plt.savefig('../images/presentation/photoamt_with_line.jpg')\n",
    "plt.show();"
   ]
  },
  {
   "cell_type": "code",
   "execution_count": 14,
   "metadata": {},
   "outputs": [
    {
     "ename": "ValueError",
     "evalue": "Could not interpret value `photoamt` for parameter `x`",
     "output_type": "error",
     "traceback": [
      "\u001b[0;31m---------------------------------------------------------------------------\u001b[0m",
      "\u001b[0;31mValueError\u001b[0m                                Traceback (most recent call last)",
      "Cell \u001b[0;32mIn[14], line 3\u001b[0m\n\u001b[1;32m      1\u001b[0m bbox \u001b[39m=\u001b[39m \u001b[39mdict\u001b[39m(boxstyle\u001b[39m=\u001b[39m\u001b[39m\"\u001b[39m\u001b[39mround\u001b[39m\u001b[39m\"\u001b[39m, fc\u001b[39m=\u001b[39m\u001b[39m'\u001b[39m\u001b[39m#41c1ba\u001b[39m\u001b[39m'\u001b[39m)\u001b[39m#fc=\"0.8\") box for annotations\u001b[39;00m\n\u001b[1;32m      2\u001b[0m fig \u001b[39m=\u001b[39m plt\u001b[39m.\u001b[39mfigure(figsize\u001b[39m=\u001b[39m(\u001b[39m20\u001b[39m,\u001b[39m8\u001b[39m))\n\u001b[0;32m----> 3\u001b[0m hist \u001b[39m=\u001b[39m sns\u001b[39m.\u001b[39;49mhistplot(\n\u001b[1;32m      4\u001b[0m     data\u001b[39m=\u001b[39;49mdf, \n\u001b[1;32m      5\u001b[0m     x\u001b[39m=\u001b[39;49m\u001b[39m'\u001b[39;49m\u001b[39mphotoamt\u001b[39;49m\u001b[39m'\u001b[39;49m, \n\u001b[1;32m      6\u001b[0m     hue\u001b[39m=\u001b[39;49m\u001b[39m'\u001b[39;49m\u001b[39madoptionspeed\u001b[39;49m\u001b[39m'\u001b[39;49m, \n\u001b[1;32m      7\u001b[0m     palette\u001b[39m=\u001b[39;49m[\u001b[39m'\u001b[39;49m\u001b[39m#365b6d\u001b[39;49m\u001b[39m'\u001b[39;49m, \u001b[39m'\u001b[39;49m\u001b[39m#41c1ba\u001b[39;49m\u001b[39m'\u001b[39;49m, \u001b[39m'\u001b[39;49m\u001b[39m#289dd2\u001b[39;49m\u001b[39m'\u001b[39;49m, \u001b[39m'\u001b[39;49m\u001b[39m#6c9286\u001b[39;49m\u001b[39m'\u001b[39;49m], \n\u001b[1;32m      8\u001b[0m     multiple\u001b[39m=\u001b[39;49m\u001b[39m'\u001b[39;49m\u001b[39mdodge\u001b[39;49m\u001b[39m'\u001b[39;49m, \n\u001b[1;32m      9\u001b[0m     alpha\u001b[39m=\u001b[39;49m\u001b[39m1\u001b[39;49m,\n\u001b[1;32m     10\u001b[0m     shrink\u001b[39m=\u001b[39;49m\u001b[39m3\u001b[39;49m)\n\u001b[1;32m     12\u001b[0m legend \u001b[39m=\u001b[39m plt\u001b[39m.\u001b[39mlegend(title\u001b[39m=\u001b[39m\u001b[39m\"\u001b[39m\u001b[39mAdoption Speed\u001b[39m\u001b[39m\"\u001b[39m, \n\u001b[1;32m     13\u001b[0m                     labels \u001b[39m=\u001b[39m [\u001b[39m'\u001b[39m\u001b[39mNot Adopted after 100 Days\u001b[39m\u001b[39m'\u001b[39m,\u001b[39m'\u001b[39m\u001b[39mFirst Three Month\u001b[39m\u001b[39m'\u001b[39m,\u001b[39m'\u001b[39m\u001b[39mFirst Month\u001b[39m\u001b[39m'\u001b[39m,\u001b[39m'\u001b[39m\u001b[39mFirst Week\u001b[39m\u001b[39m'\u001b[39m]\n\u001b[1;32m     14\u001b[0m                     )\n\u001b[1;32m     15\u001b[0m plt\u001b[39m.\u001b[39mxlabel(\u001b[39m'\u001b[39m\u001b[39mAmount of Photos in Listing\u001b[39m\u001b[39m'\u001b[39m)\n",
      "File \u001b[0;32m~/neuefische/ds_capstone_pet_adoptability/.venv/lib/python3.11/site-packages/seaborn/distributions.py:1395\u001b[0m, in \u001b[0;36mhistplot\u001b[0;34m(data, x, y, hue, weights, stat, bins, binwidth, binrange, discrete, cumulative, common_bins, common_norm, multiple, element, fill, shrink, kde, kde_kws, line_kws, thresh, pthresh, pmax, cbar, cbar_ax, cbar_kws, palette, hue_order, hue_norm, color, log_scale, legend, ax, **kwargs)\u001b[0m\n\u001b[1;32m   1374\u001b[0m \u001b[39mdef\u001b[39;00m \u001b[39mhistplot\u001b[39m(\n\u001b[1;32m   1375\u001b[0m     data\u001b[39m=\u001b[39m\u001b[39mNone\u001b[39;00m, \u001b[39m*\u001b[39m,\n\u001b[1;32m   1376\u001b[0m     \u001b[39m# Vector variables\u001b[39;00m\n\u001b[0;32m   (...)\u001b[0m\n\u001b[1;32m   1392\u001b[0m     \u001b[39m*\u001b[39m\u001b[39m*\u001b[39mkwargs,\n\u001b[1;32m   1393\u001b[0m ):\n\u001b[0;32m-> 1395\u001b[0m     p \u001b[39m=\u001b[39m _DistributionPlotter(\n\u001b[1;32m   1396\u001b[0m         data\u001b[39m=\u001b[39;49mdata,\n\u001b[1;32m   1397\u001b[0m         variables\u001b[39m=\u001b[39;49m_DistributionPlotter\u001b[39m.\u001b[39;49mget_semantics(\u001b[39mlocals\u001b[39;49m())\n\u001b[1;32m   1398\u001b[0m     )\n\u001b[1;32m   1400\u001b[0m     p\u001b[39m.\u001b[39mmap_hue(palette\u001b[39m=\u001b[39mpalette, order\u001b[39m=\u001b[39mhue_order, norm\u001b[39m=\u001b[39mhue_norm)\n\u001b[1;32m   1402\u001b[0m     \u001b[39mif\u001b[39;00m ax \u001b[39mis\u001b[39;00m \u001b[39mNone\u001b[39;00m:\n",
      "File \u001b[0;32m~/neuefische/ds_capstone_pet_adoptability/.venv/lib/python3.11/site-packages/seaborn/distributions.py:113\u001b[0m, in \u001b[0;36m_DistributionPlotter.__init__\u001b[0;34m(self, data, variables)\u001b[0m\n\u001b[1;32m    107\u001b[0m \u001b[39mdef\u001b[39;00m \u001b[39m__init__\u001b[39m(\n\u001b[1;32m    108\u001b[0m     \u001b[39mself\u001b[39m,\n\u001b[1;32m    109\u001b[0m     data\u001b[39m=\u001b[39m\u001b[39mNone\u001b[39;00m,\n\u001b[1;32m    110\u001b[0m     variables\u001b[39m=\u001b[39m{},\n\u001b[1;32m    111\u001b[0m ):\n\u001b[0;32m--> 113\u001b[0m     \u001b[39msuper\u001b[39;49m()\u001b[39m.\u001b[39;49m\u001b[39m__init__\u001b[39;49m(data\u001b[39m=\u001b[39;49mdata, variables\u001b[39m=\u001b[39;49mvariables)\n",
      "File \u001b[0;32m~/neuefische/ds_capstone_pet_adoptability/.venv/lib/python3.11/site-packages/seaborn/_oldcore.py:640\u001b[0m, in \u001b[0;36mVectorPlotter.__init__\u001b[0;34m(self, data, variables)\u001b[0m\n\u001b[1;32m    635\u001b[0m \u001b[39m# var_ordered is relevant only for categorical axis variables, and may\u001b[39;00m\n\u001b[1;32m    636\u001b[0m \u001b[39m# be better handled by an internal axis information object that tracks\u001b[39;00m\n\u001b[1;32m    637\u001b[0m \u001b[39m# such information and is set up by the scale_* methods. The analogous\u001b[39;00m\n\u001b[1;32m    638\u001b[0m \u001b[39m# information for numeric axes would be information about log scales.\u001b[39;00m\n\u001b[1;32m    639\u001b[0m \u001b[39mself\u001b[39m\u001b[39m.\u001b[39m_var_ordered \u001b[39m=\u001b[39m {\u001b[39m\"\u001b[39m\u001b[39mx\u001b[39m\u001b[39m\"\u001b[39m: \u001b[39mFalse\u001b[39;00m, \u001b[39m\"\u001b[39m\u001b[39my\u001b[39m\u001b[39m\"\u001b[39m: \u001b[39mFalse\u001b[39;00m}  \u001b[39m# alt., used DefaultDict\u001b[39;00m\n\u001b[0;32m--> 640\u001b[0m \u001b[39mself\u001b[39;49m\u001b[39m.\u001b[39;49massign_variables(data, variables)\n\u001b[1;32m    642\u001b[0m \u001b[39mfor\u001b[39;00m var, \u001b[39mcls\u001b[39m \u001b[39min\u001b[39;00m \u001b[39mself\u001b[39m\u001b[39m.\u001b[39m_semantic_mappings\u001b[39m.\u001b[39mitems():\n\u001b[1;32m    643\u001b[0m \n\u001b[1;32m    644\u001b[0m     \u001b[39m# Create the mapping function\u001b[39;00m\n\u001b[1;32m    645\u001b[0m     map_func \u001b[39m=\u001b[39m partial(\u001b[39mcls\u001b[39m\u001b[39m.\u001b[39mmap, plotter\u001b[39m=\u001b[39m\u001b[39mself\u001b[39m)\n",
      "File \u001b[0;32m~/neuefische/ds_capstone_pet_adoptability/.venv/lib/python3.11/site-packages/seaborn/_oldcore.py:701\u001b[0m, in \u001b[0;36mVectorPlotter.assign_variables\u001b[0;34m(self, data, variables)\u001b[0m\n\u001b[1;32m    699\u001b[0m \u001b[39melse\u001b[39;00m:\n\u001b[1;32m    700\u001b[0m     \u001b[39mself\u001b[39m\u001b[39m.\u001b[39minput_format \u001b[39m=\u001b[39m \u001b[39m\"\u001b[39m\u001b[39mlong\u001b[39m\u001b[39m\"\u001b[39m\n\u001b[0;32m--> 701\u001b[0m     plot_data, variables \u001b[39m=\u001b[39m \u001b[39mself\u001b[39;49m\u001b[39m.\u001b[39;49m_assign_variables_longform(\n\u001b[1;32m    702\u001b[0m         data, \u001b[39m*\u001b[39;49m\u001b[39m*\u001b[39;49mvariables,\n\u001b[1;32m    703\u001b[0m     )\n\u001b[1;32m    705\u001b[0m \u001b[39mself\u001b[39m\u001b[39m.\u001b[39mplot_data \u001b[39m=\u001b[39m plot_data\n\u001b[1;32m    706\u001b[0m \u001b[39mself\u001b[39m\u001b[39m.\u001b[39mvariables \u001b[39m=\u001b[39m variables\n",
      "File \u001b[0;32m~/neuefische/ds_capstone_pet_adoptability/.venv/lib/python3.11/site-packages/seaborn/_oldcore.py:938\u001b[0m, in \u001b[0;36mVectorPlotter._assign_variables_longform\u001b[0;34m(self, data, **kwargs)\u001b[0m\n\u001b[1;32m    933\u001b[0m \u001b[39melif\u001b[39;00m \u001b[39misinstance\u001b[39m(val, (\u001b[39mstr\u001b[39m, \u001b[39mbytes\u001b[39m)):\n\u001b[1;32m    934\u001b[0m \n\u001b[1;32m    935\u001b[0m     \u001b[39m# This looks like a column name but we don't know what it means!\u001b[39;00m\n\u001b[1;32m    937\u001b[0m     err \u001b[39m=\u001b[39m \u001b[39mf\u001b[39m\u001b[39m\"\u001b[39m\u001b[39mCould not interpret value `\u001b[39m\u001b[39m{\u001b[39;00mval\u001b[39m}\u001b[39;00m\u001b[39m` for parameter `\u001b[39m\u001b[39m{\u001b[39;00mkey\u001b[39m}\u001b[39;00m\u001b[39m`\u001b[39m\u001b[39m\"\u001b[39m\n\u001b[0;32m--> 938\u001b[0m     \u001b[39mraise\u001b[39;00m \u001b[39mValueError\u001b[39;00m(err)\n\u001b[1;32m    940\u001b[0m \u001b[39melse\u001b[39;00m:\n\u001b[1;32m    941\u001b[0m \n\u001b[1;32m    942\u001b[0m     \u001b[39m# Otherwise, assume the value is itself data\u001b[39;00m\n\u001b[1;32m    943\u001b[0m \n\u001b[1;32m    944\u001b[0m     \u001b[39m# Raise when data object is present and a vector can't matched\u001b[39;00m\n\u001b[1;32m    945\u001b[0m     \u001b[39mif\u001b[39;00m \u001b[39misinstance\u001b[39m(data, pd\u001b[39m.\u001b[39mDataFrame) \u001b[39mand\u001b[39;00m \u001b[39mnot\u001b[39;00m \u001b[39misinstance\u001b[39m(val, pd\u001b[39m.\u001b[39mSeries):\n",
      "\u001b[0;31mValueError\u001b[0m: Could not interpret value `photoamt` for parameter `x`"
     ]
    },
    {
     "data": {
      "text/plain": [
       "<Figure size 2000x800 with 0 Axes>"
      ]
     },
     "metadata": {},
     "output_type": "display_data"
    }
   ],
   "source": [
    "bbox = dict(boxstyle=\"round\", fc='#41c1ba')#fc=\"0.8\") box for annotations\n",
    "fig = plt.figure(figsize=(20,8))\n",
    "hist = sns.histplot(\n",
    "    data=df, \n",
    "    x='photoamt', \n",
    "    hue='adoptionspeed', \n",
    "    palette=['#365b6d', '#41c1ba', '#289dd2', '#6c9286'], \n",
    "    multiple='dodge', \n",
    "    alpha=1,\n",
    "    shrink=3)\n",
    "\n",
    "legend = plt.legend(title=\"Adoption Speed\", \n",
    "                    labels = ['Not Adopted after 100 Days','First Three Month','First Month','First Week']\n",
    "                    )\n",
    "plt.xlabel('Amount of Photos in Listing')\n",
    "plt.ylabel('Count')\n",
    "plt.title('Adoption Speed', fontsize=24)\n",
    "plt.xticks(ticks=np.linspace(0,18,10))\n",
    "# add vertical line\n",
    "hist.axvline(x=3.52, ymin=0, ymax=1070, linewidth=3.5, linestyle='dashed')\n",
    "# Annotate vline\n",
    "plt.annotate(\"'Not Adopted' most frequent for up to 3 photos\", xy=(3.7, 950), bbox=bbox, fontsize=20)\n",
    "plt.annotate(\"'Fast Adoption Speeds' most frequent for more than 3 photos\", xy=(3.7, 800), bbox=bbox, fontsize=20)\n",
    "\n",
    "#restrict x axis\n",
    "plt.xlim([-0.5, 16.5])\n",
    "# safe figure as...\n",
    "#plt.savefig('../images/presentation/photoamt_with_line.jpg')\n",
    "plt.show();"
   ]
  }
 ],
 "metadata": {
  "kernelspec": {
   "display_name": ".venv",
   "language": "python",
   "name": "python3"
  },
  "language_info": {
   "codemirror_mode": {
    "name": "ipython",
    "version": 3
   },
   "file_extension": ".py",
   "mimetype": "text/x-python",
   "name": "python",
   "nbconvert_exporter": "python",
   "pygments_lexer": "ipython3",
   "version": "3.11.3"
  },
  "orig_nbformat": 4
 },
 "nbformat": 4,
 "nbformat_minor": 2
}
