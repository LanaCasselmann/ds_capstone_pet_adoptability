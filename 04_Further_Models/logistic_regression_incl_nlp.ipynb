{
 "cells": [
  {
   "cell_type": "markdown",
   "metadata": {},
   "source": [
    "# In this Notebook\n",
    "- we use different nlp-techniques to transform the text description (text) of a pet into a feature that is accessible to a machine learning model\n",
    "- use accuracy in predicting our target to pick the best method\n",
    "- train a logistic regression model on train data including the processed nlp-feature"
   ]
  },
  {
   "cell_type": "markdown",
   "metadata": {},
   "source": [
    "#### Load libraries and data"
   ]
  },
  {
   "cell_type": "code",
   "execution_count": 34,
   "metadata": {},
   "outputs": [
    {
     "name": "stderr",
     "output_type": "stream",
     "text": [
      "[nltk_data] Downloading package wordnet to\n",
      "[nltk_data]     /Users/annastein/nltk_data...\n",
      "[nltk_data]   Package wordnet is already up-to-date!\n",
      "[nltk_data] Downloading package omw-1.4 to\n",
      "[nltk_data]     /Users/annastein/nltk_data...\n",
      "[nltk_data]   Package omw-1.4 is already up-to-date!\n"
     ]
    }
   ],
   "source": [
    "import pandas as pd\n",
    "import numpy as np\n",
    "\n",
    "from sklearn.model_selection import train_test_split\n",
    "from sklearn.feature_extraction.text import CountVectorizer, TfidfVectorizer\n",
    "from sklearn.linear_model import LogisticRegression\n",
    "from sklearn.metrics import accuracy_score\n",
    "\n",
    "import nltk\n",
    "nltk.download('wordnet')\n",
    "nltk.download('omw-1.4')\n",
    "\n",
    "# to import custom functions\n",
    "import sys\n",
    "import os\n",
    "\n",
    "# Get the parent directory\n",
    "parent_dir = os.path.dirname(os.getcwd()) \n",
    "# Add the parent directory to sys.path\n",
    "sys.path.append(parent_dir)\n",
    "# import our custom metrics function and our custom scorer (Cohen's Kappa)\n",
    "\n",
    "from custom_functions import our_metrics\n",
    "from custom_functions import get_kappa"
   ]
  },
  {
   "cell_type": "code",
   "execution_count": 2,
   "metadata": {},
   "outputs": [],
   "source": [
    "# read in data\n",
    "df_raw = pd.read_csv('../data/petfinder-adoption-prediction/train/pet_nlp.csv', encoding=\"utf-8\")"
   ]
  },
  {
   "cell_type": "code",
   "execution_count": 3,
   "metadata": {},
   "outputs": [],
   "source": [
    "# drop rows with multiple listings\n",
    "df_raw = df_raw[df_raw[\"Quantity\"]==1]"
   ]
  },
  {
   "cell_type": "code",
   "execution_count": 4,
   "metadata": {},
   "outputs": [],
   "source": [
    "# extract description text column and target\n",
    "df_description = df_raw[['Description', 'AdoptionSpeed']]"
   ]
  },
  {
   "cell_type": "code",
   "execution_count": 5,
   "metadata": {},
   "outputs": [],
   "source": [
    "# define feature and target\n",
    "y = df_description.AdoptionSpeed\n",
    "X = df_description.Description"
   ]
  },
  {
   "cell_type": "code",
   "execution_count": 6,
   "metadata": {},
   "outputs": [
    {
     "data": {
      "text/plain": [
       "9"
      ]
     },
     "execution_count": 6,
     "metadata": {},
     "output_type": "execute_result"
    }
   ],
   "source": [
    "# find missing values\n",
    "X.isnull().sum()"
   ]
  },
  {
   "cell_type": "code",
   "execution_count": 7,
   "metadata": {},
   "outputs": [],
   "source": [
    "# fill missing values\n",
    "X = X.fillna('no description')"
   ]
  },
  {
   "cell_type": "code",
   "execution_count": 8,
   "metadata": {},
   "outputs": [],
   "source": [
    "# train-test-split\n",
    "X_train, X_test, y_train, y_test = train_test_split(X, y, stratify=y, random_state=42)"
   ]
  },
  {
   "cell_type": "markdown",
   "metadata": {},
   "source": [
    "#### CountVectorizer"
   ]
  },
  {
   "cell_type": "code",
   "execution_count": 9,
   "metadata": {},
   "outputs": [
    {
     "name": "stdout",
     "output_type": "stream",
     "text": [
      "X_train_vectorized:    (0, 558)\t1\n",
      "  (0, 794)\t3\n",
      "  (0, 1439)\t1\n",
      "  (0, 1705)\t1\n",
      "  (0, 2174)\t2\n",
      "  (0, 2475)\t1\n",
      "  (0, 3333)\t1\n",
      "  (0, 3894)\t1\n",
      "  (0, 3897)\t1\n",
      "  (0, 4177)\t1\n",
      "  (0, 4200)\t1\n",
      "  (0, 4670)\t1\n",
      "  (0, 4698)\t1\n",
      "  (0, 4967)\t2\n",
      "  (0, 4981)\t1\n",
      "  (0, 5551)\t1\n",
      "  (0, 5760)\t3\n",
      "  (0, 5917)\t2\n",
      "  (0, 5971)\t1\n",
      "  (0, 6110)\t1\n",
      "  (0, 6187)\t1\n",
      "  (0, 6505)\t2\n",
      "  (0, 7479)\t1\n",
      "  (0, 7734)\t1\n",
      "  (0, 7790)\t2\n",
      "  :\t:\n",
      "  (8672, 5651)\t1\n",
      "  (8672, 5743)\t1\n",
      "  (8672, 5782)\t1\n",
      "  (8672, 5859)\t1\n",
      "  (8672, 7137)\t1\n",
      "  (8672, 7388)\t1\n",
      "  (8672, 7591)\t1\n",
      "  (8672, 8130)\t1\n",
      "  (8672, 8655)\t1\n",
      "  (8672, 8820)\t2\n",
      "  (8672, 9283)\t1\n",
      "  (8672, 10255)\t1\n",
      "  (8672, 10942)\t1\n",
      "  (8672, 11526)\t1\n",
      "  (8672, 11839)\t1\n",
      "  (8672, 12328)\t1\n",
      "  (8672, 12343)\t1\n",
      "  (8672, 13063)\t1\n",
      "  (8672, 13392)\t1\n",
      "  (8672, 13559)\t7\n",
      "  (8672, 13615)\t1\n",
      "  (8672, 14234)\t1\n",
      "  (8672, 14468)\t1\n",
      "  (8672, 14642)\t1\n",
      "  (8672, 14726)\t1\n"
     ]
    }
   ],
   "source": [
    "# Fit the CountVectorizer to the training data\n",
    "count_vect = CountVectorizer().fit(X_train)\n",
    "\n",
    "# transform X_train to a document-term matrix\n",
    "X_train_c_vectorized = count_vect.transform(X_train)\n",
    "print(\"X_train_vectorized: \", X_train_c_vectorized)"
   ]
  },
  {
   "cell_type": "code",
   "execution_count": 10,
   "metadata": {},
   "outputs": [
    {
     "data": {
      "text/plain": [
       "(8673, 15958)"
      ]
     },
     "execution_count": 10,
     "metadata": {},
     "output_type": "execute_result"
    }
   ],
   "source": [
    "X_train_c_vectorized.shape"
   ]
  },
  {
   "cell_type": "code",
   "execution_count": 11,
   "metadata": {},
   "outputs": [
    {
     "name": "stdout",
     "output_type": "stream",
     "text": [
      "X_train shape = (8673,)\n",
      "Vocabulary length = 15958\n"
     ]
    }
   ],
   "source": [
    "print(\"X_train shape = {}\".format(X_train.shape))\n",
    "print(\"Vocabulary length = {}\".format(len(count_vect.vocabulary_)))"
   ]
  },
  {
   "cell_type": "code",
   "execution_count": 12,
   "metadata": {},
   "outputs": [
    {
     "data": {
      "text/plain": [
       "[('00', 0),\n",
       " ('00pm', 1),\n",
       " ('01', 2),\n",
       " ('02', 3),\n",
       " ('03', 4),\n",
       " ('04', 5),\n",
       " ('05', 6),\n",
       " ('05kg', 7),\n",
       " ('06', 8),\n",
       " ('08', 9),\n",
       " ('09', 10),\n",
       " ('0ct', 11),\n",
       " ('10', 12),\n",
       " ('10am', 13),\n",
       " ('10cm', 14),\n",
       " ('10days', 15),\n",
       " ('10in1', 16),\n",
       " ('10inch', 17),\n",
       " ('10kg', 18),\n",
       " ('10kgs', 19)]"
      ]
     },
     "execution_count": 12,
     "metadata": {},
     "output_type": "execute_result"
    }
   ],
   "source": [
    "# vocabulary list (sorted alphabetically)\n",
    "sorted(count_vect.vocabulary_.items(), key=lambda x: x[1])[:20]"
   ]
  },
  {
   "cell_type": "code",
   "execution_count": 13,
   "metadata": {},
   "outputs": [
    {
     "name": "stdout",
     "output_type": "stream",
     "text": [
      "CountVectorizer Accuracy Score 0.3676\n"
     ]
    }
   ],
   "source": [
    "# Train the model\n",
    "model = LogisticRegression(max_iter=1500)\n",
    "model.fit(X_train_c_vectorized, y_train)\n",
    "\n",
    "# Predict\n",
    "predictions = model.predict(count_vect.transform(X_test))\n",
    "predict_probab = model.predict_proba(count_vect.transform(X_test))[:,1]\n",
    "\n",
    "count_vect_acc_score = accuracy_score(y_test, predictions).round(4)\n",
    "print(f'CountVectorizer Accuracy Score {count_vect_acc_score}')\n"
   ]
  },
  {
   "cell_type": "markdown",
   "metadata": {},
   "source": [
    "\n",
    "#### TF-IDF"
   ]
  },
  {
   "cell_type": "code",
   "execution_count": 14,
   "metadata": {},
   "outputs": [
    {
     "data": {
      "text/plain": [
       "[('10', 0),\n",
       " ('10am', 1),\n",
       " ('11', 2),\n",
       " ('12', 3),\n",
       " ('13', 4),\n",
       " ('14', 5),\n",
       " ('15', 6),\n",
       " ('16', 7),\n",
       " ('17', 8),\n",
       " ('18', 9),\n",
       " ('19', 10),\n",
       " ('1st', 11),\n",
       " ('20', 12),\n",
       " ('21', 13),\n",
       " ('23', 14),\n",
       " ('24', 15),\n",
       " ('25', 16),\n",
       " ('26', 17),\n",
       " ('27', 18),\n",
       " ('28', 19)]"
      ]
     },
     "execution_count": 14,
     "metadata": {},
     "output_type": "execute_result"
    }
   ],
   "source": [
    "# Fit the TfidfVectorizer to the training data, minimum document frequency of 15\n",
    "vect_tfidf = TfidfVectorizer(min_df=15).fit(X_train)\n",
    "\n",
    "# transform the documents in the training data to a document-term matrix\n",
    "X_train_vectorized_tfidf = vect_tfidf.transform(X_train)\n",
    "\n",
    "# let's look of some of the words gathered with this method\n",
    "sorted(vect_tfidf.vocabulary_.items(), key=lambda x: x[1])[:20]"
   ]
  },
  {
   "cell_type": "code",
   "execution_count": 15,
   "metadata": {},
   "outputs": [
    {
     "data": {
      "text/plain": [
       "(8673, 2262)"
      ]
     },
     "execution_count": 15,
     "metadata": {},
     "output_type": "execute_result"
    }
   ],
   "source": [
    "X_train_vectorized_tfidf.shape"
   ]
  },
  {
   "cell_type": "code",
   "execution_count": 16,
   "metadata": {},
   "outputs": [
    {
     "name": "stdout",
     "output_type": "stream",
     "text": [
      "TFIDF-Vectorizer Accuracy Score 0.3596\n"
     ]
    }
   ],
   "source": [
    "# Train the model\n",
    "model = LogisticRegression(max_iter=1500)\n",
    "model.fit(X_train_vectorized_tfidf, y_train)\n",
    "\n",
    "# Predict the transformed test documents\n",
    "predictions_tfidf = model.predict(vect_tfidf.transform(X_test))\n",
    "\n",
    "acc_score_tfidf = accuracy_score(y_test, predictions_tfidf).round(4)\n",
    "print(f'TFIDF-Vectorizer Accuracy Score {acc_score_tfidf}')"
   ]
  },
  {
   "cell_type": "markdown",
   "metadata": {},
   "source": [
    "#### Stemming"
   ]
  },
  {
   "cell_type": "code",
   "execution_count": 17,
   "metadata": {},
   "outputs": [],
   "source": [
    "# Initializing stemmer and countvectorizer \n",
    "stemmer = nltk.PorterStemmer()\n",
    "cv_analyzer = CountVectorizer().build_analyzer()\n",
    "\n",
    "def stemmed_words(doc):\n",
    "    return (stemmer.stem(w) for w in cv_analyzer(doc))\n",
    "\n",
    "# define CountVectorizer with stemming function \n",
    "stem_vectorizer = CountVectorizer(analyzer = stemmed_words)\n",
    "\n",
    "# Transform X_train\n",
    "X_train_stem_vectorized = stem_vectorizer.fit_transform(X_train)"
   ]
  },
  {
   "cell_type": "code",
   "execution_count": 18,
   "metadata": {},
   "outputs": [
    {
     "data": {
      "text/plain": [
       "8700     Smoky was rescued after a man left him by the ...\n",
       "14502    Name Spotty....DOB 1 Sep . She is a bit skinny...\n",
       "1880     Xiao guai has 7 siblings in total. Their mum w...\n",
       "3170                        DOB: 25 May Area: Kuala Lumpur\n",
       "4261     Little Carol is a happy girl. Very energetic a...\n",
       "                               ...                        \n",
       "9035     Hop Nop is a stray rescue from the street. He ...\n",
       "13864    Tom is a very lovely & intelligent good boy. H...\n",
       "4337                                                    xx\n",
       "12360    Mix breed Male Puppy open for adoption. Place:...\n",
       "11827    I rescued Dibo few months ago and took her to ...\n",
       "Name: Description, Length: 8673, dtype: object"
      ]
     },
     "execution_count": 18,
     "metadata": {},
     "output_type": "execute_result"
    }
   ],
   "source": [
    "X_train"
   ]
  },
  {
   "cell_type": "code",
   "execution_count": 19,
   "metadata": {},
   "outputs": [
    {
     "name": "stdout",
     "output_type": "stream",
     "text": [
      "Stem_Count Accuracy Score 0.3627\n"
     ]
    }
   ],
   "source": [
    "# Train the model with stemmed and vectorized dataset\n",
    "model_stemm = LogisticRegression(max_iter=1500)\n",
    "model_stemm.fit(X_train_stem_vectorized, y_train)\n",
    "\n",
    "# Predict\n",
    "predictions_stem = model_stemm.predict(stem_vectorizer.transform(X_test))\n",
    "\n",
    "acc_score_stem = accuracy_score(y_test, predictions_stem).round(4)\n",
    "print(f'Stem_Count Accuracy Score {acc_score_stem}')"
   ]
  },
  {
   "cell_type": "code",
   "execution_count": 20,
   "metadata": {},
   "outputs": [
    {
     "name": "stdout",
     "output_type": "stream",
     "text": [
      "Smallest Coefs:\n",
      "['shelter' 'abl' 'locat' 'thank' 'recov' 'person' 'stranger' 'litter'\n",
      " 'feel' 'seem']\n",
      "\n",
      "Largest Coefs: \n",
      "['chanel' 'dsh' 'healti' 'neyo' 'jojo' 'natasha' 'cool' 'xiao' 'pepsi'\n",
      " 'cougar']\n"
     ]
    }
   ],
   "source": [
    "# get the feature names as numpy array\n",
    "feature_names = np.array(stem_vectorizer.get_feature_names_out())\n",
    "\n",
    "# Sort the coefficients from the model\n",
    "sorted_coef_index = model_stemm.coef_[0].argsort()\n",
    "\n",
    "# Find the 10 smallest and 10 largest coefficients\n",
    "print(\"Smallest Coefs:\\n{}\\n\".format(feature_names[sorted_coef_index[:10]]))\n",
    "print(\"Largest Coefs: \\n{}\".format(feature_names[sorted_coef_index[:-11:-1]]))"
   ]
  },
  {
   "cell_type": "markdown",
   "metadata": {},
   "source": [
    "#### Lemmatization"
   ]
  },
  {
   "cell_type": "code",
   "execution_count": 21,
   "metadata": {},
   "outputs": [],
   "source": [
    "# Initialization of Lemmatizer\n",
    "WNlemma = nltk.WordNetLemmatizer()\n",
    "cv_analyzer = CountVectorizer().build_analyzer()\n",
    "\n",
    "def lemmatize_word(doc):\n",
    "    return (WNlemma.lemmatize(t) for t in cv_analyzer(doc))\n",
    "\n",
    "lemm_vectorizer = CountVectorizer(analyzer = lemmatize_word)\n",
    "\n",
    "# Transform X_train\n",
    "X_train_lemm_vectorized = lemm_vectorizer.fit_transform(X_train)"
   ]
  },
  {
   "cell_type": "code",
   "execution_count": 22,
   "metadata": {},
   "outputs": [
    {
     "data": {
      "text/plain": [
       "(8673, 14943)"
      ]
     },
     "execution_count": 22,
     "metadata": {},
     "output_type": "execute_result"
    }
   ],
   "source": [
    "X_train_lemm_vectorized.shape"
   ]
  },
  {
   "cell_type": "code",
   "execution_count": 23,
   "metadata": {},
   "outputs": [
    {
     "name": "stdout",
     "output_type": "stream",
     "text": [
      "Lemm_Count Accuracy Score 0.3655\n"
     ]
    }
   ],
   "source": [
    "# Train the model with stemmed and vectorized dataset\n",
    "model_lemm = LogisticRegression(max_iter=1500)\n",
    "model_lemm.fit(X_train_lemm_vectorized, y_train)\n",
    "\n",
    "# Predict\n",
    "predict_probab = model_lemm.predict_proba(lemm_vectorizer.transform(X_test))[:,1]\n",
    "predictions_lemm = model_lemm.predict(lemm_vectorizer.transform(X_test))\n",
    "\n",
    "acc_score_lemm = accuracy_score(y_test, predictions_lemm).round(4)\n",
    "print(f'Lemm_Count Accuracy Score {acc_score_lemm}')"
   ]
  },
  {
   "cell_type": "markdown",
   "metadata": {},
   "source": [
    "#### Which method had highest accuracy?"
   ]
  },
  {
   "cell_type": "code",
   "execution_count": 24,
   "metadata": {},
   "outputs": [
    {
     "name": "stdout",
     "output_type": "stream",
     "text": [
      "Count_Vect Accuracy Score 0.3676\n",
      "TFIDF Accuracy Score 0.3596\n",
      "Stem_Count Accuracy Score 0.3627\n",
      "Lemm_Count Accuracy Score 0.3655\n"
     ]
    }
   ],
   "source": [
    "print(f'Count_Vect Accuracy Score {count_vect_acc_score}')\n",
    "print(f'TFIDF Accuracy Score {acc_score_tfidf}')\n",
    "print(f'Stem_Count Accuracy Score {acc_score_stem}')\n",
    "print(f'Lemm_Count Accuracy Score {acc_score_lemm}')"
   ]
  },
  {
   "cell_type": "markdown",
   "metadata": {},
   "source": [
    "processing the description text with the count vectorizer returned the highest accuracy of a logistic regression model, \n",
    "so we will train the model using the transformed text and the other features next."
   ]
  },
  {
   "cell_type": "markdown",
   "metadata": {},
   "source": [
    "#### Log-Reg Model with processed description feature"
   ]
  },
  {
   "cell_type": "code",
   "execution_count": 25,
   "metadata": {},
   "outputs": [
    {
     "data": {
      "text/plain": [
       "<8673x15958 sparse matrix of type '<class 'numpy.int64'>'\n",
       "\twith 380770 stored elements in Compressed Sparse Row format>"
      ]
     },
     "execution_count": 25,
     "metadata": {},
     "output_type": "execute_result"
    }
   ],
   "source": [
    "# vectorized description text as sparse matrix\n",
    "X_train_c_vectorized"
   ]
  },
  {
   "cell_type": "code",
   "execution_count": 26,
   "metadata": {},
   "outputs": [],
   "source": [
    "# convert sparse matrix to df\n",
    "df_nlp_train = pd.DataFrame.sparse.from_spmatrix(X_train_c_vectorized)\n",
    "df_nlp_test = pd.DataFrame.sparse.from_spmatrix(count_vect.transform(X_test))"
   ]
  },
  {
   "cell_type": "code",
   "execution_count": 27,
   "metadata": {},
   "outputs": [],
   "source": [
    "# export as pkl if used in other models\n",
    "# pd.DataFrame.sparse.from_spmatrix(X_train_c_vectorized).to_pickle('../data/petfinder-adoption-prediction/train/df_nlp_train.pkl')\n",
    "# pd.DataFrame.sparse.from_spmatrix(count_vect.transform(X_test)).to_pickle('../data/petfinder-adoption-prediction/train/df_nlp_test.pkl')"
   ]
  },
  {
   "cell_type": "code",
   "execution_count": 28,
   "metadata": {},
   "outputs": [],
   "source": [
    "# reading in the original features (for distance based models with dropped first column during dummy creation in order to avoid colinearity)\n",
    "X_test = pd.read_csv('../data/petfinder-adoption-prediction/train/X_test_minmax_scaled_dropped_first.csv', delimiter=',')\n",
    "X_train = pd.read_csv('../data/petfinder-adoption-prediction/train/X_train_minmax_scaled_dropped_first.csv', delimiter=',')\n",
    "y_test = pd.read_csv('../data/petfinder-adoption-prediction/train/y_test.csv', delimiter=',')\n",
    "y_train = pd.read_csv('../data/petfinder-adoption-prediction/train/y_train.csv', delimiter=',')"
   ]
  },
  {
   "cell_type": "code",
   "execution_count": 29,
   "metadata": {},
   "outputs": [],
   "source": [
    "# change format of y from dataframe to array\n",
    "y_test = np.ravel(y_test)\n",
    "y_train = np.ravel(y_train)"
   ]
  },
  {
   "cell_type": "code",
   "execution_count": 30,
   "metadata": {},
   "outputs": [],
   "source": [
    "# concatenate processed description text with other features\n",
    "X_train_nlp = pd.concat([X_train, df_nlp_train], axis=1)\n",
    "X_test_nlp = pd.concat([X_test, df_nlp_test], axis=1)"
   ]
  },
  {
   "cell_type": "code",
   "execution_count": 31,
   "metadata": {},
   "outputs": [],
   "source": [
    "# convert all column headers to string\n",
    "X_train_nlp.columns = X_train_nlp.columns.astype(str)\n",
    "X_test_nlp.columns = X_test_nlp.columns.astype(str)"
   ]
  },
  {
   "cell_type": "code",
   "execution_count": 32,
   "metadata": {},
   "outputs": [
    {
     "name": "stderr",
     "output_type": "stream",
     "text": [
      "/Users/annastein/neuefische/ds_capstone_pet_adoptability/.venv/lib/python3.11/site-packages/sklearn/utils/validation.py:768: UserWarning: pandas.DataFrame with sparse columns found.It will be converted to a dense numpy array.\n",
      "  warnings.warn(\n",
      "/Users/annastein/neuefische/ds_capstone_pet_adoptability/.venv/lib/python3.11/site-packages/sklearn/utils/validation.py:768: UserWarning: pandas.DataFrame with sparse columns found.It will be converted to a dense numpy array.\n",
      "  warnings.warn(\n",
      "/Users/annastein/neuefische/ds_capstone_pet_adoptability/.venv/lib/python3.11/site-packages/sklearn/utils/validation.py:768: UserWarning: pandas.DataFrame with sparse columns found.It will be converted to a dense numpy array.\n",
      "  warnings.warn(\n"
     ]
    }
   ],
   "source": [
    "# Logistic Regression Model\n",
    "log_reg = LogisticRegression(max_iter=1500)\n",
    "log_reg.fit(X_train_nlp, y_train)\n",
    "\n",
    "y_pred_train_nlp = log_reg.predict(X_train_nlp)\n",
    "y_pred_test_nlp = log_reg.predict(X_test_nlp)"
   ]
  },
  {
   "cell_type": "code",
   "execution_count": 35,
   "metadata": {},
   "outputs": [
    {
     "name": "stdout",
     "output_type": "stream",
     "text": [
      "Model Metrics and Normalized Confusion Matrix\n",
      "_____________________\n",
      "_____________________\n",
      "Accuracy: 0.8517\n",
      "_____________________\n",
      "Weighted Quadratic Kappa: 0.8149\n"
     ]
    },
    {
     "data": {
      "image/png": "[encoded data removed]",
      "text/plain": [
       "<Figure size 640x480 with 2 Axes>"
      ]
     },
     "metadata": {},
     "output_type": "display_data"
    }
   ],
   "source": [
    "# Model metrics on train-data\n",
    "our_metrics(y_train, y_pred_train_nlp, normalize=True)"
   ]
  },
  {
   "cell_type": "code",
   "execution_count": 36,
   "metadata": {},
   "outputs": [
    {
     "name": "stdout",
     "output_type": "stream",
     "text": [
      "Model Metrics and Normalized Confusion Matrix\n",
      "_____________________\n",
      "_____________________\n",
      "Accuracy: 0.3046\n",
      "_____________________\n",
      "Weighted Quadratic Kappa: 0.1289\n"
     ]
    },
    {
     "data": {
      "image/png": "[encoded data removed]",
      "text/plain": [
       "<Figure size 640x480 with 2 Axes>"
      ]
     },
     "metadata": {},
     "output_type": "display_data"
    }
   ],
   "source": [
    "# Model metrics on test-data\n",
    "our_metrics(y_test, y_pred_test_nlp, normalize=True)"
   ]
  },
  {
   "cell_type": "markdown",
   "metadata": {},
   "source": [
    "#### Conclusion\n",
    "\n",
    "The default logistic regression model overfit on the test set and returned a lower Accuracy and Kappa-Scores than our best using the character\n",
    "count of the text as a feature.\n",
    "We will conclude processing the pets' description text here, but the description sentiment should be \n",
    "further processed in future work to improve the model."
   ]
  }
 ],
 "metadata": {
  "kernelspec": {
   "display_name": "Python 3.9.8 ('.nlp': venv)",
   "language": "python",
   "name": "python3"
  },
  "language_info": {
   "codemirror_mode": {
    "name": "ipython",
    "version": 3
   },
   "file_extension": ".py",
   "mimetype": "text/x-python",
   "name": "python",
   "nbconvert_exporter": "python",
   "pygments_lexer": "ipython3",
   "version": "3.11.3"
  },
  "vscode": {
   "interpreter": {
    "hash": "9fb4e7a82a71b285d1d2fdbccfc7dcb00fac1863548a2573de3cd7a5b08c832d"
   }
  }
 },
 "nbformat": 4,
 "nbformat_minor": 4
}
