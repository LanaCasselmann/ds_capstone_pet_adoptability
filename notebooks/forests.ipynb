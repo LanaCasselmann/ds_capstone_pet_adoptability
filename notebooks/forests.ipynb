{
 "cells": [
  {
   "cell_type": "markdown",
   "metadata": {},
   "source": [
    "This notebook will use the Random Trees Algorithm for prediction of pet's adoption speed\n",
    "- Metrics: Accuracy and Cohen's Weighted Kappa \n",
    "- Comparing model performance for cats and dogs combined vs. seperately\n",
    "- Comparing model performance for single and multiple listings vs. seperating multiple listings and adjusting for the resulting bias introduced to the data"
   ]
  },
  {
   "cell_type": "code",
   "execution_count": null,
   "metadata": {},
   "outputs": [],
   "source": [
    "# importing necessary libraries and dependencies\n",
    "\n",
    "import pandas as pd\n",
    "import numpy as np\n",
    "import matplotlib.pyplot as plt\n",
    "import seaborn as sns\n",
    "\n",
    "from sklearn.ensemble import RandomForestClassifier\n",
    "from sklearn.model_selection import GridSearchCV, RandomizedSearchCV\n",
    "from sklearn.metrics import accuracy_score \n",
    "from sklearn.metrics import classification_report, confusion_matrix\n",
    "\n",
    "# import custom functions\n",
    "from custom_functions import our_metrics\n",
    "\n",
    "# display options\n",
    "pd.set_option('display.max_rows', None)\n",
    "\n",
    "\n",
    "\n"
   ]
  }
 ],
 "metadata": {
  "kernelspec": {
   "display_name": ".venv",
   "language": "python",
   "name": "python3"
  },
  "language_info": {
   "name": "python",
   "version": "3.11.3"
  },
  "orig_nbformat": 4
 },
 "nbformat": 4,
 "nbformat_minor": 2
}
