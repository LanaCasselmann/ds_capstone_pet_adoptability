{
 "cells": [
  {
   "cell_type": "markdown",
   "metadata": {},
   "source": [
    "# In this Notebook:\n",
    "- We define global setting for plotting with Seaborn with a custom color palette\n",
    "containing the colors to be same as our presentation layout\n",
    "- Plot the distribution of adoption speed by fur color for cats and dogs\n"
   ]
  },
  {
   "cell_type": "markdown",
   "metadata": {},
   "source": [
    "## Import Libraries and Dependencies"
   ]
  },
  {
   "cell_type": "code",
   "execution_count": 5,
   "metadata": {},
   "outputs": [],
   "source": [
    "import pandas as pd\n",
    "import numpy as np\n",
    "# plotting\n",
    "import seaborn as sns\n",
    "import matplotlib.pyplot as plt\n",
    "import matplotlib.patches as mpatches\n"
   ]
  },
  {
   "cell_type": "markdown",
   "metadata": {},
   "source": [
    "## Global Plot Settings (sns)"
   ]
  },
  {
   "cell_type": "code",
   "execution_count": 6,
   "metadata": {},
   "outputs": [
    {
     "data": {
      "text/html": [
       "<svg  width=\"330\" height=\"55\"><rect x=\"0\" y=\"0\" width=\"55\" height=\"55\" style=\"fill:#365b6d;stroke-width:2;stroke:rgb(255,255,255)\"/><rect x=\"55\" y=\"0\" width=\"55\" height=\"55\" style=\"fill:#41c1ba;stroke-width:2;stroke:rgb(255,255,255)\"/><rect x=\"110\" y=\"0\" width=\"55\" height=\"55\" style=\"fill:#289dd2;stroke-width:2;stroke:rgb(255,255,255)\"/><rect x=\"165\" y=\"0\" width=\"55\" height=\"55\" style=\"fill:#6c9286;stroke-width:2;stroke:rgb(255,255,255)\"/><rect x=\"220\" y=\"0\" width=\"55\" height=\"55\" style=\"fill:#f2f1ec;stroke-width:2;stroke:rgb(255,255,255)\"/><rect x=\"275\" y=\"0\" width=\"55\" height=\"55\" style=\"fill:#fa9939;stroke-width:2;stroke:rgb(255,255,255)\"/></svg>"
      ],
      "text/plain": [
       "[(0.21176470588235294, 0.3568627450980392, 0.42745098039215684),\n",
       " (0.2549019607843137, 0.7568627450980392, 0.7294117647058823),\n",
       " (0.1568627450980392, 0.615686274509804, 0.8235294117647058),\n",
       " (0.4235294117647059, 0.5725490196078431, 0.5254901960784314),\n",
       " (0.9490196078431372, 0.9450980392156862, 0.9254901960784314),\n",
       " (0.9803921568627451, 0.6, 0.2235294117647059)]"
      ]
     },
     "execution_count": 6,
     "metadata": {},
     "output_type": "execute_result"
    }
   ],
   "source": [
    "# set seaborn options globally\n",
    "colors = ['#365b6d', '#41c1ba', '#289dd2', '#6c9286', '#f2f1ec', '#fa9939']\n",
    "custom_palette = sns.set_palette(sns.color_palette(colors))\n",
    "custom_params = {\"axes.facecolor\": \"#f2f1ec\", \n",
    "\"figure.facecolor\": \"#f2f1ec\",\n",
    "'figure.titleweight': 'bold',\n",
    "'figure.titlesize': 28,#'large',\n",
    "'grid.alpha': 1.0,\n",
    "'font.size': 16.0,\n",
    "'font.weight': 'bold',\n",
    "'axes.labelsize': 16,\n",
    "'axes.labelcolor': '#365b6d',\n",
    "'axes.titlepad': 10.0,\n",
    "'axes.titlesize': 'large',\n",
    "'xtick.labelsize': 16,\n",
    "'xtick.color': '#365b6d',\n",
    "'xtick.bottom': True,\n",
    "'ytick.labelsize': 16,\n",
    "'ytick.color': '#365b6d',\n",
    "'ytick.left': True,\n",
    "'text.color' : '#365b6d',\n",
    "'legend.title_fontsize': 12.0,\n",
    "'legend.frameon': False,\n",
    "'axes.linewidth': 3,#0.8,\n",
    "'axes.spines.left': True,\n",
    "'axes.spines.bottom': True,\n",
    "'axes.spines.right': True,\n",
    "'axes.spines.top': True,\n",
    "'axes.edgecolor': '#365b6d',\n",
    "'axes.labelweight': 'bold',\n",
    "'axes.titleweight': 'bold',\n",
    "}\n",
    "sns.set_theme(style=\"white\", palette=colors, rc=custom_params)\n",
    "\n",
    "# custom color palette (color codes taken from our Canva presentation layout): \n",
    "colors = ['#365b6d', '#41c1ba', '#289dd2', '#6c9286', '#f2f1ec', '#fa9939']\n",
    "custom_palette = sns.set_palette(sns.color_palette(colors))\n",
    "#365b6d - dark blue\n",
    "#41c1ba - turquoise\n",
    "#289dd2 - medium blue\n",
    "#6c9286 - muddy green\n",
    "#fa9939 - orange \n",
    "#f2f1ec - off-white\n",
    "\n",
    "# display color palette\n",
    "sns.color_palette()"
   ]
  },
  {
   "cell_type": "markdown",
   "metadata": {},
   "source": [
    "## Read in Data"
   ]
  },
  {
   "cell_type": "code",
   "execution_count": 7,
   "metadata": {},
   "outputs": [],
   "source": [
    "df_eda = pd.read_csv('../data/petfinder-adoption-prediction/df_eda.csv')\n"
   ]
  },
  {
   "cell_type": "markdown",
   "metadata": {},
   "source": [
    "## Color Pattern influence on Adoption Speed\n",
    "- plots not included in presentation"
   ]
  },
  {
   "cell_type": "markdown",
   "metadata": {},
   "source": [
    "### Dogs"
   ]
  },
  {
   "cell_type": "code",
   "execution_count": 8,
   "metadata": {},
   "outputs": [
    {
     "data": {
      "text/html": [
       "<div>\n",
       "<style scoped>\n",
       "    .dataframe tbody tr th:only-of-type {\n",
       "        vertical-align: middle;\n",
       "    }\n",
       "\n",
       "    .dataframe tbody tr th {\n",
       "        vertical-align: top;\n",
       "    }\n",
       "\n",
       "    .dataframe thead th {\n",
       "        text-align: right;\n",
       "    }\n",
       "</style>\n",
       "<table border=\"1\" class=\"dataframe\">\n",
       "  <thead>\n",
       "    <tr style=\"text-align: right;\">\n",
       "      <th></th>\n",
       "      <th>color_pattern</th>\n",
       "      <th>adoptionspeed</th>\n",
       "      <th>value</th>\n",
       "    </tr>\n",
       "  </thead>\n",
       "  <tbody>\n",
       "    <tr>\n",
       "      <th>0</th>\n",
       "      <td>0</td>\n",
       "      <td>1</td>\n",
       "      <td>0.18</td>\n",
       "    </tr>\n",
       "    <tr>\n",
       "      <th>1</th>\n",
       "      <td>1</td>\n",
       "      <td>1</td>\n",
       "      <td>0.23</td>\n",
       "    </tr>\n",
       "    <tr>\n",
       "      <th>2</th>\n",
       "      <td>2</td>\n",
       "      <td>1</td>\n",
       "      <td>0.22</td>\n",
       "    </tr>\n",
       "    <tr>\n",
       "      <th>3</th>\n",
       "      <td>0</td>\n",
       "      <td>2</td>\n",
       "      <td>0.27</td>\n",
       "    </tr>\n",
       "    <tr>\n",
       "      <th>4</th>\n",
       "      <td>1</td>\n",
       "      <td>2</td>\n",
       "      <td>0.25</td>\n",
       "    </tr>\n",
       "    <tr>\n",
       "      <th>5</th>\n",
       "      <td>2</td>\n",
       "      <td>2</td>\n",
       "      <td>0.27</td>\n",
       "    </tr>\n",
       "    <tr>\n",
       "      <th>6</th>\n",
       "      <td>0</td>\n",
       "      <td>3</td>\n",
       "      <td>0.25</td>\n",
       "    </tr>\n",
       "    <tr>\n",
       "      <th>7</th>\n",
       "      <td>1</td>\n",
       "      <td>3</td>\n",
       "      <td>0.24</td>\n",
       "    </tr>\n",
       "    <tr>\n",
       "      <th>8</th>\n",
       "      <td>2</td>\n",
       "      <td>3</td>\n",
       "      <td>0.24</td>\n",
       "    </tr>\n",
       "    <tr>\n",
       "      <th>9</th>\n",
       "      <td>0</td>\n",
       "      <td>4</td>\n",
       "      <td>0.29</td>\n",
       "    </tr>\n",
       "    <tr>\n",
       "      <th>10</th>\n",
       "      <td>1</td>\n",
       "      <td>4</td>\n",
       "      <td>0.28</td>\n",
       "    </tr>\n",
       "    <tr>\n",
       "      <th>11</th>\n",
       "      <td>2</td>\n",
       "      <td>4</td>\n",
       "      <td>0.27</td>\n",
       "    </tr>\n",
       "  </tbody>\n",
       "</table>\n",
       "</div>"
      ],
      "text/plain": [
       "    color_pattern adoptionspeed  value\n",
       "0               0             1   0.18\n",
       "1               1             1   0.23\n",
       "2               2             1   0.22\n",
       "3               0             2   0.27\n",
       "4               1             2   0.25\n",
       "5               2             2   0.27\n",
       "6               0             3   0.25\n",
       "7               1             3   0.24\n",
       "8               2             3   0.24\n",
       "9               0             4   0.29\n",
       "10              1             4   0.28\n",
       "11              2             4   0.27"
      ]
     },
     "execution_count": 8,
     "metadata": {},
     "output_type": "execute_result"
    }
   ],
   "source": [
    "# crosstab of adoptionspeed and color pattern normalized by color pattern to plot:\n",
    "\n",
    "dog_color_pattern = pd.crosstab(df_eda.query(\"type==0\").color_pattern,df_eda.query(\"type==0\").adoptionspeed,normalize=\"index\")\n",
    "dog_color_pattern = dog_color_pattern.reset_index()\n",
    "dog_color_pattern = pd.melt(dog_color_pattern, id_vars='color_pattern', var_name='adoptionspeed', value_name='value')\n",
    "dog_color_pattern.value = dog_color_pattern.value.round(2)\n",
    "dog_color_pattern"
   ]
  },
  {
   "cell_type": "code",
   "execution_count": 11,
   "metadata": {},
   "outputs": [
    {
     "data": {
      "image/png": "[encoded data removed]",
      "text/plain": [
       "<Figure size 960x800 with 1 Axes>"
      ]
     },
     "metadata": {},
     "output_type": "display_data"
    }
   ],
   "source": [
    "# barplot adoptionspeed and color pattern for dogs:\n",
    "\n",
    "fig = sns.catplot(\n",
    "    data=dog_color_pattern, kind=\"bar\",\n",
    "    x=\"color_pattern\", y=\"value\", hue=\"adoptionspeed\",\n",
    "    alpha=1, height=8 ,aspect=1.2, legend=False, palette=['#365b6d', '#41c1ba', '#289dd2', '#6c9286'])\n",
    "\n",
    "plt.tick_params(axis=\"x\", bottom=True, colors='#365b6d')\n",
    "custom_x_ticks = [0,1,2] \n",
    "custom_y_ticks = [0.0,0.1,0.2, 0.3, 0.4, 0.5] \n",
    "custom_x_tick_labels = ['Dark Fur', 'Light Fur', 'Mix-Colored Fur'] \n",
    "plt.xticks(custom_x_ticks, custom_x_tick_labels, color='#365b6d', fontsize=11)\n",
    "plt.yticks(custom_y_ticks, color='#365b6d', fontsize=11)\n",
    "plt.xticks(color='#365b6d', fontsize=11)\n",
    "\n",
    "# Set x-axis and y-axis titles\n",
    "plt.xlabel(\"Fur Color\", fontsize=20, color='#365b6d')\n",
    "plt.ylabel(\"Proportion\", fontsize=20, color='#365b6d')\n",
    "\n",
    "# Add the legend with custom labels\n",
    "legend_labels = ['First Week', 'First Month', 'First Three Months', 'Not Adopted after 100 Days']\n",
    "legend_handles = [mpatches.Patch(color=color, label=label) for color, label in zip(['#365b6d', '#41c1ba', '#289dd2', '#6c9286'], legend_labels)]\n",
    "plt.legend(handles=legend_handles, title=\"Adoption Speed\", title_fontsize=14, bbox_to_anchor=(0.65, 0.90), loc='upper left')\n",
    "\n",
    "plt.savefig('../images/color_influence_dogs.jpg')\n",
    "\n",
    "plt.show();\n",
    "\n",
    "# color feature:\n",
    "# 0 = dark\n",
    "# 1 = light\n",
    "# 2 = mixed \n"
   ]
  },
  {
   "cell_type": "markdown",
   "metadata": {},
   "source": [
    "### Cats"
   ]
  },
  {
   "cell_type": "code",
   "execution_count": 12,
   "metadata": {},
   "outputs": [
    {
     "data": {
      "text/html": [
       "<div>\n",
       "<style scoped>\n",
       "    .dataframe tbody tr th:only-of-type {\n",
       "        vertical-align: middle;\n",
       "    }\n",
       "\n",
       "    .dataframe tbody tr th {\n",
       "        vertical-align: top;\n",
       "    }\n",
       "\n",
       "    .dataframe thead th {\n",
       "        text-align: right;\n",
       "    }\n",
       "</style>\n",
       "<table border=\"1\" class=\"dataframe\">\n",
       "  <thead>\n",
       "    <tr style=\"text-align: right;\">\n",
       "      <th></th>\n",
       "      <th>color_pattern</th>\n",
       "      <th>adoptionspeed</th>\n",
       "      <th>value</th>\n",
       "    </tr>\n",
       "  </thead>\n",
       "  <tbody>\n",
       "    <tr>\n",
       "      <th>0</th>\n",
       "      <td>0</td>\n",
       "      <td>1</td>\n",
       "      <td>0.28</td>\n",
       "    </tr>\n",
       "    <tr>\n",
       "      <th>1</th>\n",
       "      <td>1</td>\n",
       "      <td>1</td>\n",
       "      <td>0.30</td>\n",
       "    </tr>\n",
       "    <tr>\n",
       "      <th>2</th>\n",
       "      <td>2</td>\n",
       "      <td>1</td>\n",
       "      <td>0.28</td>\n",
       "    </tr>\n",
       "    <tr>\n",
       "      <th>3</th>\n",
       "      <td>0</td>\n",
       "      <td>2</td>\n",
       "      <td>0.28</td>\n",
       "    </tr>\n",
       "    <tr>\n",
       "      <th>4</th>\n",
       "      <td>1</td>\n",
       "      <td>2</td>\n",
       "      <td>0.29</td>\n",
       "    </tr>\n",
       "    <tr>\n",
       "      <th>5</th>\n",
       "      <td>2</td>\n",
       "      <td>2</td>\n",
       "      <td>0.28</td>\n",
       "    </tr>\n",
       "    <tr>\n",
       "      <th>6</th>\n",
       "      <td>0</td>\n",
       "      <td>3</td>\n",
       "      <td>0.18</td>\n",
       "    </tr>\n",
       "    <tr>\n",
       "      <th>7</th>\n",
       "      <td>1</td>\n",
       "      <td>3</td>\n",
       "      <td>0.19</td>\n",
       "    </tr>\n",
       "    <tr>\n",
       "      <th>8</th>\n",
       "      <td>2</td>\n",
       "      <td>3</td>\n",
       "      <td>0.19</td>\n",
       "    </tr>\n",
       "    <tr>\n",
       "      <th>9</th>\n",
       "      <td>0</td>\n",
       "      <td>4</td>\n",
       "      <td>0.26</td>\n",
       "    </tr>\n",
       "    <tr>\n",
       "      <th>10</th>\n",
       "      <td>1</td>\n",
       "      <td>4</td>\n",
       "      <td>0.22</td>\n",
       "    </tr>\n",
       "    <tr>\n",
       "      <th>11</th>\n",
       "      <td>2</td>\n",
       "      <td>4</td>\n",
       "      <td>0.25</td>\n",
       "    </tr>\n",
       "  </tbody>\n",
       "</table>\n",
       "</div>"
      ],
      "text/plain": [
       "    color_pattern adoptionspeed  value\n",
       "0               0             1   0.28\n",
       "1               1             1   0.30\n",
       "2               2             1   0.28\n",
       "3               0             2   0.28\n",
       "4               1             2   0.29\n",
       "5               2             2   0.28\n",
       "6               0             3   0.18\n",
       "7               1             3   0.19\n",
       "8               2             3   0.19\n",
       "9               0             4   0.26\n",
       "10              1             4   0.22\n",
       "11              2             4   0.25"
      ]
     },
     "execution_count": 12,
     "metadata": {},
     "output_type": "execute_result"
    }
   ],
   "source": [
    "# crosstab of adoptionspeed and color pattern normalized by color pattern to plot:\n",
    "\n",
    "cat_color_pattern = pd.crosstab(df_eda.query(\"type==1\").color_pattern,df_eda.query(\"type==1\").adoptionspeed,normalize=\"index\")\n",
    "cat_color_pattern = cat_color_pattern.reset_index()\n",
    "cat_color_pattern = pd.melt(cat_color_pattern, id_vars='color_pattern', var_name='adoptionspeed', value_name='value')\n",
    "cat_color_pattern.value = cat_color_pattern.value.round(2)\n",
    "cat_color_pattern"
   ]
  },
  {
   "cell_type": "code",
   "execution_count": 14,
   "metadata": {},
   "outputs": [
    {
     "data": {
      "image/png": "[encoded data removed]",
      "text/plain": [
       "<Figure size 960x800 with 1 Axes>"
      ]
     },
     "metadata": {},
     "output_type": "display_data"
    }
   ],
   "source": [
    "# barplot adoptionspeed and color pattern for cats:\n",
    "\n",
    "fig = sns.catplot(\n",
    "    data=cat_color_pattern, kind=\"bar\",\n",
    "    x=\"color_pattern\", y=\"value\", hue=\"adoptionspeed\",\n",
    "    alpha=1, height=8 ,aspect=1.2, legend=False, palette=['#365b6d', '#41c1ba', '#289dd2', '#6c9286'])\n",
    "\n",
    "plt.tick_params(axis=\"x\", bottom=True, colors='#365b6d')\n",
    "custom_x_ticks = [0,1,2] \n",
    "custom_y_ticks = [0.0,0.1,0.2, 0.3, 0.4, 0.5] \n",
    "custom_x_tick_labels = ['Dark Fur', 'Light Fur', 'Mix-Colored Fur'] \n",
    "plt.xticks(custom_x_ticks, custom_x_tick_labels, color='#365b6d', fontsize=11)\n",
    "plt.yticks(custom_y_ticks, color='#365b6d', fontsize=11)\n",
    "plt.xticks(color='#365b6d', fontsize=11)\n",
    "\n",
    "# Set x-axis and y-axis titles\n",
    "plt.xlabel(\"Fur Color\", fontsize=20, color='#365b6d')\n",
    "plt.ylabel(\"Proportion\", fontsize=20, color='#365b6d')\n",
    "\n",
    "# Add the legend with custom labels\n",
    "legend_labels = ['First Week', 'First Month', 'First Three Months', 'Not Adopted after 100 Days']\n",
    "import matplotlib.patches as mpatches\n",
    "legend_handles = [mpatches.Patch(color=color, label=label) for color, label in zip(['#365b6d', '#41c1ba', '#289dd2', '#6c9286'], legend_labels)]\n",
    "\n",
    "plt.legend(handles=legend_handles, title=\"Adoption Speed\", title_fontsize=14, bbox_to_anchor=(0.65, 0.90), loc='upper left')\n",
    "\n",
    "plt.savefig('../images/color_influence_cats.jpg')\n",
    "\n",
    "plt.show();\n",
    "# color feature:\n",
    "# 0 = dark\n",
    "# 1 = light\n",
    "# 2 = mixed "
   ]
  }
 ],
 "metadata": {
  "kernelspec": {
   "display_name": ".venv",
   "language": "python",
   "name": "python3"
  },
  "language_info": {
   "codemirror_mode": {
    "name": "ipython",
    "version": 3
   },
   "file_extension": ".py",
   "mimetype": "text/x-python",
   "name": "python",
   "nbconvert_exporter": "python",
   "pygments_lexer": "ipython3",
   "version": "3.11.3"
  },
  "orig_nbformat": 4
 },
 "nbformat": 4,
 "nbformat_minor": 2
}
