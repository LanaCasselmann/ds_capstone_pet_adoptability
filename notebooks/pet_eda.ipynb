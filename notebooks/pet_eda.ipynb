{
 "cells": [
  {
   "cell_type": "code",
   "execution_count": null,
   "metadata": {},
   "outputs": [],
   "source": [
    "import pandas as pd\n",
    "import numpy as np\n",
    "# plotting\n",
    "import seaborn as sns\n",
    "import matplotlib.pyplot as plt\n",
    "\n",
    "# Modelling\n",
    "from sklearn.model_selection import train_test_split \n",
    "from sklearn.tree import DecisionTreeClassifier\n",
    "from sklearn.tree import plot_tree\n",
    "from sklearn.metrics import accuracy_score \n",
    "from sklearn.metrics import classification_report, confusion_matrix\n",
    "from sklearn import tree\n",
    "# import graphviz\n",
    "# Scaling with Minmax-scaler\n",
    "from sklearn.preprocessing import MinMaxScaler\n",
    "\n",
    "# from ydata_profiling import ProfileReport\n",
    "\n",
    "# import custom functions\n",
    "from custom_functions import our_metrics\n",
    "\n",
    "pd.set_option('display.max_rows', 10)"
   ]
  },
  {
   "cell_type": "code",
   "execution_count": null,
   "metadata": {},
   "outputs": [],
   "source": [
    "df_raw = pd.read_csv(\"../data/petfinder-adoption-prediction/train/train.csv\")\n",
    "df_raw.columns = df_raw.columns.str.lower() #make column names lowercase"
   ]
  },
  {
   "cell_type": "code",
   "execution_count": null,
   "metadata": {},
   "outputs": [],
   "source": [
    "df_raw.head().T"
   ]
  },
  {
   "cell_type": "code",
   "execution_count": null,
   "metadata": {},
   "outputs": [],
   "source": [
    "# #eda_report = ProfileReport(df_raw, title=\"Eda report\")\n",
    "# eda_report.to_file(\"eda_report.html\")\n",
    "\n",
    "# Creates initial basic EDA report. Basically an increased .describe() and .info()"
   ]
  },
  {
   "cell_type": "code",
   "execution_count": null,
   "metadata": {},
   "outputs": [],
   "source": [
    "df_dropped = df_raw.drop([\"state\",\"petid\",\"rescuerid\",\"name\"],axis=1) # Drop some columns that are not needed (yet)\n"
   ]
  },
  {
   "cell_type": "code",
   "execution_count": null,
   "metadata": {},
   "outputs": [],
   "source": [
    "df_dropped.adoptionspeed.value_counts(normalize=True) #Distribution of our classes. Relatively balanced! \n",
    "# Class 0 (Adopted on day of listing) will later be merge into class 1 (Adopted within the first week) since there are only few instances and for our stakeholder it is not so important.\n",
    "# Also it is unlikely that pets with certain properties are predictably adopted on day 1 (instead of day 2-7). Its more likely that it is just by chance."
   ]
  },
  {
   "cell_type": "code",
   "execution_count": null,
   "metadata": {},
   "outputs": [],
   "source": [
    "#pd.crosstab([df_dropped[\"color1\"],df_dropped[\"color2\"],df_dropped[\"type\"]],df_dropped[\"adoptionspeed\"],normalize=\"index\")\n",
    "\n",
    "# Delete this?"
   ]
  },
  {
   "cell_type": "code",
   "execution_count": null,
   "metadata": {},
   "outputs": [],
   "source": [
    "for column_name in df_dropped.columns:\n",
    "    print(pd.crosstab(df_dropped[column_name], df_dropped[\"adoptionspeed\"],normalize=\"index\"))\n",
    "    print(\"____________\")\n",
    "\n",
    "# All features two-way influence on the target. There are some patterns but there are no clear and easy univariate ways to determine the adoption speed.\n",
    "# \n",
    "# A few questions and feature engineering ideas arose:\n",
    "# Some patterns we find might be different for cats and dogs.\n",
    "# Check if a pure-breed vs mixed breed feature can be created\n",
    "# Shall we bin the age to get rid of the outliers?\n",
    "# The quantity column is tricky. If there are more animals listed in one profile (at a certain point) the adoption speed will decrease because it takes time until they all are adopted. \n",
    "# However, dropping all rows with quantity > 1 would mean that we loose 23% of data and would alter the age distribution (many profiles of quantity > 1 animals are newborn litters with very low age).\n",
    "# Speaking of age: There seem to be many interactive effects with age. For example we thought that vaccinated and dewormed animals would have a higher adoption speed. That did not hold true, though, sine young animals have high adoption rate but are often not (yet) vaccinated.\n"
   ]
  },
  {
   "cell_type": "code",
   "execution_count": null,
   "metadata": {},
   "outputs": [],
   "source": [
    "pd.crosstab(df_dropped.quantity, df_dropped.adoptionspeed)#, normalize=\"index\")"
   ]
  },
  {
   "cell_type": "code",
   "execution_count": null,
   "metadata": {},
   "outputs": [],
   "source": [
    "df_color_breed = df_dropped[[\"color1\", \"color2\", \"color3\", \"breed1\", \"breed2\", \"type\"]]"
   ]
  },
  {
   "cell_type": "code",
   "execution_count": null,
   "metadata": {},
   "outputs": [],
   "source": [
    "sns.pairplot(df_color_breed, hue=\"type\")\n",
    "# If an animal has the color black (1), the colorcode (1) is always used in the color1 column. Or generally for a multi-color animal the lowest colorcode goes into column1. This explains the triangular shapes below. "
   ]
  },
  {
   "cell_type": "markdown",
   "metadata": {},
   "source": [
    "color feature is filled in in numerical order: color1 < color2 < color3 (except for 0), not sorted by primary color\n",
    "dark: (color1,color2,color3)= (1,0,0), (2,0,0), (6,0,0), (1,2,0), (1,6,0), (1,2,6), (2,6,0)\n",
    "mixed: else\n",
    "light: (3,0,0), (4,0,0), (5,0,0), (7,0,0), (3,4,0), (3,5,0), (3,7,0), (3,4,5), (3,4,7), (3,5,7), (4,5,0), (4,5,7), (4,7,0), (5,7,0)\n",
    "\n",
    "1,\"Black\"\n",
    "2,\"Brown\"\n",
    "3,\"Golden\"\n",
    "4,\"Yellow\"\n",
    "5,\"Cream\"\n",
    "6,\"Gray\"\n",
    "7,\"White\"\n",
    "\n",
    "breed: mixed breed/no breed 2 dominant, supporting the idea of mixed vs. pure breed feature (stumpy tail breed not in data set)\n",
    "cat mixed breed: domestic short hair, domestic medium hair, domestic long hair are considered mixed breeds, breed1=!breed2\n",
    "dog mixed breed: category 307 or different entries in breed1 and breed2 column. Pure breed: entry =!307 in breed 1 and breed2=0\n"
   ]
  },
  {
   "cell_type": "markdown",
   "metadata": {},
   "source": [
    "# Idea to create color_pattern column encoding whether an animal is 'dark', \"light\" or \"mixed\" colored."
   ]
  },
  {
   "cell_type": "code",
   "execution_count": null,
   "metadata": {},
   "outputs": [],
   "source": [
    "patternlist = []\n",
    "for colorcode in (df_dropped.color1.astype(str) + df_dropped.color2.astype(str) + df_dropped.color3.astype(str)):\n",
    "    if colorcode in (\"100\",\"200\",\"600\",\"120\",\"160\",\"126\",\"260\"):\n",
    "        patternlist.append(0) # 0 = dark color pattern\n",
    "    elif colorcode in (\"300\", \"400\", \"500\", \"700\", \"340\", \"350\", \"370\", \"345\", \"347\", \"357\", \"450\", \"457\", \"470\", \"570\"):\n",
    "        patternlist.append(1) # 1 = light color pattern\n",
    "    else:\n",
    "        patternlist.append(2) # 2 = mixed color pattern\n",
    "\n",
    "df_dropped[\"color_pattern\"] = patternlist"
   ]
  },
  {
   "cell_type": "code",
   "execution_count": null,
   "metadata": {},
   "outputs": [],
   "source": [
    "df_dropped[[\"color_pattern\"]].value_counts()"
   ]
  },
  {
   "cell_type": "code",
   "execution_count": null,
   "metadata": {},
   "outputs": [],
   "source": [
    "pd.crosstab(df_dropped[\"color_pattern\"],df_dropped[\"adoptionspeed\"],normalize='index')\n",
    "#pd.crosstab([df_dropped[\"color_pattern\"],df_dropped[\"type\"]],df_dropped[\"adoptionspeed\"],normalize='index')\n",
    "# mixed > light > black animals adoptionspeed. Only true for dogs, though. Presumably because black/dark dogs are intimidating"
   ]
  },
  {
   "cell_type": "markdown",
   "metadata": {},
   "source": [
    "# Create pure-breed vs mixed breed feature"
   ]
  },
  {
   "cell_type": "code",
   "execution_count": null,
   "metadata": {},
   "outputs": [],
   "source": [
    "#df_dropped.breed2.value_counts()"
   ]
  },
  {
   "cell_type": "code",
   "execution_count": null,
   "metadata": {},
   "outputs": [],
   "source": [
    "# breed: mixed breed/no breed 2 dominant, supporting the idea of mixed vs. pure breed feature (stumpy tail breed not in data set)\n",
    "# cat mixed breed: domestic short hair, domestic medium hair, domestic long hair are considered mixed breeds, breed1=!breed2\n",
    "# dog mixed breed: category 307 or different entries in breed1 and breed2 column. Pure breed: entry =!307 in breed 1 and breed2=0\n",
    "\n",
    "#264,2,\"Domestic Long Hair\"\n",
    "#265,2,\"Domestic Medium Hair\"\n",
    "#266,2,\"Domestic Short Hair\"\n",
    "\n",
    "#pure_bred: breed2=0 & breed1 != 307, 264, 265, 266\n",
    "\n"
   ]
  },
  {
   "cell_type": "code",
   "execution_count": null,
   "metadata": {},
   "outputs": [],
   "source": [
    "df_dropped.query('breed1 == breed2 and breed1 != 307 and breed1 != 264 and breed1 != 265 and breed1 != 266').breed1.value_counts()\n",
    "\n",
    "# There are some instances where pure bred animals have the same entry in breed1 and breed2 column. This needs to be taken into account.    "
   ]
  },
  {
   "cell_type": "code",
   "execution_count": null,
   "metadata": {},
   "outputs": [],
   "source": [
    "df_dropped['breed_type'] = np.where((((df_dropped[\"breed2\"] == 0) | (df_dropped[\"breed1\"] == df_dropped[\"breed2\"])) & (df_dropped.breed1 != 307) & (df_dropped.breed1 != 264) & (df_dropped.breed1 != 265) & (df_dropped.breed1 != 266)), 0, 1)\n",
    "\n",
    "# Complicated but it works :) 0 = pure-bred 1 = mixed-bred"
   ]
  },
  {
   "cell_type": "code",
   "execution_count": null,
   "metadata": {},
   "outputs": [],
   "source": [
    "df_dropped.breed_type.value_counts()"
   ]
  },
  {
   "cell_type": "code",
   "execution_count": null,
   "metadata": {},
   "outputs": [],
   "source": [
    "#we can use this graph in the presentation but separately for cats and dogs \n",
    "\n",
    "pd.crosstab(df_dropped[\"adoptionspeed\"],df_dropped[\"breed_type\"],normalize=\"columns\").plot.bar()\n",
    "\n",
    "# Pure-bred animals have a faster adoption speed.\n",
    "# However, ..."
   ]
  },
  {
   "cell_type": "code",
   "execution_count": null,
   "metadata": {},
   "outputs": [],
   "source": [
    "pd.crosstab([df_dropped.type, df_dropped.breed_type], df_dropped.adoptionspeed,normalize='index')\n",
    "\n",
    "# ... this is only true for dogs and quite the opposite for cats!"
   ]
  },
  {
   "cell_type": "code",
   "execution_count": null,
   "metadata": {},
   "outputs": [],
   "source": [
    "# 3 means not known and we replaced it with 2 that is not vaccinated or dewormed. Unknown vaccination status means that they need to get vaxxed anyways so its equal to \"no vaccination\"\n",
    "df_dropped['vaccinated'] = df_dropped['vaccinated'].replace(3,2)\n",
    "df_dropped['dewormed'] = df_dropped['dewormed'].replace(3,2)"
   ]
  },
  {
   "cell_type": "code",
   "execution_count": null,
   "metadata": {},
   "outputs": [],
   "source": [
    "# combine the vaccinated and dewormed pets and turn it into another feature. Vaccinated and dewormed are highly correlated and it most likely makes sense to only keep one.\n",
    "# three categories: fully vaccinated and dewormed (0), either only vaccinated or dewormed (1), and neither vaccinated or dewormed (2) \n",
    "\n",
    "# create a list of our conditions\n",
    "conditions = [\n",
    "    ((df_dropped['vaccinated'] == 1) & (df_dropped['dewormed'] == 1)),\n",
    "    ((df_dropped['vaccinated'] == 1) & (df_dropped['dewormed'] == 2)),\n",
    "    ((df_dropped['vaccinated'] == 2) & (df_dropped['dewormed'] == 1)),\n",
    "    ((df_dropped['vaccinated'] == 2) & (df_dropped['dewormed'] == 2))\n",
    "    ]\n",
    "\n",
    "# create a list of the values we want to assign for each condition\n",
    "values = [0, 1, 1, 2]\n",
    "\n",
    "# create a new column and use np.select to assign values to it using our lists as arguments\n",
    "df_dropped['vaccinated_dewormed'] = np.select(conditions, values)"
   ]
  },
  {
   "cell_type": "code",
   "execution_count": null,
   "metadata": {},
   "outputs": [],
   "source": [
    "df_dropped['vaccinated_dewormed'].value_counts()"
   ]
  },
  {
   "cell_type": "markdown",
   "metadata": {},
   "source": [
    "This new feature vaccinated_dewormed shows that adoption speed is not drastically effected by it that much, but this needs to be further investigated. But this is an important feature for further analysis as they both were highly correlated too. "
   ]
  },
  {
   "cell_type": "code",
   "execution_count": null,
   "metadata": {},
   "outputs": [],
   "source": [
    "pd.crosstab(df_dropped.query('age < 4 & type == 2')['adoptionspeed'],df_dropped.query('age < 4 & type == 2')[\"vaccinated_dewormed\"],normalize=\"columns\").plot.bar()"
   ]
  },
  {
   "cell_type": "markdown",
   "metadata": {},
   "source": [
    "# Age\n"
   ]
  },
  {
   "cell_type": "code",
   "execution_count": null,
   "metadata": {},
   "outputs": [],
   "source": [
    "# due to a very low number of instances in adoption speed 0, we will combine cat. 0 and 1\n",
    "df_dropped.adoptionspeed = df_dropped.adoptionspeed.replace(0,1)"
   ]
  },
  {
   "cell_type": "code",
   "execution_count": null,
   "metadata": {},
   "outputs": [],
   "source": [
    "sns.catplot(data=df_dropped, x='adoptionspeed', y='age', hue='type', jitter=0.3)"
   ]
  },
  {
   "cell_type": "markdown",
   "metadata": {},
   "source": [
    "hypothesis: cats will be adopted faster, regardless of their age, but old dogs will remain in the shelter longer. \n",
    "- younger animals are adopted faster\n",
    "- there are more dogs then cats among the older animals in the shelter (adult or old dogs are in the shelter more frequently then adult or old cats)"
   ]
  },
  {
   "cell_type": "code",
   "execution_count": null,
   "metadata": {},
   "outputs": [],
   "source": [
    "# Plot distribution of features \n",
    "features = ['type', 'age', 'gender', 'maturitysize', 'furlength', 'sterilized', 'health', 'quantity', 'fee', 'videoamt', 'photoamt', 'color_pattern', 'breed_type', 'vaccinated_dewormed']\n",
    "\n",
    "fig,ax = plt.subplots(7,2,figsize=(34,30))\n",
    "count = 0\n",
    "for item in features:\n",
    "    sns.countplot(df_dropped, x=item, ax=ax[int(count/2)][count%2], hue='adoptionspeed').set(title=item, xlabel='')#color='#33658A', kde=True\n",
    "    count += 1\n",
    "#ax.flat[-1].set_visible(False)\n",
    "fig.tight_layout(pad=3)\n",
    "\n",
    "#fig.savefig('images/feature_histogram.jpg')"
   ]
  },
  {
   "cell_type": "code",
   "execution_count": null,
   "metadata": {},
   "outputs": [],
   "source": [
    "df_dropped.videoamt.value_counts()"
   ]
  },
  {
   "cell_type": "code",
   "execution_count": null,
   "metadata": {},
   "outputs": [],
   "source": [
    "#pd.crosstab(df_dropped[\"videoamt\"], df_dropped[\"adoptionspeed\"],normalize=\"index\")"
   ]
  },
  {
   "cell_type": "code",
   "execution_count": null,
   "metadata": {},
   "outputs": [],
   "source": [
    "# drop video column: hardly any animals with videos, from above crosstab/count plot: for those with video all adoption speeds apparent\n",
    "df_dropped.drop([\"videoamt\",\"color1\", \"color2\", \"color3\",\"breed1\",\"breed2\", \"vaccinated\", \"dewormed\"], axis=1, inplace=True)"
   ]
  },
  {
   "cell_type": "code",
   "execution_count": null,
   "metadata": {},
   "outputs": [],
   "source": [
    "# bin fee 0 = no, 1 = yes\n",
    "# hardly any animals with a fee, binned together\n",
    "df_dropped[\"fee_bin\"] = np.where((df_dropped[\"fee\"] == 0), 0, 1)\n"
   ]
  },
  {
   "cell_type": "code",
   "execution_count": null,
   "metadata": {},
   "outputs": [],
   "source": [
    "df_dropped.fee_bin.value_counts()"
   ]
  },
  {
   "cell_type": "code",
   "execution_count": null,
   "metadata": {},
   "outputs": [],
   "source": [
    "# bin age feature:\n",
    "# cats sterilized at around 4 months old, dogs >= 6 months\n",
    "# newborn: 0-3 months higher adoption speeds up to this age on average (0)\n",
    "# puppy/kitten 4-12 (1)\n",
    "# adult 13-72 month (2)\n",
    "# senior: >= 73 (3)\n",
    "\n",
    "# create a list of our conditions\n",
    "conditions_age = [\n",
    "    ((df_dropped['age'] >= 0) & (df_dropped['age'] <= 3)),\n",
    "    ((df_dropped['age'] >= 4) & (df_dropped['age'] <= 12)),\n",
    "    ((df_dropped['age'] >= 13) & (df_dropped['age'] <= 72)),\n",
    "    (df_dropped['age'] >= 73)\n",
    "    ]\n",
    "\n",
    "# create a list of the values we want to assign for each condition\n",
    "values_age = [0, 1, 2, 3]\n",
    "\n",
    "# create a new column and use np.select to assign values to it using our lists as arguments\n",
    "df_dropped['age_bin'] = np.select(conditions_age, values_age)"
   ]
  },
  {
   "cell_type": "code",
   "execution_count": null,
   "metadata": {},
   "outputs": [],
   "source": [
    "df_dropped.age_bin.value_counts()"
   ]
  },
  {
   "cell_type": "code",
   "execution_count": null,
   "metadata": {},
   "outputs": [],
   "source": [
    "sns.countplot(df_dropped, x=\"age_bin\", hue='adoptionspeed')\n"
   ]
  },
  {
   "cell_type": "code",
   "execution_count": null,
   "metadata": {},
   "outputs": [],
   "source": [
    "df_dropped.drop([\"age\",\"fee\"], axis=1, inplace=True) #dropping age and fee column because new binned column was created"
   ]
  },
  {
   "cell_type": "code",
   "execution_count": null,
   "metadata": {},
   "outputs": [],
   "source": [
    "features = df_dropped.columns.tolist()\n",
    "features.remove(\"description\")\n",
    "\n",
    "corr_matrix = df_dropped[features].corr()\n",
    "\n",
    "# creating mask\n",
    "mask = np.triu(np.ones_like(corr_matrix.corr()))\n",
    "# plotting a triangle correlation heatmap\n",
    "\n",
    "plt.figure(figsize=(15,7))\n",
    "sns.heatmap(corr_matrix, annot=True ,cmap=\"magma\", mask=mask)\n",
    "plt.show()"
   ]
  },
  {
   "cell_type": "code",
   "execution_count": null,
   "metadata": {},
   "outputs": [],
   "source": [
    "pd.crosstab(df_dropped[\"photoamt\"], df_dropped[\"adoptionspeed\"],normalize=\"index\")"
   ]
  },
  {
   "cell_type": "code",
   "execution_count": null,
   "metadata": {},
   "outputs": [],
   "source": [
    "pd.crosstab(df_dropped[\"photoamt\"], df_dropped[\"adoptionspeed\"]#,normalize=\"index\"\n",
    ").plot.line()"
   ]
  },
  {
   "cell_type": "code",
   "execution_count": null,
   "metadata": {},
   "outputs": [],
   "source": [
    "# what about age bin >=1 (i.e., old enough to be sterilized) and sterilization?\n",
    "sns.countplot(df_dropped.query(\"age_bin != 0\"), x=\"sterilized\", hue='adoptionspeed').set(title=\"Sterilization for age_bin >=1\")\n",
    "# it does not matter that much whether animals are sterilized or not"
   ]
  },
  {
   "cell_type": "code",
   "execution_count": null,
   "metadata": {},
   "outputs": [],
   "source": [
    "# what about age bin >=1 (i.e., old enough to be sterilized) and sterilization?\n",
    "sns.countplot(df_dropped.query(\"age_bin == 0\"), x=\"sterilized\", hue='adoptionspeed').set(title=\"Sterilization for age_bin =0\")\n",
    "# it does not matter if puppies/kittens are sterilized or not"
   ]
  },
  {
   "cell_type": "code",
   "execution_count": null,
   "metadata": {},
   "outputs": [],
   "source": [
    "df_dropped.query(\"photoamt >10\").adoptionspeed.value_counts().sum()/df_dropped.shape[0]"
   ]
  },
  {
   "cell_type": "code",
   "execution_count": null,
   "metadata": {},
   "outputs": [],
   "source": [
    "# bin photoamt >10 to 11 to get rid of tail\n",
    "df_dropped[\"photoamt_11\"] = np.where((df_dropped[\"photoamt\"] < 11), df_dropped[\"photoamt\"], 11)"
   ]
  },
  {
   "cell_type": "code",
   "execution_count": null,
   "metadata": {},
   "outputs": [],
   "source": [
    "df_dropped.photoamt_11.value_counts()"
   ]
  },
  {
   "cell_type": "code",
   "execution_count": null,
   "metadata": {},
   "outputs": [],
   "source": [
    "pd.crosstab(df_dropped[\"photoamt_11\"], df_dropped[\"adoptionspeed\"]#,normalize=\"index\"\n",
    ").plot.line()"
   ]
  },
  {
   "cell_type": "markdown",
   "metadata": {},
   "source": [
    "## Recommendation to increase Adoption Speed\n",
    "\n",
    "* Add pictures, ideally $\\geq 4$ (starting from that amount, Adoption speed 4 is not the largest subset anymore)"
   ]
  },
  {
   "cell_type": "markdown",
   "metadata": {},
   "source": [
    "# Feature Description Length\n",
    "to utilize the description column, we will create a feature holding the length of the description string, the hypothesis being\n",
    "that animals with a more detailed description will be adopted faster. "
   ]
  },
  {
   "cell_type": "code",
   "execution_count": null,
   "metadata": {},
   "outputs": [],
   "source": [
    "#check where description col. contains missing values\n",
    "(df_dropped[df_dropped['description'].isnull()])"
   ]
  },
  {
   "cell_type": "code",
   "execution_count": null,
   "metadata": {},
   "outputs": [],
   "source": [
    "# create feature of description length (character count)\n",
    "df_dropped['description_char'] = df_dropped.description.str.len()\n",
    "\n",
    "#check if this worked\n",
    "df_dropped.description_char.value_counts()"
   ]
  },
  {
   "cell_type": "code",
   "execution_count": null,
   "metadata": {},
   "outputs": [],
   "source": [
    "# the new feature should have same amount of NaN\n",
    "\n",
    "(df_dropped[df_dropped['description_char'].isnull()])"
   ]
  },
  {
   "cell_type": "code",
   "execution_count": null,
   "metadata": {},
   "outputs": [],
   "source": [
    "# fill missing char count with 0\n",
    "df_dropped['description_char'] = df_dropped['description_char'].fillna(0)"
   ]
  },
  {
   "cell_type": "code",
   "execution_count": null,
   "metadata": {},
   "outputs": [],
   "source": [
    "# create feature of description length (word count)\n",
    "df_dropped['description_words'] = df_dropped.description.str.count(' ')+1\n",
    "\n",
    "#check if this worked\n",
    "df_dropped.description_words.value_counts()"
   ]
  },
  {
   "cell_type": "code",
   "execution_count": null,
   "metadata": {},
   "outputs": [],
   "source": [
    "# fill missing word count with 0\n",
    "df_dropped['description_words'] = df_dropped['description_words'].fillna(0)"
   ]
  },
  {
   "cell_type": "code",
   "execution_count": null,
   "metadata": {},
   "outputs": [],
   "source": [
    "sns.histplot(data=df_dropped, x='description_words')"
   ]
  },
  {
   "cell_type": "code",
   "execution_count": null,
   "metadata": {},
   "outputs": [],
   "source": [
    "#sns.histplot(data=df_dropped, x='description_len')"
   ]
  },
  {
   "cell_type": "markdown",
   "metadata": {},
   "source": [
    "the distribution is extremely skewed and something must be done with it"
   ]
  },
  {
   "cell_type": "code",
   "execution_count": null,
   "metadata": {},
   "outputs": [],
   "source": [
    "#sns.catplot(data=df_dropped, x='adoptionspeed', y='description_len', jitter=0.2)"
   ]
  },
  {
   "cell_type": "code",
   "execution_count": null,
   "metadata": {},
   "outputs": [],
   "source": [
    "sns.catplot(data=df_dropped, x='adoptionspeed', y='description_words', jitter=0.2)"
   ]
  },
  {
   "cell_type": "code",
   "execution_count": null,
   "metadata": {},
   "outputs": [],
   "source": [
    "# drop description column\n",
    "#df_dropped.drop(['description'], inplace=True, axis=1)"
   ]
  },
  {
   "cell_type": "markdown",
   "metadata": {},
   "source": [
    "the description length does not seem to influence the adoption speed"
   ]
  },
  {
   "cell_type": "code",
   "execution_count": null,
   "metadata": {},
   "outputs": [],
   "source": [
    "# plot the heatmap with final features:\n",
    "\n",
    "#features3 = df_dropped.columns.tolist()\n",
    "\n",
    "#corr_matrix = df_dropped[features3].corr()\n",
    "\n",
    "# creating mask\n",
    "#mask = np.triu(np.ones_like(corr_matrix.corr()))\n",
    "# plotting a triangle correlation heatmap\n",
    "\n",
    "#plt.figure(figsize=(15,7))\n",
    "#sns.heatmap(corr_matrix, annot=True ,cmap=\"magma\", mask=mask)\n",
    "#plt.show()"
   ]
  },
  {
   "cell_type": "markdown",
   "metadata": {},
   "source": [
    "# How to handle multiple animal listings\n",
    "some oberservations do not refer to one single animal but a group (assumption: most often one littre, which is supported by the finding that most of these listings have animals in age category 0 or 1 (0-3 months and 4-12 months). Possible strategies:\n",
    "- drop the listings as faulty data (+ the faulty features of these observations would not influence the model; - we would lose mostly young animals which might introduce an age bias)\n",
    "- treat these observations as one single animal, introduce another category for misleading features (like mix for colorpattern)\n",
    "- split from the data and model separately in a later iteration"
   ]
  },
  {
   "cell_type": "code",
   "execution_count": null,
   "metadata": {},
   "outputs": [],
   "source": [
    "df_dropped.query(\"quantity>1\").age_bin.value_counts()"
   ]
  },
  {
   "cell_type": "code",
   "execution_count": null,
   "metadata": {},
   "outputs": [],
   "source": [
    "pd.crosstab([df_dropped[\"quantity\"],df_dropped[\"age_bin\"]], df_dropped[\"adoptionspeed\"],normalize=\"index\")"
   ]
  },
  {
   "cell_type": "code",
   "execution_count": null,
   "metadata": {},
   "outputs": [],
   "source": [
    "# how much data of animals aged 0 and 1 would we lose by dropping the multiple listings?\n",
    "\n",
    "print(f'we would loose {(df_dropped.query(\"quantity>1\").age_bin.value_counts().iloc[0]/df_dropped.age_bin.value_counts().iloc[0]).round(2)} percent of newborns.')\n",
    "print(f'we would loose {(df_dropped.query(\"quantity>1\").age_bin.value_counts().iloc[1]/df_dropped.age_bin.value_counts().iloc[1]).round(2)} percent of kittens/puppies.')\n",
    "print(f'we would loose {(df_dropped.query(\"quantity>1\").age_bin.value_counts().iloc[2]/df_dropped.age_bin.value_counts().iloc[2]).round(2)} percent of adults.')\n",
    "print(f'we would loose {(df_dropped.query(\"quantity>1\").age_bin.value_counts().iloc[3]/df_dropped.age_bin.value_counts().iloc[3]).round(2)} percent of seniors.')\n",
    "\n",
    "\n",
    "# looking at the percentage, we would loose much more of newborns and puppies and kittens if we dropped multiple listings\n",
    "# but does their distribution actually differ from the entire data (meaning would dropping them skew the distribution differently then it was before)?"
   ]
  },
  {
   "cell_type": "code",
   "execution_count": null,
   "metadata": {},
   "outputs": [],
   "source": [
    "# comparing age distribution in the entire dataset and those we would drop:\n",
    "\n",
    "fig,ax = plt.subplots(1,3,figsize=(15,5))\n",
    "sns.histplot(ax=ax[0], data=df_dropped, x='age_bin', stat='percent', bins=4)\n",
    "sns.histplot(ax=ax[1], data=df_dropped.query('quantity > 1'), x='age_bin', stat='percent', bins=4)\n",
    "sns.histplot(ax=ax[2], data=df_dropped.query('quantity == 1'), x='age_bin', stat='percent', bins=4)\n",
    "ax[0].set_title('age distribution across all data')\n",
    "ax[1].set_title('age distribution across multi-listings')\n",
    "ax[2].set_title('age distribution across single-listings')\n",
    "fig.tight_layout(pad=3)\n",
    "\n"
   ]
  },
  {
   "cell_type": "code",
   "execution_count": null,
   "metadata": {},
   "outputs": [],
   "source": [
    "# comparing adoption speed distribution in the entire dataset and those we would drop:\n",
    "\n",
    "fig,ax = plt.subplots(1,3,figsize=(15,5))\n",
    "sns.histplot(ax=ax[0], data=df_dropped, x='adoptionspeed', stat='percent', bins=4)\n",
    "sns.histplot(ax=ax[1], data=df_dropped.query('quantity > 1'), x='adoptionspeed', stat='percent', bins=4)\n",
    "sns.histplot(ax=ax[2], data=df_dropped.query('quantity == 1'), x='adoptionspeed', stat='percent', bins=4)\n",
    "ax[0].set_title('adoptionspeed distribution across all data')\n",
    "ax[1].set_title('adoptionspeed distribution across multi-listings')\n",
    "ax[2].set_title('adoptionspeed distribution across single-listings')\n",
    "fig.tight_layout(pad=3)"
   ]
  },
  {
   "cell_type": "code",
   "execution_count": null,
   "metadata": {},
   "outputs": [],
   "source": [
    "pd.crosstab(df_dropped.quantity, df_dropped.adoptionspeed, normalize='index')"
   ]
  },
  {
   "cell_type": "code",
   "execution_count": null,
   "metadata": {},
   "outputs": [],
   "source": [
    "pd.crosstab([df_dropped.quantity, df_dropped.age_bin], df_dropped.adoptionspeed, normalize='index')"
   ]
  },
  {
   "cell_type": "code",
   "execution_count": null,
   "metadata": {},
   "outputs": [],
   "source": [
    "df_dropped.query('quantity > 1').adoptionspeed.value_counts()"
   ]
  },
  {
   "cell_type": "markdown",
   "metadata": {},
   "source": [
    "## Baseline Model\n",
    "\n",
    "We decided on a decision tree with a limited number of features as a baseline model. \n",
    "\n",
    "Features considered:\n",
    "\n",
    "* age_bin\n",
    "* photo_11\n",
    "* breed_type\n",
    "* type\n",
    "* color_pattern\n",
    "\n",
    "\"young animals that are pure bred and of a light color pattern listed with photos are adopted fastest\""
   ]
  },
  {
   "cell_type": "code",
   "execution_count": null,
   "metadata": {},
   "outputs": [],
   "source": [
    "# Plot distribution of features \n",
    "features2 = ['type', 'age_bin', 'gender', 'maturitysize', 'furlength', 'sterilized', 'health', 'quantity', 'fee_bin', 'photoamt_11', 'color_pattern', 'breed_type', 'vaccinated_dewormed']\n",
    "\n",
    "fig,ax = plt.subplots(7,2,figsize=(34,30))\n",
    "count = 0\n",
    "for item in features2:\n",
    "    sns.countplot(df_dropped, x=item, ax=ax[int(count/2)][count%2], hue='adoptionspeed').set(title=item, xlabel='')#color='#33658A', kde=True\n",
    "    count += 1\n",
    "#ax.flat[-1].set_visible(False)\n",
    "fig.tight_layout(pad=3)\n",
    "\n",
    "#fig.savefig('../images/feature_histogram2.jpg')"
   ]
  },
  {
   "cell_type": "markdown",
   "metadata": {},
   "source": [
    "# Baseline moved to the bottom after final cleaning and dummy creation."
   ]
  },
  {
   "cell_type": "markdown",
   "metadata": {},
   "source": [
    "# Dummies for different models\n",
    "\n",
    "- type: change type to 0,1 (substract 1)\n",
    "- gender: change gender to 0,1,2 (substract 1), get dummy according to your model\n",
    "- maturitry size: ordinal, substract 1, get dummy according to your model\n",
    "- fur length: ordinal, substract 1, get dummy according to your model\n",
    "- sterilization: replace unknown (3) with 2 (no), substract 1\n",
    "- health: ordinal, substract 1, get dummy according to your model\n",
    "- quantity: rescale\n",
    "- description: drop for MVP\n",
    "- photoamt: drop \n",
    "- colorpattern: get dummies \n",
    "- breed type: done\n",
    "- vaccinated_dewormed: could be ordinal if you really want it to :)\n",
    "- fee_bin: done\n",
    "- age_bin: ordinal, rescale for distance-based models\n",
    "- photoamt_11: ordinal, rescale\n",
    "- description_len: drop\n",
    "- description_char/description_words: ordinal, rescale if you want to include in model \n"
   ]
  },
  {
   "cell_type": "code",
   "execution_count": null,
   "metadata": {},
   "outputs": [],
   "source": [
    "# change the type column to 0 and 1\n",
    "df_dropped['type'] = df_dropped['type'] - 1"
   ]
  },
  {
   "cell_type": "code",
   "execution_count": null,
   "metadata": {},
   "outputs": [],
   "source": [
    "# change gender to 0, 1,2 from 1, 2, 3 \n",
    "df_dropped['gender'] = df_dropped['gender'] - 1"
   ]
  },
  {
   "cell_type": "code",
   "execution_count": null,
   "metadata": {},
   "outputs": [],
   "source": [
    "# change the maturity size\n",
    "df_dropped['maturitysize'] = df_dropped['maturitysize'] -1 "
   ]
  },
  {
   "cell_type": "code",
   "execution_count": null,
   "metadata": {},
   "outputs": [],
   "source": [
    "# convert the fur size\n",
    "df_dropped['furlength'] = df_dropped['furlength'] -1 "
   ]
  },
  {
   "cell_type": "code",
   "execution_count": null,
   "metadata": {},
   "outputs": [],
   "source": [
    "# convert the health to 0,1,2\n",
    "df_dropped['health'] = df_dropped['health'] -1 "
   ]
  },
  {
   "cell_type": "code",
   "execution_count": null,
   "metadata": {},
   "outputs": [],
   "source": [
    "# replace the 3 which is unknown with no\n",
    "df_dropped['sterilized'] = df_dropped['sterilized'].replace(3,2)"
   ]
  },
  {
   "cell_type": "code",
   "execution_count": null,
   "metadata": {},
   "outputs": [],
   "source": [
    "# convert the sterilized to 0,1\n",
    "df_dropped['sterilized'] = df_dropped['sterilized'] - 1"
   ]
  },
  {
   "cell_type": "code",
   "execution_count": null,
   "metadata": {},
   "outputs": [],
   "source": [
    "# drop columns that we donot need in the models\n",
    "df_dropped = df_dropped.drop(['photoamt', 'description', 'description_words'], axis=1, errors='ignore')"
   ]
  },
  {
   "cell_type": "markdown",
   "metadata": {},
   "source": [
    "# Create dummies and scale"
   ]
  },
  {
   "cell_type": "code",
   "execution_count": null,
   "metadata": {},
   "outputs": [],
   "source": []
  },
  {
   "cell_type": "code",
   "execution_count": null,
   "metadata": {},
   "outputs": [],
   "source": [
    "# dummies for some columns: gender, maturity size, fur length, health, color_pattern (first column is not dropped from the dummies)\n",
    "\n",
    "dummy_list = ['gender', 'maturitysize', 'furlength', 'health', 'color_pattern']\n",
    "\n",
    "df_dummies = pd.get_dummies(df_dropped[dummy_list], columns=dummy_list, dtype=int)\n"
   ]
  },
  {
   "cell_type": "code",
   "execution_count": null,
   "metadata": {},
   "outputs": [],
   "source": [
    "# first dummy column dropped for the distance based algorithms\n",
    "df_dummies_distance = pd.get_dummies(df_dropped[dummy_list], columns=dummy_list, dtype=int, drop_first=True)"
   ]
  },
  {
   "cell_type": "code",
   "execution_count": null,
   "metadata": {},
   "outputs": [],
   "source": [
    "# create the dataframe with the dropped first dummy column\n",
    "df_processed_dropped_first =  pd.concat([df_dropped.drop(dummy_list,axis=1), df_dummies_distance],axis=1)"
   ]
  },
  {
   "cell_type": "code",
   "execution_count": null,
   "metadata": {},
   "outputs": [],
   "source": [
    "#processed dataframe with dummy columns where first column was not dropped\n",
    "df_processed =  pd.concat([df_dropped.drop(dummy_list,axis=1), df_dummies],axis=1)"
   ]
  },
  {
   "cell_type": "code",
   "execution_count": null,
   "metadata": {},
   "outputs": [],
   "source": [
    "# define X with processed data that still has the all the dummy columns\n",
    "X_processed = df_processed.drop('adoptionspeed', axis=1)\n"
   ]
  },
  {
   "cell_type": "code",
   "execution_count": null,
   "metadata": {},
   "outputs": [],
   "source": [
    "# define X with data that has the first dummy column dropped\n",
    "X_dropped_first = df_processed_dropped_first.drop('adoptionspeed', axis=1)"
   ]
  },
  {
   "cell_type": "code",
   "execution_count": null,
   "metadata": {},
   "outputs": [],
   "source": [
    "#train test split with X_processed\n",
    "y = df_processed[\"adoptionspeed\"]\n",
    "X_train_processed, X_test_processed, y_train, y_test = train_test_split(X_processed, y, random_state=42, stratify=y)"
   ]
  },
  {
   "cell_type": "code",
   "execution_count": null,
   "metadata": {},
   "outputs": [],
   "source": [
    "# train test split with the dataframe that has first dummy column removed\n",
    "X_train_dropped_first, X_test_dropped_first, y_train, y_test = train_test_split(X_dropped_first, y, random_state=42, stratify=y)"
   ]
  },
  {
   "cell_type": "code",
   "execution_count": null,
   "metadata": {},
   "outputs": [],
   "source": [
    "minmax_scaler = MinMaxScaler()\n",
    "# scaled the 4 features \n",
    "num_features = ['quantity', 'photoamt_11', 'age_bin', 'description_char']\n",
    "#scaling with the processed data with all dummy columns\n",
    "X_train_minmax_scaled_processed_1 = minmax_scaler.fit_transform(X_train_processed[num_features])\n",
    "X_test_minmax_scaled_processed_1 = minmax_scaler.transform(X_test_processed[num_features])\n",
    "\n",
    "X_train_minmax_scaled_processed = pd.concat([X_train_processed.drop(num_features,axis=1).reset_index(drop=True), pd.DataFrame(X_train_minmax_scaled_processed_1,columns= num_features)],axis=1)\n",
    "X_test_minmax_scaled_processed = pd.concat([X_test_processed.drop(num_features,axis=1).reset_index(drop=True), pd.DataFrame(X_test_minmax_scaled_processed_1,columns= num_features)],axis=1)"
   ]
  },
  {
   "cell_type": "code",
   "execution_count": null,
   "metadata": {},
   "outputs": [],
   "source": [
    "# scaling the processed data with first dummy column removed\n",
    "X_train_minmax_scaled_dropped_first_1 = minmax_scaler.fit_transform(X_train_dropped_first[num_features])\n",
    "X_test_minmax_scaled_dropped_first_1 = minmax_scaler.transform(X_test_dropped_first[num_features])\n",
    "\n",
    "X_train_minmax_scaled_dropped_first = pd.concat([X_train_dropped_first.drop(num_features,axis=1).reset_index(drop=True), pd.DataFrame(X_train_minmax_scaled_dropped_first_1,columns= num_features)],axis=1)\n",
    "X_test_minmax_scaled_dropped_first = pd.concat([X_test_dropped_first.drop(num_features,axis=1).reset_index(drop=True), pd.DataFrame(X_test_minmax_scaled_dropped_first_1,columns= num_features)],axis=1)"
   ]
  },
  {
   "cell_type": "markdown",
   "metadata": {},
   "source": [
    "# Export Processed Data "
   ]
  },
  {
   "cell_type": "code",
   "execution_count": null,
   "metadata": {},
   "outputs": [],
   "source": [
    "# export processed data set to csv\n",
    "\n",
    "# export features for tree-based models\n",
    "pd.DataFrame(X_train_minmax_scaled_processed).to_csv('../data/petfinder-adoption-prediction/train/X_train_minmax_scaled_processed.csv', index=False)\n",
    "pd.DataFrame(X_test_minmax_scaled_processed).to_csv('../data/petfinder-adoption-prediction/train/X_test_minmax_scaled_processed.csv', index=False)\n",
    "\n",
    "# export features for distance-based models\n",
    "pd.DataFrame(X_train_minmax_scaled_dropped_first).to_csv('../data/petfinder-adoption-prediction/train/X_train_minmax_scaled_dropped_first.csv', index=False)\n",
    "pd.DataFrame(X_test_minmax_scaled_dropped_first).to_csv('../data/petfinder-adoption-prediction/train/X_test_minmax_scaled_dropped_first.csv', index=False)\n",
    "\n",
    "# export target\n",
    "pd.DataFrame(y_train).to_csv('../data/petfinder-adoption-prediction/train/y_train.csv', index=False)\n",
    "pd.DataFrame(y_test).to_csv('../data/petfinder-adoption-prediction/train/y_test.csv', index=False)\n"
   ]
  },
  {
   "cell_type": "markdown",
   "metadata": {},
   "source": [
    "# Create separate cat / dog dataframes before train test split"
   ]
  },
  {
   "cell_type": "code",
   "execution_count": null,
   "metadata": {},
   "outputs": [],
   "source": [
    "df_dogs = df_dropped[df_dropped[\"type\"]==0].reset_index(drop=True)\n",
    "df_cats = df_dropped[df_dropped[\"type\"]==1].reset_index(drop=True)"
   ]
  },
  {
   "cell_type": "code",
   "execution_count": null,
   "metadata": {},
   "outputs": [],
   "source": [
    "dummy_list = ['gender', 'maturitysize', 'furlength', 'health', 'color_pattern']\n",
    "\n",
    "\n",
    "df_dog_dummies = pd.get_dummies(df_dogs[dummy_list], columns=dummy_list, dtype=int)\n",
    "df_dogs =  pd.concat([df_dogs.drop(dummy_list,axis=1), df_dog_dummies],axis=1)\n",
    "\n",
    "df_cat_dummies = pd.get_dummies(df_cats[dummy_list], columns=dummy_list, dtype=int)\n",
    "df_cats =  pd.concat([df_cats.drop(dummy_list,axis=1), df_cat_dummies],axis=1)"
   ]
  },
  {
   "cell_type": "code",
   "execution_count": null,
   "metadata": {},
   "outputs": [],
   "source": [
    "X_dogs = df_dogs.drop('adoptionspeed', axis=1)\n",
    "y_dogs = df_dogs[\"adoptionspeed\"]\n",
    "X_train_dogs, X_test_dogs, y_train_dogs, y_test_dogs = train_test_split(X_dogs, y_dogs, random_state=42, stratify=y_dogs)"
   ]
  },
  {
   "cell_type": "code",
   "execution_count": null,
   "metadata": {},
   "outputs": [],
   "source": [
    "X_cats = df_cats.drop('adoptionspeed', axis=1)\n",
    "y_cats = df_cats[\"adoptionspeed\"]\n",
    "X_train_cats, X_test_cats, y_train_cats, y_test_cats = train_test_split(X_cats, y_cats, random_state=42, stratify=y_cats)"
   ]
  },
  {
   "cell_type": "code",
   "execution_count": null,
   "metadata": {},
   "outputs": [],
   "source": [
    "minmax_scaler = MinMaxScaler()\n",
    "# scaled the 4 features \n",
    "num_features = ['quantity', 'photoamt_11', 'age_bin', 'description_char']\n",
    "#scaling with the processed data with all dummy columns\n",
    "X_train_dogs_sc = minmax_scaler.fit_transform(X_train_dogs[num_features])\n",
    "X_test_dogs_sc = minmax_scaler.transform(X_test_dogs[num_features])\n",
    "\n",
    "X_train_dogs = pd.concat([X_train_dogs.drop(num_features,axis=1).reset_index(drop=True), pd.DataFrame(X_train_dogs_sc,columns= num_features)],axis=1)\n",
    "X_test_dogs = pd.concat([X_test_dogs.drop(num_features,axis=1).reset_index(drop=True), pd.DataFrame(X_test_dogs_sc,columns= num_features)],axis=1)"
   ]
  },
  {
   "cell_type": "code",
   "execution_count": null,
   "metadata": {},
   "outputs": [],
   "source": [
    "minmax_scaler = MinMaxScaler()\n",
    "#scaling with the processed data with all dummy columns\n",
    "X_train_cats_sc = minmax_scaler.fit_transform(X_train_cats[num_features])\n",
    "X_test_cats_sc = minmax_scaler.transform(X_test_cats[num_features])\n",
    "\n",
    "X_train_cats = pd.concat([X_train_cats.drop(num_features,axis=1).reset_index(drop=True), pd.DataFrame(X_train_cats_sc,columns= num_features)],axis=1)\n",
    "X_test_cats = pd.concat([X_test_cats.drop(num_features,axis=1).reset_index(drop=True), pd.DataFrame(X_test_cats_sc,columns= num_features)],axis=1)"
   ]
  },
  {
   "cell_type": "code",
   "execution_count": null,
   "metadata": {},
   "outputs": [],
   "source": [
    "# export processed data set to csv\n",
    "\n",
    "# export features for tree-based models\n",
    "pd.DataFrame(X_train_dogs).to_csv('../data/petfinder-adoption-prediction/train/X_train_dogs.csv', index=False)\n",
    "pd.DataFrame(X_test_dogs).to_csv('../data/petfinder-adoption-prediction/train/X_test_dogs.csv', index=False)\n",
    "\n",
    "# export features for distance-based models\n",
    "pd.DataFrame(X_train_cats).to_csv('../data/petfinder-adoption-prediction/train/X_train_cats.csv', index=False)\n",
    "pd.DataFrame(X_test_cats).to_csv('../data/petfinder-adoption-prediction/train/X_test_cats.csv', index=False)\n",
    "\n",
    "# export target\n",
    "pd.DataFrame(y_train_dogs).to_csv('../data/petfinder-adoption-prediction/train/y_train_dogs.csv', index=False)\n",
    "pd.DataFrame(y_test_dogs).to_csv('../data/petfinder-adoption-prediction/train/y_test_dogs.csv', index=False)\n",
    "\n",
    "pd.DataFrame(y_train_cats).to_csv('../data/petfinder-adoption-prediction/train/y_train_cats.csv', index=False)\n",
    "pd.DataFrame(y_test_cats).to_csv('../data/petfinder-adoption-prediction/train/y_test_cats.csv', index=False)"
   ]
  },
  {
   "cell_type": "markdown",
   "metadata": {},
   "source": [
    "# Baseline model:"
   ]
  },
  {
   "cell_type": "code",
   "execution_count": null,
   "metadata": {},
   "outputs": [],
   "source": [
    "X_baseline = df_processed[[\"age_bin\", \"photoamt_11\", \"breed_type\", \"type\", \"color_pattern_0\",\"color_pattern_1\",\"color_pattern_2\"]]\n",
    "y = df_processed[\"adoptionspeed\"]\n",
    "X_train_bl, X_test_bl, y_train_bl, y_test_bl = train_test_split(X_baseline, y, random_state=42, stratify=y)\n",
    "baseline = DecisionTreeClassifier(max_depth = 4, min_samples_leaf = 15)\n",
    "baseline.fit(X_train_bl, y_train_bl)\n",
    "\n",
    "y_pred_bl = baseline.predict(X_test_bl)\n",
    "our_metrics(y_test_bl, y_pred_bl, normalize=True)"
   ]
  },
  {
   "cell_type": "markdown",
   "metadata": {},
   "source": [
    "# Graphviz commented out:"
   ]
  },
  {
   "cell_type": "code",
   "execution_count": null,
   "metadata": {},
   "outputs": [],
   "source": [
    "# fig = plt.figure(figsize=(35,20))\n",
    "# baseline_plot = plot_tree(baseline, filled=True, fontsize=12, feature_names=[\"age_bin\", \"photoamt_11\", \"breed_type\", \"type\", \"color_pattern_0\",\"color_pattern_1\",\"color_pattern_2\"], class_names=True)\n",
    "# plt.savefig('../images/baseline_plot.jpg')"
   ]
  },
  {
   "cell_type": "code",
   "execution_count": null,
   "metadata": {},
   "outputs": [],
   "source": [
    "# dot_data = tree.export_graphviz(baseline, out_file=None, feature_names=[\"age_bin\", \"photoamt_11\", \"breed_type\", \"type\", \"color_pattern\"], class_names=['1','2','3','4'], rounded=True, special_characters=True, filled=True) \n",
    "# baseline_plot_2 = graphviz.Source(dot_data)\n",
    "\n",
    "# baseline_plot_2.render('../images/baseline_plot_2')\n",
    "# baseline_plot_2"
   ]
  }
 ],
 "metadata": {
  "kernelspec": {
   "display_name": ".venv",
   "language": "python",
   "name": "python3"
  },
  "language_info": {
   "codemirror_mode": {
    "name": "ipython",
    "version": 3
   },
   "file_extension": ".py",
   "mimetype": "text/x-python",
   "name": "python",
   "nbconvert_exporter": "python",
   "pygments_lexer": "ipython3",
   "version": "3.11.3"
  },
  "orig_nbformat": 4
 },
 "nbformat": 4,
 "nbformat_minor": 2
}
