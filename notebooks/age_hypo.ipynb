{
 "cells": [
  {
   "cell_type": "code",
   "execution_count": 1,
   "metadata": {},
   "outputs": [],
   "source": [
    "import pandas as pd\n",
    "import numpy as np\n",
    "# plotting\n",
    "import seaborn as sns\n",
    "import matplotlib.pyplot as plt\n"
   ]
  },
  {
   "cell_type": "code",
   "execution_count": 22,
   "metadata": {},
   "outputs": [],
   "source": [
    "# plot settings\n",
    "sns.set(style=\"white\", rc={\"axes.facecolor\": \"#f2f1ec\", \"figure.facecolor\": \"#f2f1ec\"})  # Change the color code as needed\n",
    "\n",
    "# custom color palette: \n",
    "colors = ['#365b6d', '#41c1ba', '#289dd2', '#6c9286', '#f2f1ec', '#fa9939']\n",
    "#365b6d - dark blue\n",
    "#41c1ba - turquoise\n",
    "#289dd2 - medium blue\n",
    "#6c9286 - muddy green\n",
    "#fa9939 - orange \n",
    "#f2f1ec - off-white\n",
    "\n",
    "# Set your custom color palette\n",
    "custom_palette = sns.set_palette(sns.color_palette(colors))\n",
    "#sns.set_style(\"darkgrid\")\n",
    "\n",
    "# for multiple plots\n",
    "# sns.despine(left=True, bottom=True)"
   ]
  },
  {
   "cell_type": "code",
   "execution_count": 3,
   "metadata": {},
   "outputs": [],
   "source": [
    "df = pd.read_csv('../data/petfinder-adoption-prediction/eda/df_eda.csv')"
   ]
  },
  {
   "cell_type": "code",
   "execution_count": 4,
   "metadata": {},
   "outputs": [
    {
     "data": {
      "text/plain": [
       "adoptionspeed\n",
       "4    0.279931\n",
       "2    0.269259\n",
       "1    0.233442\n",
       "3    0.217368\n",
       "Name: proportion, dtype: float64"
      ]
     },
     "execution_count": 4,
     "metadata": {},
     "output_type": "execute_result"
    }
   ],
   "source": [
    "df.adoptionspeed.value_counts(normalize=True)"
   ]
  },
  {
   "cell_type": "code",
   "execution_count": 5,
   "metadata": {},
   "outputs": [
    {
     "data": {
      "text/html": [
       "<div>\n",
       "<style scoped>\n",
       "    .dataframe tbody tr th:only-of-type {\n",
       "        vertical-align: middle;\n",
       "    }\n",
       "\n",
       "    .dataframe tbody tr th {\n",
       "        vertical-align: top;\n",
       "    }\n",
       "\n",
       "    .dataframe thead th {\n",
       "        text-align: right;\n",
       "    }\n",
       "</style>\n",
       "<table border=\"1\" class=\"dataframe\">\n",
       "  <thead>\n",
       "    <tr style=\"text-align: right;\">\n",
       "      <th>adoptionspeed</th>\n",
       "      <th>1</th>\n",
       "      <th>2</th>\n",
       "      <th>3</th>\n",
       "      <th>4</th>\n",
       "    </tr>\n",
       "    <tr>\n",
       "      <th>age_bin</th>\n",
       "      <th></th>\n",
       "      <th></th>\n",
       "      <th></th>\n",
       "      <th></th>\n",
       "    </tr>\n",
       "  </thead>\n",
       "  <tbody>\n",
       "    <tr>\n",
       "      <th>0</th>\n",
       "      <td>0.219507</td>\n",
       "      <td>0.319600</td>\n",
       "      <td>0.255121</td>\n",
       "      <td>0.205773</td>\n",
       "    </tr>\n",
       "    <tr>\n",
       "      <th>1</th>\n",
       "      <td>0.141140</td>\n",
       "      <td>0.211187</td>\n",
       "      <td>0.234187</td>\n",
       "      <td>0.413487</td>\n",
       "    </tr>\n",
       "    <tr>\n",
       "      <th>2</th>\n",
       "      <td>0.210804</td>\n",
       "      <td>0.192601</td>\n",
       "      <td>0.208456</td>\n",
       "      <td>0.388139</td>\n",
       "    </tr>\n",
       "    <tr>\n",
       "      <th>3</th>\n",
       "      <td>0.150000</td>\n",
       "      <td>0.268182</td>\n",
       "      <td>0.227273</td>\n",
       "      <td>0.354545</td>\n",
       "    </tr>\n",
       "  </tbody>\n",
       "</table>\n",
       "</div>"
      ],
      "text/plain": [
       "adoptionspeed         1         2         3         4\n",
       "age_bin                                              \n",
       "0              0.219507  0.319600  0.255121  0.205773\n",
       "1              0.141140  0.211187  0.234187  0.413487\n",
       "2              0.210804  0.192601  0.208456  0.388139\n",
       "3              0.150000  0.268182  0.227273  0.354545"
      ]
     },
     "execution_count": 5,
     "metadata": {},
     "output_type": "execute_result"
    }
   ],
   "source": [
    "pd.crosstab(df.query(\"type==0\").age_bin,df.query(\"type==0\").adoptionspeed,normalize=\"index\")"
   ]
  },
  {
   "cell_type": "code",
   "execution_count": 6,
   "metadata": {},
   "outputs": [
    {
     "data": {
      "text/html": [
       "<div>\n",
       "<style scoped>\n",
       "    .dataframe tbody tr th:only-of-type {\n",
       "        vertical-align: middle;\n",
       "    }\n",
       "\n",
       "    .dataframe tbody tr th {\n",
       "        vertical-align: top;\n",
       "    }\n",
       "\n",
       "    .dataframe thead th {\n",
       "        text-align: right;\n",
       "    }\n",
       "</style>\n",
       "<table border=\"1\" class=\"dataframe\">\n",
       "  <thead>\n",
       "    <tr style=\"text-align: right;\">\n",
       "      <th></th>\n",
       "      <th>age_bin</th>\n",
       "      <th>adoptionspeed</th>\n",
       "      <th>value</th>\n",
       "    </tr>\n",
       "  </thead>\n",
       "  <tbody>\n",
       "    <tr>\n",
       "      <th>0</th>\n",
       "      <td>0</td>\n",
       "      <td>1</td>\n",
       "      <td>0.219507</td>\n",
       "    </tr>\n",
       "    <tr>\n",
       "      <th>1</th>\n",
       "      <td>1</td>\n",
       "      <td>1</td>\n",
       "      <td>0.141140</td>\n",
       "    </tr>\n",
       "    <tr>\n",
       "      <th>2</th>\n",
       "      <td>2</td>\n",
       "      <td>1</td>\n",
       "      <td>0.210804</td>\n",
       "    </tr>\n",
       "    <tr>\n",
       "      <th>3</th>\n",
       "      <td>3</td>\n",
       "      <td>1</td>\n",
       "      <td>0.150000</td>\n",
       "    </tr>\n",
       "    <tr>\n",
       "      <th>4</th>\n",
       "      <td>0</td>\n",
       "      <td>2</td>\n",
       "      <td>0.319600</td>\n",
       "    </tr>\n",
       "    <tr>\n",
       "      <th>5</th>\n",
       "      <td>1</td>\n",
       "      <td>2</td>\n",
       "      <td>0.211187</td>\n",
       "    </tr>\n",
       "    <tr>\n",
       "      <th>6</th>\n",
       "      <td>2</td>\n",
       "      <td>2</td>\n",
       "      <td>0.192601</td>\n",
       "    </tr>\n",
       "    <tr>\n",
       "      <th>7</th>\n",
       "      <td>3</td>\n",
       "      <td>2</td>\n",
       "      <td>0.268182</td>\n",
       "    </tr>\n",
       "    <tr>\n",
       "      <th>8</th>\n",
       "      <td>0</td>\n",
       "      <td>3</td>\n",
       "      <td>0.255121</td>\n",
       "    </tr>\n",
       "    <tr>\n",
       "      <th>9</th>\n",
       "      <td>1</td>\n",
       "      <td>3</td>\n",
       "      <td>0.234187</td>\n",
       "    </tr>\n",
       "    <tr>\n",
       "      <th>10</th>\n",
       "      <td>2</td>\n",
       "      <td>3</td>\n",
       "      <td>0.208456</td>\n",
       "    </tr>\n",
       "    <tr>\n",
       "      <th>11</th>\n",
       "      <td>3</td>\n",
       "      <td>3</td>\n",
       "      <td>0.227273</td>\n",
       "    </tr>\n",
       "    <tr>\n",
       "      <th>12</th>\n",
       "      <td>0</td>\n",
       "      <td>4</td>\n",
       "      <td>0.205773</td>\n",
       "    </tr>\n",
       "    <tr>\n",
       "      <th>13</th>\n",
       "      <td>1</td>\n",
       "      <td>4</td>\n",
       "      <td>0.413487</td>\n",
       "    </tr>\n",
       "    <tr>\n",
       "      <th>14</th>\n",
       "      <td>2</td>\n",
       "      <td>4</td>\n",
       "      <td>0.388139</td>\n",
       "    </tr>\n",
       "    <tr>\n",
       "      <th>15</th>\n",
       "      <td>3</td>\n",
       "      <td>4</td>\n",
       "      <td>0.354545</td>\n",
       "    </tr>\n",
       "  </tbody>\n",
       "</table>\n",
       "</div>"
      ],
      "text/plain": [
       "    age_bin adoptionspeed     value\n",
       "0         0             1  0.219507\n",
       "1         1             1  0.141140\n",
       "2         2             1  0.210804\n",
       "3         3             1  0.150000\n",
       "4         0             2  0.319600\n",
       "5         1             2  0.211187\n",
       "6         2             2  0.192601\n",
       "7         3             2  0.268182\n",
       "8         0             3  0.255121\n",
       "9         1             3  0.234187\n",
       "10        2             3  0.208456\n",
       "11        3             3  0.227273\n",
       "12        0             4  0.205773\n",
       "13        1             4  0.413487\n",
       "14        2             4  0.388139\n",
       "15        3             4  0.354545"
      ]
     },
     "execution_count": 6,
     "metadata": {},
     "output_type": "execute_result"
    }
   ],
   "source": [
    "dog_age = pd.crosstab(df.query(\"type==0\").age_bin,df.query(\"type==0\").adoptionspeed,normalize=\"index\")\n",
    "dog_age = dog_age.reset_index()\n",
    "dog_age = pd.melt(dog_age, id_vars='age_bin', var_name='adoptionspeed', value_name='value')\n",
    "dog_age"
   ]
  },
  {
   "cell_type": "markdown",
   "metadata": {},
   "source": [
    "# Visual"
   ]
  },
  {
   "cell_type": "code",
   "execution_count": 14,
   "metadata": {},
   "outputs": [],
   "source": [
    "from matplotlib import pyplot"
   ]
  },
  {
   "cell_type": "code",
   "execution_count": 30,
   "metadata": {},
   "outputs": [
    {
     "data": {
      "text/plain": [
       "<Figure size 3000x800 with 0 Axes>"
      ]
     },
     "metadata": {},
     "output_type": "display_data"
    },
    {
     "data": {
      "image/png": "[encoded data removed]",
      "text/plain": [
       "<Figure size 600x600 with 1 Axes>"
      ]
     },
     "metadata": {},
     "output_type": "display_data"
    }
   ],
   "source": [
    "g = plt.figure(figsize=(30,8))\n",
    "# Plot\n",
    "g = sns.catplot(\n",
    "    data=dog_age, kind=\"bar\",\n",
    "    x=\"adoptionspeed\", y=\"value\", hue=\"age_bin\",\n",
    "    alpha=1, height=6, legend=False\n",
    ")"
   ]
  },
  {
   "cell_type": "code",
   "execution_count": 45,
   "metadata": {},
   "outputs": [
    {
     "data": {
      "text/plain": [
       "<seaborn.axisgrid.FacetGrid at 0x13610a950>"
      ]
     },
     "execution_count": 45,
     "metadata": {},
     "output_type": "execute_result"
    },
    {
     "data": {
      "image/png": "[encoded data removed]",
      "text/plain": [
       "<Figure size 960x800 with 1 Axes>"
      ]
     },
     "metadata": {},
     "output_type": "display_data"
    }
   ],
   "source": [
    "#sns.set(style=\"white\", rc={\"axes.facecolor\": \"#f2f1ec\", \"figure.facecolor\": \"#f2f1ec\"})  # Change the color code as needed\n",
    "\n",
    "# Plot\n",
    "g = sns.catplot(\n",
    "    data=dog_age, kind=\"bar\",\n",
    "    x=\"adoptionspeed\", y=\"value\", hue=\"age_bin\",\n",
    "    alpha=1, height=8,aspect=1.2, legend=False\n",
    ")\n",
    "\n",
    "\n",
    "# Make a box around the plot, set the linewidth and color.\n",
    "ax = plt.gca()\n",
    "ax.spines['top'].set_visible(True)\n",
    "ax.spines['top'].set_linewidth(3)\n",
    "ax.spines['top'].set_color('#365b6d')  \n",
    "\n",
    "ax.spines['right'].set_visible(True)\n",
    "ax.spines['right'].set_linewidth(3)\n",
    "ax.spines['right'].set_color('#365b6d')  \n",
    "\n",
    "ax.spines['bottom'].set_linewidth(3)\n",
    "ax.spines['bottom'].set_color('#365b6d')  \n",
    "\n",
    "ax.spines['left'].set_linewidth(3)\n",
    "ax.spines['left'].set_color('#365b6d')  \n",
    "\n",
    "# Customize tickmarks:\n",
    "# #plt.tick_params(axis='both',  # 'both' applies to both x and y axes\n",
    "#                 which='both',  # 'both' applies to both major and minor ticks\n",
    "#                 color='black',  # Set the tick color\n",
    "#                 width=15,  # Set the tick width\n",
    "#                 length=15,  # Set the tick length\n",
    "#                 direction='out',  # 'in', 'out', or 'inout'\n",
    "#                 )\n",
    "plt.tick_params(axis=\"x\", bottom=True, color='#365b6d',width=3) \n",
    "plt.tick_params(axis=\"y\", left=True, color='#365b6d',width=3) \n",
    "\n",
    "plt.yticks(color='#365b6d',fontsize=12, ticks=[0.1,0.2,0.3,0.4],fontweight='bold')\n",
    "plt.xticks(color='#365b6d',fontsize=12,fontweight='bold', ticks=[0,1,2,3], labels=['First Week', 'First Month', 'First Three Month', 'Not Adopted After 100 Days'])\n",
    "\n",
    "legend = ax.legend(title=\"Age group\", loc=\"upper left\",frameon=False, labelcolor='#365b6d')\n",
    "legend.get_title().set_color('#365b6d')\n",
    "legend.get_title().set_fontweight('bold')\n",
    "labellist = [\"Newborn\", \"Puppy / Kitten\", \"Adult\", \"Senior\"]\n",
    "for i,label in enumerate(legend.get_texts()):\n",
    "    label.set_weight('bold')\n",
    "    label.set_text(labellist[i]) \n",
    "\n",
    "g.set_axis_labels(\"Adoptionspeed\", \"Proportional count\", color = '#365b6d',fontweight='bold')\n",
    "\n",
    "\n"
   ]
  },
  {
   "cell_type": "code",
   "execution_count": null,
   "metadata": {},
   "outputs": [],
   "source": [
    "plt.savefig('../images/presentation/photoamt.jpg')"
   ]
  },
  {
   "cell_type": "code",
   "execution_count": 33,
   "metadata": {},
   "outputs": [
    {
     "data": {
      "text/plain": [
       "age_bin\n",
       "0    7952\n",
       "1    4259\n",
       "2    2518\n",
       "3     264\n",
       "Name: count, dtype: int64"
      ]
     },
     "execution_count": 33,
     "metadata": {},
     "output_type": "execute_result"
    }
   ],
   "source": [
    "df.age_bin.value_counts()"
   ]
  }
 ],
 "metadata": {
  "kernelspec": {
   "display_name": ".venv",
   "language": "python",
   "name": "python3"
  },
  "language_info": {
   "codemirror_mode": {
    "name": "ipython",
    "version": 3
   },
   "file_extension": ".py",
   "mimetype": "text/x-python",
   "name": "python",
   "nbconvert_exporter": "python",
   "pygments_lexer": "ipython3",
   "version": "3.11.3"
  },
  "orig_nbformat": 4
 },
 "nbformat": 4,
 "nbformat_minor": 2
}
