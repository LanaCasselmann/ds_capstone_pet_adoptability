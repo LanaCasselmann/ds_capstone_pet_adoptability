{
 "cells": [
  {
   "cell_type": "markdown",
   "metadata": {},
   "source": [
    "# Modeling Pat Adoption with RandomForestClassifier"
   ]
  },
  {
   "cell_type": "markdown",
   "metadata": {},
   "source": [
    "This notebook will use the Random Trees Algorithm for prediction of pet's adoption speed\n",
    "- Metrics: Accuracy and Cohen's Weighted Kappa \n",
    "- Comparing model performance for cats and dogs combined vs. seperately. We will evaluate the overall accuracy for cats and dogs with \n",
    "  acc_combined_model = ((acc_cats * number_cats) + (acc_dogs * number_dogs))/(number_cats + number_dogs)"
   ]
  },
  {
   "cell_type": "code",
   "execution_count": 2,
   "metadata": {},
   "outputs": [],
   "source": [
    "# importing necessary libraries and dependencies\n",
    "\n",
    "import pandas as pd\n",
    "import numpy as np\n",
    "import matplotlib.pyplot as plt\n",
    "import seaborn as sns\n",
    "\n",
    "from sklearn.ensemble import RandomForestClassifier\n",
    "from sklearn.model_selection import GridSearchCV, RandomizedSearchCV\n",
    "from sklearn.metrics import accuracy_score \n",
    "from sklearn.metrics import classification_report, confusion_matrix\n",
    "\n",
    "# import custom functions\n",
    "from custom_functions import our_metrics, get_kappa, model_hyperparams\n",
    "\n",
    "# display options\n",
    "pd.set_option('display.max_rows', None)\n",
    "\n",
    "\n",
    "\n"
   ]
  },
  {
   "cell_type": "markdown",
   "metadata": {},
   "source": [
    "# Import processed data - Cats and Dogs Combined"
   ]
  },
  {
   "cell_type": "code",
   "execution_count": 3,
   "metadata": {},
   "outputs": [],
   "source": [
    "# import features\n",
    "X_train = pd.read_csv('../data/petfinder-adoption-prediction/train/X_train_minmax_scaled_processed.csv')\n",
    "X_test = pd.read_csv('../data/petfinder-adoption-prediction/train/X_test_minmax_scaled_processed.csv')\n",
    "\n",
    "# import target\n",
    "y_train = pd.read_csv('../data/petfinder-adoption-prediction/train/y_train.csv')\n",
    "y_test = pd.read_csv('../data/petfinder-adoption-prediction/train/y_test.csv')\n",
    "\n",
    "# turn target df into 1D-array\n",
    "y_train = y_train.values.ravel()\n",
    "y_test = y_test.values.ravel()                  "
   ]
  },
  {
   "cell_type": "markdown",
   "metadata": {},
   "source": [
    "# "
   ]
  },
  {
   "cell_type": "markdown",
   "metadata": {},
   "source": [
    "# Random Forest Default Model - Entire Data Set"
   ]
  },
  {
   "cell_type": "code",
   "execution_count": 14,
   "metadata": {},
   "outputs": [
    {
     "name": "stdout",
     "output_type": "stream",
     "text": [
      "__________________________________\n",
      "Average number of nodes in the forest: 8153\n",
      "__________________________________\n",
      "Average depth trees in the forest: 28\n",
      " \n",
      " \n"
     ]
    },
    {
     "data": {
      "text/html": [
       "<div>\n",
       "<style scoped>\n",
       "    .dataframe tbody tr th:only-of-type {\n",
       "        vertical-align: middle;\n",
       "    }\n",
       "\n",
       "    .dataframe tbody tr th {\n",
       "        vertical-align: top;\n",
       "    }\n",
       "\n",
       "    .dataframe thead th {\n",
       "        text-align: right;\n",
       "    }\n",
       "</style>\n",
       "<table border=\"1\" class=\"dataframe\">\n",
       "  <thead>\n",
       "    <tr style=\"text-align: right;\">\n",
       "      <th></th>\n",
       "      <th>set hyperparams</th>\n",
       "    </tr>\n",
       "  </thead>\n",
       "  <tbody>\n",
       "    <tr>\n",
       "      <th>bootstrap</th>\n",
       "      <td>True</td>\n",
       "    </tr>\n",
       "    <tr>\n",
       "      <th>ccp_alpha</th>\n",
       "      <td>0.0</td>\n",
       "    </tr>\n",
       "    <tr>\n",
       "      <th>class_weight</th>\n",
       "      <td>None</td>\n",
       "    </tr>\n",
       "    <tr>\n",
       "      <th>criterion</th>\n",
       "      <td>gini</td>\n",
       "    </tr>\n",
       "    <tr>\n",
       "      <th>max_depth</th>\n",
       "      <td>None</td>\n",
       "    </tr>\n",
       "    <tr>\n",
       "      <th>max_features</th>\n",
       "      <td>sqrt</td>\n",
       "    </tr>\n",
       "    <tr>\n",
       "      <th>max_leaf_nodes</th>\n",
       "      <td>None</td>\n",
       "    </tr>\n",
       "    <tr>\n",
       "      <th>max_samples</th>\n",
       "      <td>None</td>\n",
       "    </tr>\n",
       "    <tr>\n",
       "      <th>min_impurity_decrease</th>\n",
       "      <td>0.0</td>\n",
       "    </tr>\n",
       "    <tr>\n",
       "      <th>min_samples_leaf</th>\n",
       "      <td>1</td>\n",
       "    </tr>\n",
       "    <tr>\n",
       "      <th>min_samples_split</th>\n",
       "      <td>2</td>\n",
       "    </tr>\n",
       "    <tr>\n",
       "      <th>min_weight_fraction_leaf</th>\n",
       "      <td>0.0</td>\n",
       "    </tr>\n",
       "    <tr>\n",
       "      <th>n_estimators</th>\n",
       "      <td>100</td>\n",
       "    </tr>\n",
       "    <tr>\n",
       "      <th>n_jobs</th>\n",
       "      <td>None</td>\n",
       "    </tr>\n",
       "    <tr>\n",
       "      <th>oob_score</th>\n",
       "      <td>False</td>\n",
       "    </tr>\n",
       "    <tr>\n",
       "      <th>random_state</th>\n",
       "      <td>None</td>\n",
       "    </tr>\n",
       "    <tr>\n",
       "      <th>verbose</th>\n",
       "      <td>0</td>\n",
       "    </tr>\n",
       "    <tr>\n",
       "      <th>warm_start</th>\n",
       "      <td>False</td>\n",
       "    </tr>\n",
       "  </tbody>\n",
       "</table>\n",
       "</div>"
      ],
      "text/plain": [
       "                         set hyperparams\n",
       "bootstrap                           True\n",
       "ccp_alpha                            0.0\n",
       "class_weight                        None\n",
       "criterion                           gini\n",
       "max_depth                           None\n",
       "max_features                        sqrt\n",
       "max_leaf_nodes                      None\n",
       "max_samples                         None\n",
       "min_impurity_decrease                0.0\n",
       "min_samples_leaf                       1\n",
       "min_samples_split                      2\n",
       "min_weight_fraction_leaf             0.0\n",
       "n_estimators                         100\n",
       "n_jobs                              None\n",
       "oob_score                          False\n",
       "random_state                        None\n",
       "verbose                                0\n",
       "warm_start                         False"
      ]
     },
     "metadata": {},
     "output_type": "display_data"
    }
   ],
   "source": [
    "# instantiate and fit the default RFC on all features\n",
    "rf_def = RandomForestClassifier()\n",
    "rf_def.fit(X_train, y_train)\n",
    "\n",
    "# predict target\n",
    "rf_def_y_train_pred = rf_def_all.predict(X_train)\n",
    "rf_def_y_test_pred = rf_def_all.predict(X_test)\n",
    "\n",
    "# Average number of nodes and depths of trees in the forest\n",
    "n_nodes = []\n",
    "depths = []\n",
    "\n",
    "for single_tree in rf_def.estimators_:\n",
    "    n_nodes.append(single_tree.tree_.node_count)\n",
    "    depths.append(single_tree.tree_.max_depth)\n",
    "\n",
    "print('__________________________________')\n",
    "print(f'Average number of nodes in the forest: {int(np.mean(n_nodes))}')\n",
    "print('__________________________________')\n",
    "print(f'Average depth trees in the forest: {int(np.mean(depths))}')\n",
    "print(' ')\n",
    "print(' ')\n",
    "\n",
    "model_hyperparams(rf_def)"
   ]
  },
  {
   "cell_type": "code",
   "execution_count": 12,
   "metadata": {},
   "outputs": [
    {
     "name": "stdout",
     "output_type": "stream",
     "text": [
      "*** Model Evaluation: Predicting Train-Labels ***\n",
      "Model Metrics and Normalized Confusion Matrix:\n",
      "_____________________\n",
      "Accuracy: 0.9904\n",
      "_____________________\n",
      "Weighted Quadratic Kappa: 0.9918\n"
     ]
    },
    {
     "data": {
      "image/png": "[encoded data removed]",
      "text/plain": [
       "<Figure size 640x480 with 2 Axes>"
      ]
     },
     "metadata": {},
     "output_type": "display_data"
    }
   ],
   "source": [
    "# Metrics predicting Train-Target\n",
    "print('*** Model Evaluation: Predicting Train-Labels ***')\n",
    "our_metrics(y_train, rf_def_y_train_pred)"
   ]
  },
  {
   "cell_type": "code",
   "execution_count": 13,
   "metadata": {},
   "outputs": [
    {
     "name": "stdout",
     "output_type": "stream",
     "text": [
      "*** Model Evaluation: Predicting Test-Labels ***\n",
      "Model Metrics and Normalized Confusion Matrix:\n",
      "_____________________\n",
      "Accuracy: 0.371\n",
      "_____________________\n",
      "Weighted Quadratic Kappa: 0.2478\n"
     ]
    },
    {
     "data": {
      "image/png": "[encoded data removed]",
      "text/plain": [
       "<Figure size 640x480 with 2 Axes>"
      ]
     },
     "metadata": {},
     "output_type": "display_data"
    }
   ],
   "source": [
    "# Metrics predicting Test-Target\n",
    "print('*** Model Evaluation: Predicting Test-Labels ***')\n",
    "our_metrics(y_test, rf_def_y_test_pred)"
   ]
  },
  {
   "cell_type": "markdown",
   "metadata": {},
   "source": [
    "# Random Forest Grid Search - Entire Data Set"
   ]
  },
  {
   "cell_type": "code",
   "execution_count": 18,
   "metadata": {},
   "outputs": [
    {
     "data": {
      "text/plain": [
       "Index(['type', 'sterilized', 'breed_type', 'vaccinated_dewormed', 'fee_bin',\n",
       "       'gender_0', 'gender_1', 'maturitysize_0', 'maturitysize_1',\n",
       "       'maturitysize_2', 'maturitysize_3', 'furlength_0', 'furlength_1',\n",
       "       'furlength_2', 'health_0', 'health_1', 'health_2', 'color_pattern_0',\n",
       "       'color_pattern_1', 'color_pattern_2', 'photoamt_11', 'age_bin',\n",
       "       'description_char'],\n",
       "      dtype='object')"
      ]
     },
     "execution_count": 18,
     "metadata": {},
     "output_type": "execute_result"
    }
   ],
   "source": [
    "X_test.columns"
   ]
  },
  {
   "cell_type": "code",
   "execution_count": 31,
   "metadata": {},
   "outputs": [
    {
     "data": {
      "text/plain": [
       "array([0.        , 0.33333333, 0.66666667, 1.        ])"
      ]
     },
     "execution_count": 31,
     "metadata": {},
     "output_type": "execute_result"
    }
   ],
   "source": []
  },
  {
   "cell_type": "code",
   "execution_count": null,
   "metadata": {},
   "outputs": [],
   "source": [
    "# Hyperparameter grid based on hyperparameters of the default model:\n",
    "\n",
    "# setting hyperparameter grid:\n",
    "# I want to increase the number of estimators (aka trees in the forest) \n",
    "# and prevent overfitting by pruning the trees (min observations per split and per leaf)\n",
    "param_grid = {\n",
    "    'n_estimators': [500],\n",
    "    'max_depth': [None] + list(np.linspace(10, 28, 18).astype(int)),\n",
    "    'max_features': [None] + list(np.arange(1,5)),\n",
    "    'min_samples_split': np.linspace(10, 100, 10).astype(int),\n",
    "    'min_samples_leaf': np.linspace(5, 50, 10).astype(int),\n",
    "    'bootstrap': [True, False]\n",
    "}\n",
    "\n",
    "# Estimator for use in random search\n",
    "estimator = RandomForestClassifier(random_state = RSEED)\n",
    "\n",
    "# Create the random search model for best accuracy_score and 50 fits:\n",
    "random_found_forest = RandomizedSearchCV(estimator, param_grid, n_jobs = -1, \n",
    "                        scoring = 'accuracy', cv = 5, \n",
    "                        n_iter = 10, verbose = 1, random_state=RSEED)\n",
    "\n",
    "# Fit best model estimated by random search to train data:\n",
    "random_found_forest.fit(X_train, y_train)"
   ]
  },
  {
   "cell_type": "markdown",
   "metadata": {},
   "source": [
    "# Feature Importance"
   ]
  },
  {
   "cell_type": "code",
   "execution_count": null,
   "metadata": {},
   "outputs": [
    {
     "ename": "NameError",
     "evalue": "name 'best_rs_model' is not defined",
     "output_type": "error",
     "traceback": [
      "\u001b[0;31m---------------------------------------------------------------------------\u001b[0m",
      "\u001b[0;31mNameError\u001b[0m                                 Traceback (most recent call last)",
      "Cell \u001b[0;32mIn[10], line 5\u001b[0m\n\u001b[1;32m      1\u001b[0m features \u001b[39m=\u001b[39m X_train\u001b[39m.\u001b[39mcolumns\u001b[39m.\u001b[39mtolist()\n\u001b[1;32m      3\u001b[0m \u001b[39m# data frame with feature names and feature importance scores, sorted by importance\u001b[39;00m\n\u001b[1;32m      4\u001b[0m feature_importance \u001b[39m=\u001b[39m pd\u001b[39m.\u001b[39mDataFrame({\u001b[39m'\u001b[39m\u001b[39mfeature\u001b[39m\u001b[39m'\u001b[39m: features,\n\u001b[0;32m----> 5\u001b[0m                    \u001b[39m'\u001b[39m\u001b[39mimportance\u001b[39m\u001b[39m'\u001b[39m: best_rs_model\u001b[39m.\u001b[39mfeature_importances_})\u001b[39m.\u001b[39m\\\n\u001b[1;32m      6\u001b[0m                     sort_values(\u001b[39m'\u001b[39m\u001b[39mimportance\u001b[39m\u001b[39m'\u001b[39m, ascending \u001b[39m=\u001b[39m \u001b[39mFalse\u001b[39;00m)\n\u001b[1;32m      7\u001b[0m \u001b[39m# show 10 most important features\u001b[39;00m\n\u001b[1;32m      8\u001b[0m feature_importance\u001b[39m.\u001b[39mhead(\u001b[39m10\u001b[39m)\n",
      "\u001b[0;31mNameError\u001b[0m: name 'best_rs_model' is not defined"
     ]
    }
   ],
   "source": [
    "features = X_train.columns.tolist()\n",
    "\n",
    "# data frame with feature names and feature importance scores, sorted by importance\n",
    "feature_importance = pd.DataFrame({'feature': features,\n",
    "                   'importance': best_rs_model.feature_importances_}).\\\n",
    "                    sort_values('importance', ascending = False)\n",
    "# show 10 most important features\n",
    "feature_importance.head(10)"
   ]
  }
 ],
 "metadata": {
  "kernelspec": {
   "display_name": ".venv",
   "language": "python",
   "name": "python3"
  },
  "language_info": {
   "codemirror_mode": {
    "name": "ipython",
    "version": 3
   },
   "file_extension": ".py",
   "mimetype": "text/x-python",
   "name": "python",
   "nbconvert_exporter": "python",
   "pygments_lexer": "ipython3",
   "version": "3.11.3"
  },
  "orig_nbformat": 4
 },
 "nbformat": 4,
 "nbformat_minor": 2
}
