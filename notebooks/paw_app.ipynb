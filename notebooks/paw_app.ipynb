{
 "cells": [
  {
   "cell_type": "code",
   "execution_count": 125,
   "metadata": {},
   "outputs": [],
   "source": [
    "import streamlit as st\n",
    "import pandas as pd\n",
    "import numpy as np\n",
    "import seaborn as sns\n",
    "import matplotlib.pyplot as plt\n",
    "\n",
    "from sklearn.ensemble import GradientBoostingClassifier\n",
    "from sklearn.preprocessing import MinMaxScaler\n",
    "from sklearn.model_selection import train_test_split\n",
    "\n",
    "# from sklearn import model_selection\n",
    "# from sklearn.linear_model import LogisticRegression\n",
    "import pickle"
   ]
  },
  {
   "cell_type": "code",
   "execution_count": 15,
   "metadata": {},
   "outputs": [],
   "source": [
    "# set seaborn options globally\n",
    "colors = ['#365b6d', '#41c1ba', '#289dd2', '#6c9286', '#f2f1ec', '#fa9939']\n",
    "custom_palette = sns.set_palette(sns.color_palette(colors))\n",
    "custom_params = {\"axes.facecolor\": \"#f2f1ec\", \n",
    "\"figure.facecolor\": \"#f2f1ec\",\n",
    "'figure.titleweight': 'bold',\n",
    "'figure.titlesize': 28,#'large',\n",
    "'grid.alpha': 1.0,\n",
    "'font.size': 16.0,\n",
    "'font.weight': 'bold',\n",
    "'axes.labelsize': 16,\n",
    "'axes.labelcolor': '#365b6d',\n",
    "'axes.titlepad': 10.0,\n",
    "'axes.titlesize': 'large',\n",
    "'xtick.labelsize': 16,\n",
    "'xtick.color': '#365b6d',\n",
    "'xtick.bottom': True,\n",
    "'ytick.labelsize': 16,\n",
    "'ytick.color': '#365b6d',\n",
    "'ytick.left': True,\n",
    "'text.color' : '#365b6d',\n",
    "#'legend.labelcolor': '#365b6d',\n",
    "'legend.title_fontsize': 12.0,\n",
    "'legend.frameon': False,\n",
    "'axes.linewidth': 3,#0.8,\n",
    "'axes.spines.left': True,\n",
    "'axes.spines.bottom': True,\n",
    "'axes.spines.right': True,\n",
    "'axes.spines.top': True,\n",
    "'axes.edgecolor': '#365b6d',\n",
    "'axes.labelweight': 'bold',\n",
    "'axes.titleweight': 'bold',\n",
    "'patch.edgecolor': '#f2f1ec'\n",
    "}\n",
    "sns.set_theme(style=\"white\", palette=colors, rc=custom_params)"
   ]
  },
  {
   "cell_type": "code",
   "execution_count": 16,
   "metadata": {},
   "outputs": [],
   "source": [
    "st.write(\"\"\"\n",
    "# My first app\n",
    "Hello *world!*\n",
    "\"\"\")\n",
    " \n",
    "# df = pd.read_csv(\"my_data.csv\")\n",
    "# st.line_chart(df)"
   ]
  },
  {
   "cell_type": "code",
   "execution_count": 17,
   "metadata": {},
   "outputs": [
    {
     "name": "stderr",
     "output_type": "stream",
     "text": [
      "/Users/lanacasselmann/neuefische/ds_capstone_pet_adoptability/.venv/lib/python3.11/site-packages/sklearn/ensemble/_gb.py:437: DataConversionWarning: A column-vector y was passed when a 1d array was expected. Please change the shape of y to (n_samples, ), for example using ravel().\n",
      "  y = column_or_1d(y, warn=True)\n"
     ]
    },
    {
     "data": {
      "text/html": [
       "<style>#sk-container-id-2 {color: black;background-color: white;}#sk-container-id-2 pre{padding: 0;}#sk-container-id-2 div.sk-toggleable {background-color: white;}#sk-container-id-2 label.sk-toggleable__label {cursor: pointer;display: block;width: 100%;margin-bottom: 0;padding: 0.3em;box-sizing: border-box;text-align: center;}#sk-container-id-2 label.sk-toggleable__label-arrow:before {content: \"▸\";float: left;margin-right: 0.25em;color: #696969;}#sk-container-id-2 label.sk-toggleable__label-arrow:hover:before {color: black;}#sk-container-id-2 div.sk-estimator:hover label.sk-toggleable__label-arrow:before {color: black;}#sk-container-id-2 div.sk-toggleable__content {max-height: 0;max-width: 0;overflow: hidden;text-align: left;background-color: #f0f8ff;}#sk-container-id-2 div.sk-toggleable__content pre {margin: 0.2em;color: black;border-radius: 0.25em;background-color: #f0f8ff;}#sk-container-id-2 input.sk-toggleable__control:checked~div.sk-toggleable__content {max-height: 200px;max-width: 100%;overflow: auto;}#sk-container-id-2 input.sk-toggleable__control:checked~label.sk-toggleable__label-arrow:before {content: \"▾\";}#sk-container-id-2 div.sk-estimator input.sk-toggleable__control:checked~label.sk-toggleable__label {background-color: #d4ebff;}#sk-container-id-2 div.sk-label input.sk-toggleable__control:checked~label.sk-toggleable__label {background-color: #d4ebff;}#sk-container-id-2 input.sk-hidden--visually {border: 0;clip: rect(1px 1px 1px 1px);clip: rect(1px, 1px, 1px, 1px);height: 1px;margin: -1px;overflow: hidden;padding: 0;position: absolute;width: 1px;}#sk-container-id-2 div.sk-estimator {font-family: monospace;background-color: #f0f8ff;border: 1px dotted black;border-radius: 0.25em;box-sizing: border-box;margin-bottom: 0.5em;}#sk-container-id-2 div.sk-estimator:hover {background-color: #d4ebff;}#sk-container-id-2 div.sk-parallel-item::after {content: \"\";width: 100%;border-bottom: 1px solid gray;flex-grow: 1;}#sk-container-id-2 div.sk-label:hover label.sk-toggleable__label {background-color: #d4ebff;}#sk-container-id-2 div.sk-serial::before {content: \"\";position: absolute;border-left: 1px solid gray;box-sizing: border-box;top: 0;bottom: 0;left: 50%;z-index: 0;}#sk-container-id-2 div.sk-serial {display: flex;flex-direction: column;align-items: center;background-color: white;padding-right: 0.2em;padding-left: 0.2em;position: relative;}#sk-container-id-2 div.sk-item {position: relative;z-index: 1;}#sk-container-id-2 div.sk-parallel {display: flex;align-items: stretch;justify-content: center;background-color: white;position: relative;}#sk-container-id-2 div.sk-item::before, #sk-container-id-2 div.sk-parallel-item::before {content: \"\";position: absolute;border-left: 1px solid gray;box-sizing: border-box;top: 0;bottom: 0;left: 50%;z-index: -1;}#sk-container-id-2 div.sk-parallel-item {display: flex;flex-direction: column;z-index: 1;position: relative;background-color: white;}#sk-container-id-2 div.sk-parallel-item:first-child::after {align-self: flex-end;width: 50%;}#sk-container-id-2 div.sk-parallel-item:last-child::after {align-self: flex-start;width: 50%;}#sk-container-id-2 div.sk-parallel-item:only-child::after {width: 0;}#sk-container-id-2 div.sk-dashed-wrapped {border: 1px dashed gray;margin: 0 0.4em 0.5em 0.4em;box-sizing: border-box;padding-bottom: 0.4em;background-color: white;}#sk-container-id-2 div.sk-label label {font-family: monospace;font-weight: bold;display: inline-block;line-height: 1.2em;}#sk-container-id-2 div.sk-label-container {text-align: center;}#sk-container-id-2 div.sk-container {/* jupyter's `normalize.less` sets `[hidden] { display: none; }` but bootstrap.min.css set `[hidden] { display: none !important; }` so we also need the `!important` here to be able to override the default hidden behavior on the sphinx rendered scikit-learn.org. See: https://github.com/scikit-learn/scikit-learn/issues/21755 */display: inline-block !important;position: relative;}#sk-container-id-2 div.sk-text-repr-fallback {display: none;}</style><div id=\"sk-container-id-2\" class=\"sk-top-container\"><div class=\"sk-text-repr-fallback\"><pre>GradientBoostingClassifier(learning_rate=0.025, max_depth=5,\n",
       "                           max_features=&#x27;log2&#x27;, max_leaf_nodes=31,\n",
       "                           n_estimators=200, random_state=42, subsample=1)</pre><b>In a Jupyter environment, please rerun this cell to show the HTML representation or trust the notebook. <br />On GitHub, the HTML representation is unable to render, please try loading this page with nbviewer.org.</b></div><div class=\"sk-container\" hidden><div class=\"sk-item\"><div class=\"sk-estimator sk-toggleable\"><input class=\"sk-toggleable__control sk-hidden--visually\" id=\"sk-estimator-id-2\" type=\"checkbox\" checked><label for=\"sk-estimator-id-2\" class=\"sk-toggleable__label sk-toggleable__label-arrow\">GradientBoostingClassifier</label><div class=\"sk-toggleable__content\"><pre>GradientBoostingClassifier(learning_rate=0.025, max_depth=5,\n",
       "                           max_features=&#x27;log2&#x27;, max_leaf_nodes=31,\n",
       "                           n_estimators=200, random_state=42, subsample=1)</pre></div></div></div></div></div>"
      ],
      "text/plain": [
       "GradientBoostingClassifier(learning_rate=0.025, max_depth=5,\n",
       "                           max_features='log2', max_leaf_nodes=31,\n",
       "                           n_estimators=200, random_state=42, subsample=1)"
      ]
     },
     "execution_count": 17,
     "metadata": {},
     "output_type": "execute_result"
    }
   ],
   "source": [
    "# import processed data set to csv\n",
    "\n",
    "# import features for tree-based models\n",
    "X_train_comb = pd.read_csv('../data/petfinder-adoption-prediction/train/X_train_minmax_scaled_processed.csv')\n",
    "X_test_comb =pd.read_csv('../data/petfinder-adoption-prediction/train/X_test_minmax_scaled_processed.csv')\n",
    "\n",
    "# import unscaled data for Scaler training\n",
    "\n",
    "\n",
    "# import target\n",
    "y_train_comb = pd.read_csv('../data/petfinder-adoption-prediction/train/y_train.csv')\n",
    "y_test_comb = pd.read_csv('../data/petfinder-adoption-prediction/train/y_test.csv')\n",
    "\n",
    "gbc = GradientBoostingClassifier(n_estimators=200,subsample=1, max_leaf_nodes=31, max_features='log2', max_depth=5, loss = 'log_loss', learning_rate=0.025, random_state=42)\n",
    "gbc.fit(X_train_comb,y_train_comb)"
   ]
  },
  {
   "cell_type": "code",
   "execution_count": 18,
   "metadata": {},
   "outputs": [],
   "source": [
    "# Save Model Using Pickle\n",
    "# save the model to disk\n",
    "filename = 'gbc.sav'\n",
    "# methods for opening a file: \"r\" - Read - Default value. Opens a file for reading, error if the file does not exist\n",
    "# \"a\" - Append - Opens a file for appending, creates the file if it does not exist\n",
    "# \"w\" - Write - Opens a file for writing, creates the file if it does not exist\n",
    "# \"x\" - Create - Creates the specified file, returns an error if the file exists\n",
    "# In addition you can specify if the file should be handled as binary or text mode\n",
    "# \"t\" - Text - Default value. Text mode\n",
    "# \"b\" - Binary - Binary mode (e.g. images)\n",
    "pickle.dump(gbc, open(filename, 'wb'))"
   ]
  },
  {
   "cell_type": "code",
   "execution_count": 126,
   "metadata": {},
   "outputs": [],
   "source": [
    "# train scaler\n",
    "# import df_eda = df_dropped \n",
    "df_eda = pd.read_csv('../data/petfinder-adoption-prediction/eda/df_eda.csv')\n",
    "X_processed = df_eda.drop('adoptionspeed', axis=1)\n",
    "#train test split with X_processed\n",
    "y = df_eda[\"adoptionspeed\"]\n",
    "X_train_processed, X_test_processed, y_train, y_test = train_test_split(X_processed, y, random_state=42, stratify=y)"
   ]
  },
  {
   "cell_type": "code",
   "execution_count": 127,
   "metadata": {},
   "outputs": [
    {
     "data": {
      "text/html": [
       "<style>#sk-container-id-3 {color: black;background-color: white;}#sk-container-id-3 pre{padding: 0;}#sk-container-id-3 div.sk-toggleable {background-color: white;}#sk-container-id-3 label.sk-toggleable__label {cursor: pointer;display: block;width: 100%;margin-bottom: 0;padding: 0.3em;box-sizing: border-box;text-align: center;}#sk-container-id-3 label.sk-toggleable__label-arrow:before {content: \"▸\";float: left;margin-right: 0.25em;color: #696969;}#sk-container-id-3 label.sk-toggleable__label-arrow:hover:before {color: black;}#sk-container-id-3 div.sk-estimator:hover label.sk-toggleable__label-arrow:before {color: black;}#sk-container-id-3 div.sk-toggleable__content {max-height: 0;max-width: 0;overflow: hidden;text-align: left;background-color: #f0f8ff;}#sk-container-id-3 div.sk-toggleable__content pre {margin: 0.2em;color: black;border-radius: 0.25em;background-color: #f0f8ff;}#sk-container-id-3 input.sk-toggleable__control:checked~div.sk-toggleable__content {max-height: 200px;max-width: 100%;overflow: auto;}#sk-container-id-3 input.sk-toggleable__control:checked~label.sk-toggleable__label-arrow:before {content: \"▾\";}#sk-container-id-3 div.sk-estimator input.sk-toggleable__control:checked~label.sk-toggleable__label {background-color: #d4ebff;}#sk-container-id-3 div.sk-label input.sk-toggleable__control:checked~label.sk-toggleable__label {background-color: #d4ebff;}#sk-container-id-3 input.sk-hidden--visually {border: 0;clip: rect(1px 1px 1px 1px);clip: rect(1px, 1px, 1px, 1px);height: 1px;margin: -1px;overflow: hidden;padding: 0;position: absolute;width: 1px;}#sk-container-id-3 div.sk-estimator {font-family: monospace;background-color: #f0f8ff;border: 1px dotted black;border-radius: 0.25em;box-sizing: border-box;margin-bottom: 0.5em;}#sk-container-id-3 div.sk-estimator:hover {background-color: #d4ebff;}#sk-container-id-3 div.sk-parallel-item::after {content: \"\";width: 100%;border-bottom: 1px solid gray;flex-grow: 1;}#sk-container-id-3 div.sk-label:hover label.sk-toggleable__label {background-color: #d4ebff;}#sk-container-id-3 div.sk-serial::before {content: \"\";position: absolute;border-left: 1px solid gray;box-sizing: border-box;top: 0;bottom: 0;left: 50%;z-index: 0;}#sk-container-id-3 div.sk-serial {display: flex;flex-direction: column;align-items: center;background-color: white;padding-right: 0.2em;padding-left: 0.2em;position: relative;}#sk-container-id-3 div.sk-item {position: relative;z-index: 1;}#sk-container-id-3 div.sk-parallel {display: flex;align-items: stretch;justify-content: center;background-color: white;position: relative;}#sk-container-id-3 div.sk-item::before, #sk-container-id-3 div.sk-parallel-item::before {content: \"\";position: absolute;border-left: 1px solid gray;box-sizing: border-box;top: 0;bottom: 0;left: 50%;z-index: -1;}#sk-container-id-3 div.sk-parallel-item {display: flex;flex-direction: column;z-index: 1;position: relative;background-color: white;}#sk-container-id-3 div.sk-parallel-item:first-child::after {align-self: flex-end;width: 50%;}#sk-container-id-3 div.sk-parallel-item:last-child::after {align-self: flex-start;width: 50%;}#sk-container-id-3 div.sk-parallel-item:only-child::after {width: 0;}#sk-container-id-3 div.sk-dashed-wrapped {border: 1px dashed gray;margin: 0 0.4em 0.5em 0.4em;box-sizing: border-box;padding-bottom: 0.4em;background-color: white;}#sk-container-id-3 div.sk-label label {font-family: monospace;font-weight: bold;display: inline-block;line-height: 1.2em;}#sk-container-id-3 div.sk-label-container {text-align: center;}#sk-container-id-3 div.sk-container {/* jupyter's `normalize.less` sets `[hidden] { display: none; }` but bootstrap.min.css set `[hidden] { display: none !important; }` so we also need the `!important` here to be able to override the default hidden behavior on the sphinx rendered scikit-learn.org. See: https://github.com/scikit-learn/scikit-learn/issues/21755 */display: inline-block !important;position: relative;}#sk-container-id-3 div.sk-text-repr-fallback {display: none;}</style><div id=\"sk-container-id-3\" class=\"sk-top-container\"><div class=\"sk-text-repr-fallback\"><pre>MinMaxScaler()</pre><b>In a Jupyter environment, please rerun this cell to show the HTML representation or trust the notebook. <br />On GitHub, the HTML representation is unable to render, please try loading this page with nbviewer.org.</b></div><div class=\"sk-container\" hidden><div class=\"sk-item\"><div class=\"sk-estimator sk-toggleable\"><input class=\"sk-toggleable__control sk-hidden--visually\" id=\"sk-estimator-id-3\" type=\"checkbox\" checked><label for=\"sk-estimator-id-3\" class=\"sk-toggleable__label sk-toggleable__label-arrow\">MinMaxScaler</label><div class=\"sk-toggleable__content\"><pre>MinMaxScaler()</pre></div></div></div></div></div>"
      ],
      "text/plain": [
       "MinMaxScaler()"
      ]
     },
     "execution_count": 127,
     "metadata": {},
     "output_type": "execute_result"
    }
   ],
   "source": [
    "minmax_scaler = MinMaxScaler()\n",
    "# scaled the 3 features \n",
    "num_features = ['photoamt_11', 'age_bin', 'description_char']\n",
    "#scaling with the processed data with all dummy columns\n",
    "minmax_scaler.fit(X_train_processed[num_features])"
   ]
  },
  {
   "cell_type": "code",
   "execution_count": 128,
   "metadata": {},
   "outputs": [],
   "source": [
    "pickle.dump(minmax_scaler, open('scaler.sav', 'wb'))"
   ]
  },
  {
   "cell_type": "code",
   "execution_count": 122,
   "metadata": {},
   "outputs": [
    {
     "data": {
      "text/plain": [
       "['type',\n",
       " 'gender',\n",
       " 'sterilized',\n",
       " 'breed_type',\n",
       " 'vaccinated_dewormed',\n",
       " 'fee_bin',\n",
       " 'maturitysize_0',\n",
       " 'maturitysize_1',\n",
       " 'maturitysize_2',\n",
       " 'maturitysize_3',\n",
       " 'furlength_0',\n",
       " 'furlength_1',\n",
       " 'furlength_2',\n",
       " 'health_0',\n",
       " 'health_1',\n",
       " 'health_2',\n",
       " 'color_pattern_0',\n",
       " 'color_pattern_1',\n",
       " 'color_pattern_2',\n",
       " 'photoamt_11',\n",
       " 'age_bin',\n",
       " 'description_char']"
      ]
     },
     "execution_count": 122,
     "metadata": {},
     "output_type": "execute_result"
    }
   ],
   "source": [
    "X_train_comb.columns.to_list()"
   ]
  },
  {
   "cell_type": "code",
   "execution_count": 23,
   "metadata": {},
   "outputs": [],
   "source": [
    "df_comb = X_train_comb.copy()\n",
    "df_comb['adoptionspeed']=y_train_comb"
   ]
  },
  {
   "cell_type": "code",
   "execution_count": 33,
   "metadata": {},
   "outputs": [],
   "source": [
    "type_bin = 0"
   ]
  },
  {
   "cell_type": "code",
   "execution_count": 35,
   "metadata": {},
   "outputs": [
    {
     "data": {
      "image/png": "[encoded data removed]",
      "text/plain": [
       "<Figure size 2000x800 with 1 Axes>"
      ]
     },
     "metadata": {},
     "output_type": "display_data"
    }
   ],
   "source": [
    "fig = plt.figure(figsize=(20,8))\n",
    "speed_plot = sns.histplot(\n",
    "    data=df_comb.query('type==@type_bin'), \n",
    "    x='adoptionspeed', stat='proportion', discrete=True,\n",
    "#    y = 'accuracy',\n",
    "    color='#41c1ba',\n",
    "    shrink=.8\n",
    "    )\n",
    "plt.xlabel('Adoptionspeed')\n",
    "#plt.ylabel('Accuracy')\n",
    "#plt.title('Model Performance on Target Groups')#, fontsize=24)\n",
    "for g in speed_plot.patches:\n",
    "    speed_plot.annotate(format(g.get_height(), '.2f'),\n",
    "                   (g.get_x() + g.get_width() / 2., g.get_height()),\n",
    "                   ha = 'center', va = 'center',\n",
    "                   xytext = (0, -20),\n",
    "                   textcoords = 'offset points',\n",
    "                   color = '#f2f1ec')\n",
    "plt.xticks(ticks=np.linspace(1,4,4))\n",
    "plt.xlim([0.5, 4.5])\n",
    "speed_plot.set_xticklabels(['First Week','First Month','First Three Month','Not Adopted after 100 Days'])\n",
    "plt.show();"
   ]
  },
  {
   "cell_type": "code",
   "execution_count": 37,
   "metadata": {},
   "outputs": [],
   "source": []
  },
  {
   "cell_type": "code",
   "execution_count": 39,
   "metadata": {},
   "outputs": [
    {
     "data": {
      "text/plain": [
       "'The Distribution of Adoption Speeds for Animals that are Dogs'"
      ]
     },
     "execution_count": 39,
     "metadata": {},
     "output_type": "execute_result"
    }
   ],
   "source": [
    "f'The Distribution of Adoption Speeds for Animals that are {type_in}'"
   ]
  },
  {
   "cell_type": "code",
   "execution_count": 119,
   "metadata": {},
   "outputs": [],
   "source": [
    "type_in = 'Cat'#'Dog'\n",
    "type_bin = 0 if type_in == 'Dog' else 1\n",
    "\n",
    "gender_in = 'Female'#'Male'\n",
    "gender_bin = 0 if gender_in == 'Male' else 1\n",
    "\n",
    "sterilized_in = 'Yes'\n",
    "sterilized_in_bin = 0 if sterilized_in == 'Yes' else 1\n",
    "\n",
    "breed_type_in = 'Mixed'#'Pure' \n",
    "breed_type_bin = 0 if breed_type_in == 'Pure' else 1\n",
    "\n",
    "vaccinated_dewormed_in = 'Neither'#'Partly'# 'Fully' ])\n",
    "vaccinated_dewormed_bin = 0 if vaccinated_dewormed_in == 'Fully' else 1 if vaccinated_dewormed_in == 'Partly' else 2\n",
    "\n",
    "fee_bin_in = 'No'#'Yes'#, ])\n",
    "fee_bin_bin = 0 if fee_bin_in == 'No' else 1\n",
    "\n",
    "maturitysize_in = 'Extra Large'#'Small','Medium', 'Large','Extra Large'])\n",
    "maturitysize_0_bin = 1 if maturitysize_in == 'Small' else 0\n",
    "maturitysize_1_bin = 1 if maturitysize_in == 'Medium' else 0\n",
    "maturitysize_2_bin = 1 if maturitysize_in == 'Large' else 0\n",
    "maturitysize_3_bin = 1 if maturitysize_in == 'Extra Large' else 0\n",
    "\n",
    "furlength_in = 'Long'#'Short', 'Medium', 'Long'])\n",
    "furlength_0_bin = 1 if furlength_in == 'Short' else 0\n",
    "furlength_1_bin = 1 if furlength_in == 'Medium' else 0\n",
    "furlength_2_bin = 1 if furlength_in == 'Long' else 0\n",
    "\n",
    "health_in = 'Serious Injury'#'Healthy', 'Minor Injury', 'Serious Injury'])\n",
    "health_0_bin = 1 if health_in == 'Healthy' else 0\n",
    "health_1_bin = 1 if health_in == 'Minor Injury' else 0\n",
    "health_2_bin = 1 if health_in == 'Serious Injury' else 0\n",
    "\n",
    "color_pattern_in = 'Light'#'Dark', 'Mixed', 'Light'])\n",
    "color_pattern_0_bin = 1 if color_pattern_in == 'Dark' else 0\n",
    "color_pattern_1_bin = 1 if color_pattern_in == 'Light' else 0\n",
    "color_pattern_2_bin = 1 if color_pattern_in == 'Mixed' else 0\n",
    "\n",
    "photoamt_in = 44\n",
    "photoamt_11_bin = photoamt_in if photoamt_in <= 11 else 11\n",
    "\n",
    "age_in = 3\n",
    "age_bin_bin = 0 if age_in <= 3 else 1 if age_in <= 12 else 2 if age_in <= 72 else 3\n",
    "# newborn: 0-3 months higher adoption speeds up to this age on average (0)\n",
    "# puppy/kitten 4-12 (1)\n",
    "# adult 13-72 month (2)\n",
    "# senior: >= 73 (3)\n",
    "\n",
    "description_in = '#### '\n",
    "description_char = len(description_in)"
   ]
  },
  {
   "cell_type": "code",
   "execution_count": 120,
   "metadata": {},
   "outputs": [],
   "source": [
    "d =     {'type' : [type_bin],\n",
    "        'gender' : [gender_bin],\n",
    "        'sterilized' : [sterilized_in_bin],\n",
    "        'breed_type' : [breed_type_bin],\n",
    "        'vaccinated_dewormed' : [vaccinated_dewormed_bin],\n",
    "        'fee_bin' : [fee_bin_bin],\n",
    "        'maturitysize_0' : [maturitysize_0_bin],\n",
    "        'maturitysize_1' : [maturitysize_1_bin],\n",
    "        'maturitysize_2' : [maturitysize_2_bin],\n",
    "        'maturitysize_3' : [maturitysize_3_bin],\n",
    "        'furlength_0' : [furlength_0_bin],\n",
    "        'furlength_1' : [furlength_1_bin],\n",
    "        'furlength_2' : [furlength_2_bin],\n",
    "        'health_0' : [health_0_bin],\n",
    "        'health_1' : [health_1_bin],\n",
    "        'health_2' : [health_2_bin],\n",
    "        'color_pattern_0' : [color_pattern_0_bin],\n",
    "        'color_pattern_1' : [color_pattern_1_bin],\n",
    "        'color_pattern_2' : [color_pattern_2_bin],\n",
    "        'photoamt_11' : [photoamt_11_bin],\n",
    "        'age_bin' : [age_bin_bin],\n",
    "        'description_char' : [description_char]}\n",
    "df_new = pd.DataFrame(data=d)"
   ]
  },
  {
   "cell_type": "code",
   "execution_count": 121,
   "metadata": {},
   "outputs": [
    {
     "data": {
      "text/html": [
       "<div>\n",
       "<style scoped>\n",
       "    .dataframe tbody tr th:only-of-type {\n",
       "        vertical-align: middle;\n",
       "    }\n",
       "\n",
       "    .dataframe tbody tr th {\n",
       "        vertical-align: top;\n",
       "    }\n",
       "\n",
       "    .dataframe thead th {\n",
       "        text-align: right;\n",
       "    }\n",
       "</style>\n",
       "<table border=\"1\" class=\"dataframe\">\n",
       "  <thead>\n",
       "    <tr style=\"text-align: right;\">\n",
       "      <th></th>\n",
       "      <th>0</th>\n",
       "    </tr>\n",
       "  </thead>\n",
       "  <tbody>\n",
       "    <tr>\n",
       "      <th>type</th>\n",
       "      <td>1</td>\n",
       "    </tr>\n",
       "    <tr>\n",
       "      <th>gender</th>\n",
       "      <td>1</td>\n",
       "    </tr>\n",
       "    <tr>\n",
       "      <th>sterilized</th>\n",
       "      <td>0</td>\n",
       "    </tr>\n",
       "    <tr>\n",
       "      <th>breed_type</th>\n",
       "      <td>1</td>\n",
       "    </tr>\n",
       "    <tr>\n",
       "      <th>vaccinated_dewormed</th>\n",
       "      <td>2</td>\n",
       "    </tr>\n",
       "    <tr>\n",
       "      <th>fee_bin</th>\n",
       "      <td>0</td>\n",
       "    </tr>\n",
       "    <tr>\n",
       "      <th>maturitysize_0</th>\n",
       "      <td>0</td>\n",
       "    </tr>\n",
       "    <tr>\n",
       "      <th>maturitysize_1</th>\n",
       "      <td>0</td>\n",
       "    </tr>\n",
       "    <tr>\n",
       "      <th>maturitysize_2</th>\n",
       "      <td>0</td>\n",
       "    </tr>\n",
       "    <tr>\n",
       "      <th>maturitysize_3</th>\n",
       "      <td>1</td>\n",
       "    </tr>\n",
       "    <tr>\n",
       "      <th>furlength_0</th>\n",
       "      <td>0</td>\n",
       "    </tr>\n",
       "    <tr>\n",
       "      <th>furlength_1</th>\n",
       "      <td>0</td>\n",
       "    </tr>\n",
       "    <tr>\n",
       "      <th>furlength_2</th>\n",
       "      <td>1</td>\n",
       "    </tr>\n",
       "    <tr>\n",
       "      <th>health_0</th>\n",
       "      <td>0</td>\n",
       "    </tr>\n",
       "    <tr>\n",
       "      <th>health_1</th>\n",
       "      <td>0</td>\n",
       "    </tr>\n",
       "    <tr>\n",
       "      <th>health_2</th>\n",
       "      <td>1</td>\n",
       "    </tr>\n",
       "    <tr>\n",
       "      <th>color_pattern_0</th>\n",
       "      <td>0</td>\n",
       "    </tr>\n",
       "    <tr>\n",
       "      <th>color_pattern_1</th>\n",
       "      <td>1</td>\n",
       "    </tr>\n",
       "    <tr>\n",
       "      <th>color_pattern_2</th>\n",
       "      <td>0</td>\n",
       "    </tr>\n",
       "    <tr>\n",
       "      <th>photoamt_11</th>\n",
       "      <td>11</td>\n",
       "    </tr>\n",
       "    <tr>\n",
       "      <th>age_bin</th>\n",
       "      <td>0</td>\n",
       "    </tr>\n",
       "    <tr>\n",
       "      <th>description_char</th>\n",
       "      <td>5</td>\n",
       "    </tr>\n",
       "  </tbody>\n",
       "</table>\n",
       "</div>"
      ],
      "text/plain": [
       "                      0\n",
       "type                  1\n",
       "gender                1\n",
       "sterilized            0\n",
       "breed_type            1\n",
       "vaccinated_dewormed   2\n",
       "fee_bin               0\n",
       "maturitysize_0        0\n",
       "maturitysize_1        0\n",
       "maturitysize_2        0\n",
       "maturitysize_3        1\n",
       "furlength_0           0\n",
       "furlength_1           0\n",
       "furlength_2           1\n",
       "health_0              0\n",
       "health_1              0\n",
       "health_2              1\n",
       "color_pattern_0       0\n",
       "color_pattern_1       1\n",
       "color_pattern_2       0\n",
       "photoamt_11          11\n",
       "age_bin               0\n",
       "description_char      5"
      ]
     },
     "execution_count": 121,
     "metadata": {},
     "output_type": "execute_result"
    }
   ],
   "source": [
    "df_new.T"
   ]
  },
  {
   "cell_type": "code",
   "execution_count": null,
   "metadata": {},
   "outputs": [],
   "source": []
  }
 ],
 "metadata": {
  "kernelspec": {
   "display_name": ".venv",
   "language": "python",
   "name": "python3"
  },
  "language_info": {
   "codemirror_mode": {
    "name": "ipython",
    "version": 3
   },
   "file_extension": ".py",
   "mimetype": "text/x-python",
   "name": "python",
   "nbconvert_exporter": "python",
   "pygments_lexer": "ipython3",
   "version": "3.11.3"
  },
  "orig_nbformat": 4
 },
 "nbformat": 4,
 "nbformat_minor": 2
}
